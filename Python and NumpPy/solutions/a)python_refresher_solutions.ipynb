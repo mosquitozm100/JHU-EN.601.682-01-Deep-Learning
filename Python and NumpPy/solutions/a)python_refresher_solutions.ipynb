{
 "cells": [
  {
   "cell_type": "code",
   "execution_count": 1,
   "metadata": {
    "colab": {},
    "colab_type": "code",
    "id": "f4S5TWnX-0Pz"
   },
   "outputs": [],
   "source": [
    "# Use matplotlib's inline backend, which creates and inserts\n",
    "# plots directly below our Jupyter cells.\n",
    "%matplotlib inline\n",
    "import matplotlib.pyplot as plt\n",
    "from statistics import mean, stdev"
   ]
  },
  {
   "cell_type": "markdown",
   "metadata": {
    "colab_type": "text",
    "id": "MMTK3I9s-0P9"
   },
   "source": [
    "### Read This First"
   ]
  },
  {
   "cell_type": "markdown",
   "metadata": {
    "colab_type": "text",
    "id": "VBmzgRvv-0P_"
   },
   "source": [
    "#### You are allowed to import modules, but only from the Python 3 standard library. For example, do *not* import numpy, torch, etc. (The only exception is `matplotlib`, which we have already imported above.)\n",
    "\n",
    "#### Remember that `tab` is is useful for autocompletion.\n",
    "\n",
    "#### Remember that `shift + tab` is useful for rapidly obtaining usage + documentation."
   ]
  },
  {
   "cell_type": "markdown",
   "metadata": {
    "colab_type": "text",
    "id": "curg6et5-0QC"
   },
   "source": [
    "### Moving Averages, Padding, and Edge Effects"
   ]
  },
  {
   "cell_type": "markdown",
   "metadata": {
    "colab_type": "text",
    "id": "NF2Tt9Oh-0QE"
   },
   "source": [
    "#### Complete the `moving_average` function below, which computes the moving average of a 1-D input signal. (See the examples in the documentation if you're unfamiliar with moving averages.)"
   ]
  },
  {
   "cell_type": "code",
   "execution_count": 2,
   "metadata": {
    "colab": {},
    "colab_type": "code",
    "id": "mVF_Euz3-0QH"
   },
   "outputs": [],
   "source": [
    "def moving_average(x, window_size=3):\n",
    "    \"\"\" Compute a moving average.\n",
    "    \n",
    "    Example 1: moving_average([1.0, 2.0, 3.0, 4.0, 5.0, 6.0], window_size=3) returns\n",
    "        [(1 + 2 + 3) / 3, (2 + 3 + 4) / 3, (3 + 4 + 5) / 3, (4 + 5 + 6) / 3]\n",
    "        which is [2.0, 3.0, 4.0, 5.0].\n",
    "    \n",
    "    Example 2: moving_average([1.0, 2.0, 3.0, 4.0, 5.0, 6.0], window_size=5) returns\n",
    "        [(1 + 2 + 3 + 4 + 5) / 5, (2 + 3 + 4 + 5 + 6) / 5]\n",
    "        which is [3.0, 4.0].\n",
    "    \n",
    "    Args:\n",
    "        x: A list of floats.\n",
    "        window_size: A positive, odd integer.\n",
    "        \n",
    "    Returns:\n",
    "        A list of floats.\n",
    "    \"\"\"\n",
    "    if window_size % 2 != 1:\n",
    "        raise ValueError('window_size must be odd.')\n",
    "    if window_size > len(x):\n",
    "        raise ValueError('window_size should be smaller than len(x).')\n",
    "    \n",
    "    y = [mean(sub_list) for sub_list \\\n",
    "         in zip(*[x[i:] for i in range(window_size)])]\n",
    "    \n",
    "    return y"
   ]
  },
  {
   "cell_type": "markdown",
   "metadata": {
    "colab_type": "text",
    "id": "w4-pmr6--0QO"
   },
   "source": [
    "#### Print the outputs from your `moving_average` function when run on the inputs given in the documentation.\n",
    "\n",
    "Verify that they match the expected outputs that are given in the documentation."
   ]
  },
  {
   "cell_type": "code",
   "execution_count": 3,
   "metadata": {
    "colab": {
     "base_uri": "https://localhost:8080/",
     "height": 34
    },
    "colab_type": "code",
    "id": "GQGmi885-0QQ",
    "outputId": "2cdd3f52-5b0d-4716-cc25-fb68ac904c45"
   },
   "outputs": [
    {
     "data": {
      "text/plain": [
       "[2.0, 3.0, 4.0, 5.0]"
      ]
     },
     "execution_count": 3,
     "metadata": {},
     "output_type": "execute_result"
    }
   ],
   "source": [
    "moving_average([1.0, 2.0, 3.0, 4.0, 5.0, 6.0], window_size=3)"
   ]
  },
  {
   "cell_type": "code",
   "execution_count": 4,
   "metadata": {
    "colab": {
     "base_uri": "https://localhost:8080/",
     "height": 34
    },
    "colab_type": "code",
    "id": "o53UB3-yZvqZ",
    "outputId": "4d744ab0-7012-40a8-a01a-a423738a109e"
   },
   "outputs": [
    {
     "data": {
      "text/plain": [
       "[3.0, 4.0]"
      ]
     },
     "execution_count": 4,
     "metadata": {},
     "output_type": "execute_result"
    }
   ],
   "source": [
    "moving_average([1.0, 2.0, 3.0, 4.0, 5.0, 6.0], window_size=5)"
   ]
  },
  {
   "cell_type": "markdown",
   "metadata": {
    "colab_type": "text",
    "id": "8TUD7k6t-0QV"
   },
   "source": [
    "#### Create `x = [1, 1, 1, 1, 1, 2, 2, 2, 2, 2, 1, 1, 1, 1, 1]` and plot both `x` and `y = moving_average(x, window_size=3)` using `matplotlib`'s `plot` function."
   ]
  },
  {
   "cell_type": "code",
   "execution_count": 5,
   "metadata": {
    "colab": {
     "base_uri": "https://localhost:8080/",
     "height": 282
    },
    "colab_type": "code",
    "id": "jmKFQTWW-0QX",
    "outputId": "3c6eb9f2-bd11-4a04-cca8-e7a4c4ccbf62"
   },
   "outputs": [
    {
     "data": {
      "text/plain": [
       "[<matplotlib.lines.Line2D at 0x1198472b0>]"
      ]
     },
     "execution_count": 5,
     "metadata": {},
     "output_type": "execute_result"
    },
    {
     "data": {
      "image/png": "[encoded data removed]",
      "text/plain": [
       "<Figure size 432x288 with 1 Axes>"
      ]
     },
     "metadata": {
      "needs_background": "light"
     },
     "output_type": "display_data"
    }
   ],
   "source": [
    "x = [1, 1, 1, 1, 1, 2, 2, 2, 2, 2, 1, 1, 1, 1, 1]\n",
    "plt.plot(x, \"red\")\n",
    "plt.plot(moving_average(x, window_size=3), \"green\")"
   ]
  },
  {
   "cell_type": "markdown",
   "metadata": {
    "colab_type": "text",
    "id": "-FJ_9Po8-0Qc"
   },
   "source": [
    "Notice that `y` differs in length from `x`, and that `y` is *shifted* in that the peaks above are not horizontally aligned.\n",
    "\n",
    "Later in the course, we will see this same effect when using convolutions, and it will sometimes be convenient to enforce both equal length and centering (so that the peaks above are aligned). One common way of achieving this is to pad `x` with 0s on both sides before applying the moving average."
   ]
  },
  {
   "cell_type": "markdown",
   "metadata": {
    "colab_type": "text",
    "id": "Eb6MICWj-0Qe"
   },
   "source": [
    "Before we get to the `padded_moving_average` function, let's go through a simple warm-up exercise:"
   ]
  },
  {
   "cell_type": "markdown",
   "metadata": {
    "colab_type": "text",
    "id": "lWzK9o-g-0Qf"
   },
   "source": [
    "#### Evaluate the expression `[0] * 5`"
   ]
  },
  {
   "cell_type": "code",
   "execution_count": 6,
   "metadata": {
    "colab": {
     "base_uri": "https://localhost:8080/",
     "height": 34
    },
    "colab_type": "code",
    "id": "LaGSL5x8-0Qh",
    "outputId": "2a4e85ab-9d0e-4098-8c7b-a8f7c184339b"
   },
   "outputs": [
    {
     "data": {
      "text/plain": [
       "[0, 0, 0, 0, 0]"
      ]
     },
     "execution_count": 6,
     "metadata": {},
     "output_type": "execute_result"
    }
   ],
   "source": [
    "[0] * 5"
   ]
  },
  {
   "cell_type": "markdown",
   "metadata": {
    "colab_type": "text",
    "id": "Ybp8-M2N-0Qn"
   },
   "source": [
    "If this result surprises you, remember that Python lists can contain *arbitrary items*, not just numerical values."
   ]
  },
  {
   "cell_type": "markdown",
   "metadata": {
    "colab_type": "text",
    "id": "Pu60r4F2-0Qp"
   },
   "source": [
    "#### Evaluate the expressions `[0] + ['test']`"
   ]
  },
  {
   "cell_type": "code",
   "execution_count": 7,
   "metadata": {
    "colab": {
     "base_uri": "https://localhost:8080/",
     "height": 34
    },
    "colab_type": "code",
    "id": "H0zw671l-0Qs",
    "outputId": "706e7496-1abe-47e8-8799-63d2b2718695"
   },
   "outputs": [
    {
     "data": {
      "text/plain": [
       "[0, 'test']"
      ]
     },
     "execution_count": 7,
     "metadata": {},
     "output_type": "execute_result"
    }
   ],
   "source": [
    "[0] + ['test']"
   ]
  },
  {
   "cell_type": "markdown",
   "metadata": {
    "colab_type": "text",
    "id": "ENsbWqcK-0Q0"
   },
   "source": [
    "#### Evaluate the expression `[0] + ['test'] * 5`"
   ]
  },
  {
   "cell_type": "code",
   "execution_count": 8,
   "metadata": {
    "colab": {
     "base_uri": "https://localhost:8080/",
     "height": 34
    },
    "colab_type": "code",
    "id": "kyXOccXh-0Q1",
    "outputId": "81092c77-8ebc-47f0-97ce-4e866586457d"
   },
   "outputs": [
    {
     "data": {
      "text/plain": [
       "[0, 'test', 'test', 'test', 'test', 'test']"
      ]
     },
     "execution_count": 8,
     "metadata": {},
     "output_type": "execute_result"
    }
   ],
   "source": [
    "[0] + ['test'] * 5"
   ]
  },
  {
   "cell_type": "markdown",
   "metadata": {
    "colab_type": "text",
    "id": "TNHfQTq5-0RA"
   },
   "source": [
    "#### Evaluate the expression [0] + ['a', 'b', 'c'] + [print] * 2"
   ]
  },
  {
   "cell_type": "code",
   "execution_count": 9,
   "metadata": {
    "colab": {
     "base_uri": "https://localhost:8080/",
     "height": 34
    },
    "colab_type": "code",
    "id": "VCEgNoPw-0RC",
    "outputId": "b495797f-b0c9-48b8-a34c-6752b8ea6ac1"
   },
   "outputs": [
    {
     "data": {
      "text/plain": [
       "[0, 'a', 'b', 'c', <function print>, <function print>]"
      ]
     },
     "execution_count": 9,
     "metadata": {},
     "output_type": "execute_result"
    }
   ],
   "source": [
    "[0] + ['a', 'b', 'c'] + [print] * 2"
   ]
  },
  {
   "cell_type": "markdown",
   "metadata": {
    "colab_type": "text",
    "id": "mw0-Anu5-0RI"
   },
   "source": [
    "Later, when we get to NumPy and PyTorch, we will see behavior that might be a bit more intuitive. Unlike Python lists, arrays and tensors will almost always store numerical values, and so we will see that (for example) `5 * np.array([1, 2, 3])` evaluates to `np.array([5, 10, 15])`."
   ]
  },
  {
   "cell_type": "markdown",
   "metadata": {
    "colab_type": "text",
    "id": "uYpBzhM6-0RK"
   },
   "source": [
    "#### Complete the `padded_moving_average` function below by zero padding both sides of the input `x` before passing it to your previous `moving_average` function."
   ]
  },
  {
   "cell_type": "code",
   "execution_count": 10,
   "metadata": {
    "colab": {},
    "colab_type": "code",
    "id": "YCIDYzZQ-0RO"
   },
   "outputs": [],
   "source": [
    "def padded_moving_average(x, window_size=3):\n",
    "    \"\"\" Compute a moving average.\n",
    "    \n",
    "    This differs from moving_average in that the input is first\n",
    "    padded on both sides with an appropriate number of 0s, so that\n",
    "    the output has the same length as x and so that x and y are\n",
    "    aligned.\n",
    "    \n",
    "    Example: padded_moving_average([1.0, 1.0, 1.0], window_size=3) returns\n",
    "        [(0 + 1 + 1) / 3, (1 + 1 + 1) / 3, (1 + 1 + 0) / 3]\n",
    "        which has approximate values of [0.66, 1.0, 0.66].\n",
    "    \n",
    "    Args:\n",
    "        x: A list of floats.\n",
    "        window_size: A positive, odd integer that's less than the length of x.\n",
    "        \n",
    "    Returns:\n",
    "        A list of floats.\n",
    "    \"\"\"\n",
    "    zero_pad_count = int((window_size - 1) / 2)\n",
    "    padded_x = ([0] * zero_pad_count) + x + ([0] * zero_pad_count)\n",
    "    \n",
    "    return moving_average(padded_x, window_size)"
   ]
  },
  {
   "cell_type": "markdown",
   "metadata": {
    "colab_type": "text",
    "id": "_iXZ9RZM-0RZ"
   },
   "source": [
    "#### Create `x = [1, 1, 1, 1, 1, 2, 2, 2, 2, 2, 1, 1, 1, 1, 1]` and plot both `x` and `y = padded_moving_average(x, window_size=3)` using `matplotlib`'s `plot` function. Be sure to verify that `x` is not modified after calling `padded_moving_average`."
   ]
  },
  {
   "cell_type": "code",
   "execution_count": 11,
   "metadata": {
    "colab": {
     "base_uri": "https://localhost:8080/",
     "height": 282
    },
    "colab_type": "code",
    "id": "uelLIcom-0Rb",
    "outputId": "8067f378-6910-4eae-897a-4b1fbd00ef8b"
   },
   "outputs": [
    {
     "name": "stdout",
     "output_type": "stream",
     "text": [
      "[1, 1, 1, 1, 1, 2, 2, 2, 2, 2, 1, 1, 1, 1, 1]\n"
     ]
    },
    {
     "data": {
      "image/png": "[encoded data removed]",
      "text/plain": [
       "<Figure size 432x288 with 1 Axes>"
      ]
     },
     "metadata": {
      "needs_background": "light"
     },
     "output_type": "display_data"
    }
   ],
   "source": [
    "x = [1, 1, 1, 1, 1, 2, 2, 2, 2, 2, 1, 1, 1, 1, 1]\n",
    "plt.plot(x, \"red\")\n",
    "plt.plot(padded_moving_average(x, window_size=3), \"green\")\n",
    "print(x)"
   ]
  },
  {
   "cell_type": "markdown",
   "metadata": {
    "colab_type": "text",
    "id": "1qi_crZq-0Rj"
   },
   "source": [
    "#### Does this padding procedure introduce any artifacts in our moving average?"
   ]
  },
  {
   "cell_type": "code",
   "execution_count": 12,
   "metadata": {
    "colab": {
     "base_uri": "https://localhost:8080/",
     "height": 34
    },
    "colab_type": "code",
    "id": "Z4ZyjUQ7fd9U",
    "outputId": "93b43905-710f-4aab-e48c-8d22b3917e24"
   },
   "outputs": [
    {
     "data": {
      "text/plain": [
       "[1, 1.2, 1.4, 1.6, 1.8, 2, 1.8, 1.6, 1.4, 1.2, 1]"
      ]
     },
     "execution_count": 12,
     "metadata": {},
     "output_type": "execute_result"
    }
   ],
   "source": [
    "moving_average(x, window_size=5)"
   ]
  },
  {
   "cell_type": "code",
   "execution_count": 13,
   "metadata": {
    "colab": {
     "base_uri": "https://localhost:8080/",
     "height": 34
    },
    "colab_type": "code",
    "id": "T9XjmygWfbKh",
    "outputId": "c403f6d4-7edd-4d05-865b-2d53a170a853"
   },
   "outputs": [
    {
     "data": {
      "text/plain": [
       "[0.6, 0.8, 1, 1.2, 1.4, 1.6, 1.8, 2, 1.8, 1.6, 1.4, 1.2, 1, 0.8, 0.6]"
      ]
     },
     "execution_count": 13,
     "metadata": {},
     "output_type": "execute_result"
    }
   ],
   "source": [
    "padded_moving_average(x, window_size=5)"
   ]
  },
  {
   "cell_type": "markdown",
   "metadata": {
    "colab_type": "text",
    "id": "2Qrd5AnN-0Rk"
   },
   "source": [
    "As we can see above, the padded moving average function adds \"`(window_size - 1)/2`\" undesired entries on both ends of the moving average list."
   ]
  },
  {
   "cell_type": "markdown",
   "metadata": {
    "colab_type": "text",
    "id": "ty2ymt-F-0Rp"
   },
   "source": [
    "### 1-D Data Normalization"
   ]
  },
  {
   "cell_type": "markdown",
   "metadata": {
    "colab_type": "text",
    "id": "YMTeR0Xq-0Rq"
   },
   "source": [
    "#### Write a function `normalize` which takes in a list of 1-D data and returns a list of *normalized* data which is centered and scaled to have a mean of 0 and a standard deviation of 1. Be sure to include documentation using Google style docstrings, as done above."
   ]
  },
  {
   "cell_type": "code",
   "execution_count": 14,
   "metadata": {
    "colab": {},
    "colab_type": "code",
    "id": "K4iEKQ9D-0Ru"
   },
   "outputs": [],
   "source": [
    "def normalize(x):\n",
    "  \"\"\" Normalize a list of 1-D data.\n",
    "\n",
    "    Example: normalize([1.0, 2.0, 3.0]) returns\n",
    "        [(1 - 2) / 1, (2 - 2) / 1, (3 - 2) / 1]\n",
    "        which is [-1, 0, 1], having 0 mean and 1 standard deviation\n",
    "\n",
    "    Args:\n",
    "        x: A list of floats, to be normalized\n",
    "\n",
    "    Returns:\n",
    "        Normalized, list of floats, having 0 mean and 1 standard deviation\n",
    "  \"\"\"\n",
    "  x_mean = mean(x)\n",
    "  x_stdev = stdev(x)\n",
    "\n",
    "  y = [(item - x_mean)/x_stdev for item in x]\n",
    "\n",
    "  return y"
   ]
  },
  {
   "cell_type": "code",
   "execution_count": 15,
   "metadata": {
    "colab": {
     "base_uri": "https://localhost:8080/",
     "height": 34
    },
    "colab_type": "code",
    "id": "3-p_k7u6lBX9",
    "outputId": "a6af085b-3585-4bfb-e9df-5103cbd2abb9"
   },
   "outputs": [
    {
     "data": {
      "text/plain": [
       "[-1.0, 0.0, 1.0]"
      ]
     },
     "execution_count": 15,
     "metadata": {},
     "output_type": "execute_result"
    }
   ],
   "source": [
    "normalize([1.0, 2.0, 3.0])"
   ]
  },
  {
   "cell_type": "markdown",
   "metadata": {
    "colab_type": "text",
    "id": "PpIStr2M-0R4"
   },
   "source": [
    "#### Create `data = [10.3, 15.5, 12.7, 13.3, 8.9, 12.3, 14.6, 11.2, 12.8, 9.5]` and form `normalized_data` using your function. Compute the mean and standard deviation of `normalized_data`, and make sure that the mean is very close to 0.0 and that the standard deviation is very close to 1.0.\n",
    "\n",
    "(Here, let's agree that `x` and `y` are 'very close' if the distance between them is less than $10^{-10}$.)"
   ]
  },
  {
   "cell_type": "code",
   "execution_count": 16,
   "metadata": {
    "colab": {
     "base_uri": "https://localhost:8080/",
     "height": 119
    },
    "colab_type": "code",
    "id": "usIuePc1-0R6",
    "outputId": "4bf43c50-33ac-419f-93ba-bb15b981b414"
   },
   "outputs": [
    {
     "name": "stdout",
     "output_type": "stream",
     "text": [
      "Before Normalizing:\n",
      "Mean: 12.11\n",
      "Standard deviation: 2.139288562946933\n",
      "After Normalizing:\n",
      "Mean: 3.3584246494910984e-16\n",
      "Standard deviation: 1.0\n"
     ]
    }
   ],
   "source": [
    "data = [10.3, 15.5, 12.7, 13.3, 8.9, 12.3, 14.6, 11.2, 12.8, 9.5]\n",
    "normalized_data = normalize(data)\n",
    "print(\"Before Normalizing:\")\n",
    "print(\"Mean:\", mean(data))\n",
    "print(\"Standard deviation:\", stdev(data))\n",
    "print(\"After Normalizing:\")\n",
    "print(\"Mean:\", mean(normalized_data))\n",
    "print(\"Standard deviation:\", stdev(normalized_data))"
   ]
  },
  {
   "cell_type": "markdown",
   "metadata": {
    "colab_type": "text",
    "id": "fSVRSDum-0SA"
   },
   "source": [
    "### Matrices as Lists of Rows"
   ]
  },
  {
   "cell_type": "markdown",
   "metadata": {
    "colab_type": "text",
    "id": "aiY0bsKI-0SC"
   },
   "source": [
    "One way to represent matrices is as *lists* of *rows*, with each row having the same length. Here is an example:"
   ]
  },
  {
   "cell_type": "code",
   "execution_count": 17,
   "metadata": {
    "colab": {
     "base_uri": "https://localhost:8080/",
     "height": 34
    },
    "colab_type": "code",
    "id": "hglkMdrn-0SD",
    "outputId": "6b317ebe-ee70-408b-9fdd-16ace692949d"
   },
   "outputs": [
    {
     "name": "stdout",
     "output_type": "stream",
     "text": [
      "[[1, 2, 3], [4, 5, 6], [7, 8, 9]]\n"
     ]
    }
   ],
   "source": [
    "A = [[1, 2, 3],\n",
    "     [4, 5, 6],\n",
    "     [7, 8, 9]]\n",
    "print(A)"
   ]
  },
  {
   "cell_type": "markdown",
   "metadata": {
    "colab_type": "text",
    "id": "FkFJBcdG-0SO"
   },
   "source": [
    "#### Write a function `transpose` which accepts a matrix in this form and *transposes* it. Be sure to include documentation using Google style docstrings, as done above.\n",
    "\n",
    "For example, if `A` is defined as above, then `transpose(A)` should return `[[1, 4, 7], [2, 5, 8], [3, 6, 9]]`."
   ]
  },
  {
   "cell_type": "code",
   "execution_count": 18,
   "metadata": {
    "colab": {},
    "colab_type": "code",
    "id": "KUbRfukj-0SP"
   },
   "outputs": [],
   "source": [
    "def transpose(x):\n",
    "  \"\"\" Transpose a 2-D matrix.\n",
    "\n",
    "    Example: transpose([[1, 2], [3, 4]]) returns\n",
    "        [[1, 3], \n",
    "         [2, 4]]\n",
    "\n",
    "    Args:\n",
    "        x: A 2-D matrix as a list of rows, to be transposed\n",
    "\n",
    "    Returns:\n",
    "        Transposed 2-D matrix as a list of rows.\n",
    "  \"\"\"\n",
    "\n",
    "  y = list(zip(*x))\n",
    "\n",
    "  return y"
   ]
  },
  {
   "cell_type": "code",
   "execution_count": 19,
   "metadata": {
    "colab": {
     "base_uri": "https://localhost:8080/",
     "height": 34
    },
    "colab_type": "code",
    "id": "ReMuKoyRm4hT",
    "outputId": "fcdb6387-22b3-4510-ba29-4aef02e2f4fe"
   },
   "outputs": [
    {
     "name": "stdout",
     "output_type": "stream",
     "text": [
      "[(1, 4, 7), (2, 5, 8), (3, 6, 9)]\n"
     ]
    }
   ],
   "source": [
    "A_T = transpose(A)\n",
    "print(A_T)"
   ]
  },
  {
   "cell_type": "markdown",
   "metadata": {
    "colab_type": "text",
    "id": "ml_p1Ror-0SX"
   },
   "source": [
    "Define `B = [[1, 2, 3, 4], [5, 6, 7, 8]]` and `B_T = transpose(B)`, and verify that `B_T` is correct."
   ]
  },
  {
   "cell_type": "code",
   "execution_count": 20,
   "metadata": {
    "colab": {
     "base_uri": "https://localhost:8080/",
     "height": 34
    },
    "colab_type": "code",
    "id": "-T6sJNM7-0Sa",
    "outputId": "20602a54-6908-4afb-ebda-f4ee56c82eaa"
   },
   "outputs": [
    {
     "name": "stdout",
     "output_type": "stream",
     "text": [
      "[(1, 5), (2, 6), (3, 7), (4, 8)]\n"
     ]
    }
   ],
   "source": [
    "B = [[1, 2, 3, 4],\n",
    "     [5, 6, 7, 8]]\n",
    "B_T = transpose(B)\n",
    "print(B_T)\n",
    "assert(B_T == [(1, 5), \n",
    "               (2, 6), \n",
    "               (3, 7), \n",
    "               (4, 8)])"
   ]
  },
  {
   "cell_type": "markdown",
   "metadata": {
    "colab_type": "text",
    "id": "JwQeU-J7-0Sf"
   },
   "source": [
    "### Building a Vocabulary"
   ]
  },
  {
   "cell_type": "markdown",
   "metadata": {
    "colab_type": "text",
    "id": "5vKoEZ6_-0Si"
   },
   "source": [
    "Later in the course, when we deal with RNNs, we will likely build a character-level language model. For example, if our model is trained with English sentences, then we might expect that the following three probabilities go from high to low to lowest:\n",
    "\n",
    "- $P$(next character is 'e' | previous characters were 'appl')\n",
    "- $P$(next character is 'y' | previous characters were 'appl')\n",
    "- $P$(next character is 'h' | previous characters were 'appl')\n",
    "\n",
    "For now, suppose that our training data is one string (e.g. 100 MB of Wikipedia), and that our objective is to form a character vocabulary over these characters. For example, we would expect `form_char_vocab('this is cs382')` to return `[' ', '2', '3', '8', 'c', 'h', 'i', 's', 't']`, since these are the unique characters that are present.\n",
    "\n",
    "#### Write a function `form_char_vocab` that takes in a string and returns a *sorted list* of the unique characters in that string. Be sure to include documentation using Google style docstrings, as done above."
   ]
  },
  {
   "cell_type": "code",
   "execution_count": 21,
   "metadata": {
    "colab": {},
    "colab_type": "code",
    "id": "R20XJm8t-0Sk"
   },
   "outputs": [],
   "source": [
    "def form_char_vocab(input_string):\n",
    "    \"\"\" Build character vocabulary over the input_string.\n",
    "    \n",
    "    Example: form_char_vocab(\"hello world\") returns\n",
    "        ['d', 'e', 'h', 'l', 'o', 'r', 'w']\n",
    "    \n",
    "    Args:\n",
    "        input_string: string, for building a character vocabulary\n",
    "        \n",
    "    Returns:\n",
    "         A sorted list of the unique characters that make up the \n",
    "         character vocab for the input_string.\n",
    "    \"\"\"\n",
    "    char_vocab_set = set(input_string)\n",
    "    char_vocab_sorted_list = sorted(list(char_vocab_set))\n",
    "    return char_vocab_sorted_list"
   ]
  },
  {
   "cell_type": "code",
   "execution_count": 22,
   "metadata": {
    "colab": {
     "base_uri": "https://localhost:8080/",
     "height": 34
    },
    "colab_type": "code",
    "id": "wCX6ItqxqTpE",
    "outputId": "8e43bd99-3d26-4003-95c7-283fa65926d3"
   },
   "outputs": [
    {
     "data": {
      "text/plain": [
       "[' ', '2', '3', '8', 'c', 'h', 'i', 's', 't']"
      ]
     },
     "execution_count": 22,
     "metadata": {},
     "output_type": "execute_result"
    }
   ],
   "source": [
    "form_char_vocab('this is cs382')"
   ]
  },
  {
   "cell_type": "markdown",
   "metadata": {
    "colab_type": "text",
    "id": "29bde6Yv-0Sq"
   },
   "source": [
    "#### Print the output of your `form_char_vocab` function when run on the string `'this is a short string'`."
   ]
  },
  {
   "cell_type": "code",
   "execution_count": 23,
   "metadata": {
    "colab": {
     "base_uri": "https://localhost:8080/",
     "height": 34
    },
    "colab_type": "code",
    "id": "tKkyhW2q-0Sr",
    "outputId": "9ca01fe3-cc42-4f84-8fb5-0ef0ef74b0b9"
   },
   "outputs": [
    {
     "data": {
      "text/plain": [
       "[' ', 'a', 'g', 'h', 'i', 'n', 'o', 'r', 's', 't']"
      ]
     },
     "execution_count": 23,
     "metadata": {},
     "output_type": "execute_result"
    }
   ],
   "source": [
    "form_char_vocab(\"this is a short string\")"
   ]
  },
  {
   "cell_type": "markdown",
   "metadata": {
    "colab_type": "text",
    "id": "NW-ROZa6-0S3"
   },
   "source": [
    "#### See how long your function takes to run on the following ~10 MB string by running the following code:\n",
    "\n",
    "```\n",
    "long_ish_string = 'this is a test' * 1000000\n",
    "%timeit form_char_vocab(long_ish_string)\n",
    "```"
   ]
  },
  {
   "cell_type": "code",
   "execution_count": 24,
   "metadata": {
    "colab": {
     "base_uri": "https://localhost:8080/",
     "height": 34
    },
    "colab_type": "code",
    "id": "ij4IxJEz-0S4",
    "outputId": "35bdceca-705b-4075-b3e3-e315138e62a3"
   },
   "outputs": [
    {
     "name": "stdout",
     "output_type": "stream",
     "text": [
      "165 ms ± 4.02 ms per loop (mean ± std. dev. of 7 runs, 10 loops each)\n"
     ]
    }
   ],
   "source": [
    "long_ish_string = 'this is a test' * 1000000\n",
    "%timeit form_char_vocab(long_ish_string)"
   ]
  },
  {
   "cell_type": "markdown",
   "metadata": {
    "colab_type": "text",
    "id": "LNhSQgel-0S-"
   },
   "source": [
    "(If this doesn't terminate in, say, 10s of seconds, then something is wrong.)"
   ]
  },
  {
   "cell_type": "markdown",
   "metadata": {
    "colab_type": "text",
    "id": "afZpVRK0-0TA"
   },
   "source": [
    "### In Place Operations"
   ]
  },
  {
   "cell_type": "markdown",
   "metadata": {
    "colab_type": "text",
    "id": "EhkH28eU-0TC"
   },
   "source": [
    "#### Complete the `replace_element` function below, which returns a new list with all occurrences of a particular element replaced. `replace_element` should not modify any of its arguments."
   ]
  },
  {
   "cell_type": "code",
   "execution_count": 25,
   "metadata": {
    "colab": {},
    "colab_type": "code",
    "id": "OLTr1QKm-0TD"
   },
   "outputs": [],
   "source": [
    "def replace_element(a_list, element, replacement):\n",
    "    \"\"\" Replace all occurrences of an element in a list.\n",
    "    \n",
    "    a_list is not modified in place.\n",
    "    \n",
    "    Example:\n",
    "        old_list = [1, 'a', 2, 'b', 'a', 1, 'b', 1]\n",
    "        new_list = replace_element(old_list, 'b', 10)\n",
    "        # new_list is now [1, 'a', 2, 10, 'a', 1, 10, 1]\n",
    "    \n",
    "    Args:\n",
    "        a_list: A list.\n",
    "        element: The element to be replaced.\n",
    "        replacement: The replacement.\n",
    "    \n",
    "    Returns:\n",
    "        A copy of a_list, with all occurrences of element replaced\n",
    "        by replacement.\n",
    "    \"\"\"\n",
    "    \n",
    "    new_list = [replacement if item == element else item for item in a_list]\n",
    "    \n",
    "    return new_list"
   ]
  },
  {
   "cell_type": "markdown",
   "metadata": {
    "colab_type": "text",
    "id": "cD11WQUG-0TI"
   },
   "source": [
    "#### Verify that `replace_element` produces the expected output for the example in the documentation, and also verify that `replace_element` does not modify `old_list`."
   ]
  },
  {
   "cell_type": "code",
   "execution_count": 26,
   "metadata": {
    "colab": {
     "base_uri": "https://localhost:8080/",
     "height": 51
    },
    "colab_type": "code",
    "id": "NLi-BVYl-0TL",
    "outputId": "6f5fc358-3785-4bf1-e2d9-ee163676e020"
   },
   "outputs": [
    {
     "name": "stdout",
     "output_type": "stream",
     "text": [
      "Old List: [1, 'a', 2, 'b', 'a', 1, 'b', 1]\n",
      "New List: [1, 'a', 2, 10, 'a', 1, 10, 1]\n"
     ]
    }
   ],
   "source": [
    "old_list = [1, 'a', 2, 'b', 'a', 1, 'b', 1]\n",
    "new_list = replace_element(old_list, 'b', 10)\n",
    "print(\"Old List:\", old_list)\n",
    "assert(old_list == [1, 'a', 2, 'b', 'a', 1, 'b', 1])\n",
    "print(\"New List:\", new_list)"
   ]
  },
  {
   "cell_type": "markdown",
   "metadata": {
    "colab_type": "text",
    "id": "eNyAaY_P-0TP"
   },
   "source": [
    "#### Write a `replace_element_` function that replaces all occurrences of a particular element *in place*. That is, the function should not return anything; instead, its first argument should be *modified*. Be sure to include documentation using Google style docstrings, as done above."
   ]
  },
  {
   "cell_type": "code",
   "execution_count": 27,
   "metadata": {
    "colab": {},
    "colab_type": "code",
    "id": "1zVbHpC7-0TQ"
   },
   "outputs": [],
   "source": [
    "def replace_element_(a_list, element, replacement):\n",
    "    \"\"\" Replace all occurrences of an element in a list.\n",
    "    \n",
    "    a_list is modified in place.\n",
    "    \n",
    "    Example:\n",
    "        old_list = [1, 'a', 2, 'b', 'a', 1, 'b', 1]\n",
    "        new_list = replace_element_(old_list, 'b', 10)\n",
    "        # old_list and new_list, both are now: [1, 'a', 2, 10, 'a', 1, 10, 1]\n",
    "    \n",
    "    Args:\n",
    "        a_list: A list, that will be replaced in-place with \n",
    "                all the occurrences of \"element\" replaced with \"replacement\"\n",
    "        element: The element to be replaced.\n",
    "        replacement: The replacement.\n",
    "    \n",
    "    Returns:\n",
    "        None\n",
    "    \"\"\"\n",
    "    \n",
    "    for i, item in enumerate(a_list):\n",
    "      if item == element:\n",
    "        a_list[i] = replacement"
   ]
  },
  {
   "cell_type": "markdown",
   "metadata": {
    "colab_type": "text",
    "id": "qaS2NO-f-0TV"
   },
   "source": [
    "#### Create an example list and verify that your `replace_element_` function modifies the list as intended."
   ]
  },
  {
   "cell_type": "code",
   "execution_count": 28,
   "metadata": {
    "colab": {
     "base_uri": "https://localhost:8080/",
     "height": 51
    },
    "colab_type": "code",
    "id": "o7kQeURD-0TV",
    "outputId": "4ede2127-afcb-4ac7-d9af-d253f29303f9"
   },
   "outputs": [
    {
     "name": "stdout",
     "output_type": "stream",
     "text": [
      "Input list (before function call): [1, 'a', 2, 'b', 'a', 1, 'b', 1]\n",
      "Input list (after function call): [1, 'a', 2, 10, 'a', 1, 10, 1]\n"
     ]
    }
   ],
   "source": [
    "input_list = [1, 'a', 2, 'b', 'a', 1, 'b', 1]\n",
    "print(\"Input list (before function call):\", input_list)\n",
    "replace_element_(input_list, 'b', 10)\n",
    "print(\"Input list (after function call):\", input_list)"
   ]
  },
  {
   "cell_type": "markdown",
   "metadata": {
    "colab_type": "text",
    "id": "gRGOnu-k-0Tc"
   },
   "source": [
    "### Indexing with Arbitrary Indices"
   ]
  },
  {
   "cell_type": "markdown",
   "metadata": {
    "colab_type": "text",
    "id": "hd1UJ0e4-0Td"
   },
   "source": [
    "It is often useful to pluck out the elements from a list that are at specified indices."
   ]
  },
  {
   "cell_type": "code",
   "execution_count": 29,
   "metadata": {
    "colab": {
     "base_uri": "https://localhost:8080/",
     "height": 34
    },
    "colab_type": "code",
    "id": "ouCFd7FX-0Tf",
    "outputId": "0960ea9c-4a8e-42d9-cf77-a4fb30a229db"
   },
   "outputs": [
    {
     "name": "stdout",
     "output_type": "stream",
     "text": [
      "[1, 1, 2, 5, 12, 27, 58, 121, 248, 503, 1014, 2037, 4084, 8179, 16370, 32753]\n"
     ]
    }
   ],
   "source": [
    "some_indices = [2**i - i for i in range(16)]\n",
    "print(some_indices)"
   ]
  },
  {
   "cell_type": "markdown",
   "metadata": {
    "colab_type": "text",
    "id": "nWRfn_le-0Tm"
   },
   "source": [
    "#### Complete the following code to form `some_elements` by plucking out elements of `long_ish_string` according to `some_indices`."
   ]
  },
  {
   "cell_type": "code",
   "execution_count": 30,
   "metadata": {
    "colab": {
     "base_uri": "https://localhost:8080/",
     "height": 34
    },
    "colab_type": "code",
    "id": "vocr41AV-0To",
    "outputId": "3231dfc4-d126-44aa-ef4a-04c1181d8e74"
   },
   "outputs": [
    {
     "name": "stdout",
     "output_type": "stream",
     "text": [
      "['h', 'h', 'i', 'i', 's', 't', 'i', ' ', 't', 't', 's', ' ', 't', 's', ' ', ' ']\n"
     ]
    }
   ],
   "source": [
    "some_elements = [long_ish_string[index] for index in some_indices] # this is assuming that some_indices refers to the list's indices that starts from zero\n",
    "print(some_elements)"
   ]
  },
  {
   "cell_type": "markdown",
   "metadata": {
    "colab_type": "text",
    "id": "9GGbwSiN-0Tx"
   },
   "source": [
    "### Zip and String Formatting"
   ]
  },
  {
   "cell_type": "markdown",
   "metadata": {
    "colab_type": "text",
    "id": "AMrB441e-0Tz"
   },
   "source": [
    "#### Loop through the following lists and print sentences such as 'Geoffrey Hinton is affiliated with U of T.' *without ever accessing the lists by index*."
   ]
  },
  {
   "cell_type": "code",
   "execution_count": 31,
   "metadata": {
    "colab": {
     "base_uri": "https://localhost:8080/",
     "height": 68
    },
    "colab_type": "code",
    "id": "HYpnVu1R-0T0",
    "outputId": "ce426c39-a738-47da-df5c-a848357eb0f3"
   },
   "outputs": [
    {
     "name": "stdout",
     "output_type": "stream",
     "text": [
      "Geoffrey Hinton is affiliated with U of T\n",
      "Yoshua Bengio is affiliated with U of M\n",
      "Juergen Schmidhuber is affiliated with IDSIA\n"
     ]
    }
   ],
   "source": [
    "first_names = ['Geoffrey', 'Yoshua', 'Juergen']\n",
    "last_names = ['Hinton', 'Bengio', 'Schmidhuber']\n",
    "affiliations = ['U of T', 'U of M', 'IDSIA']\n",
    "\n",
    "for first_name, last_name, affiliation in zip(*[first_names, last_names, affiliations]):\n",
    "  print(first_name, last_name, \"is affiliated with\", affiliation)"
   ]
  },
  {
   "cell_type": "code",
   "execution_count": null,
   "metadata": {},
   "outputs": [],
   "source": []
  }
 ],
 "metadata": {
  "colab": {
   "name": "spalani2_cs382_f2018_lab1.ipynb",
   "provenance": [],
   "version": "0.3.2"
  },
  "kernelspec": {
   "display_name": "Python 3",
   "language": "python",
   "name": "python3"
  },
  "language_info": {
   "codemirror_mode": {
    "name": "ipython",
    "version": 3
   },
   "file_extension": ".py",
   "mimetype": "text/x-python",
   "name": "python",
   "nbconvert_exporter": "python",
   "pygments_lexer": "ipython3",
   "version": "3.6.5"
  }
 },
 "nbformat": 4,
 "nbformat_minor": 1
}
