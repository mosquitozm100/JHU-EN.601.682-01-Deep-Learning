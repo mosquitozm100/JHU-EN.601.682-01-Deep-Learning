{
 "cells": [
  {
   "cell_type": "code",
   "execution_count": 0,
   "metadata": {
    "colab": {},
    "colab_type": "code",
    "id": "WeG6mrwNSW6w"
   },
   "outputs": [],
   "source": [
    "%matplotlib inline\n",
    "import matplotlib.pyplot as plt\n",
    "import numpy as np\n",
    "import torch\n",
    "\n",
    "from pathlib import Path\n",
    "HOME = Path.home()\n",
    "MNIST_PATH = HOME / 'data' / 'mnist'"
   ]
  },
  {
   "cell_type": "markdown",
   "metadata": {
    "colab_type": "text",
    "id": "Z0xVykeNrkue"
   },
   "source": [
    "### Read this First\n",
    "\n",
    "#### Remember that `tab` is is useful for autocompletion.\n",
    "\n",
    "#### Remember that `shift + tab` is useful for rapidly obtaining usage + documentation."
   ]
  },
  {
   "cell_type": "markdown",
   "metadata": {
    "colab_type": "text",
    "id": "zURPVVsErkug"
   },
   "source": [
    "### Basic Shapes and Types in NumPy"
   ]
  },
  {
   "cell_type": "markdown",
   "metadata": {
    "colab_type": "text",
    "id": "uWWZ5TgUrkug"
   },
   "source": [
    "**Create a 1-D array of 5 zeros named `array_of_zeros`. Print it, verify that its shape is `[5]`, and print its `dtype`.**"
   ]
  },
  {
   "cell_type": "code",
   "execution_count": 56,
   "metadata": {
    "colab": {
     "base_uri": "https://localhost:8080/",
     "height": 51
    },
    "colab_type": "code",
    "id": "aM7fRX1vSLwo",
    "outputId": "08b49d33-35cf-4ca8-aa63-04fb9bf59391"
   },
   "outputs": [
    {
     "name": "stdout",
     "output_type": "stream",
     "text": [
      "(5,)\n",
      "float64\n"
     ]
    }
   ],
   "source": [
    "array_of_zeros = np.zeros(5)\n",
    "print(array_of_zeros.shape)\n",
    "print(array_of_zeros.dtype)"
   ]
  },
  {
   "cell_type": "markdown",
   "metadata": {
    "colab_type": "text",
    "id": "0g9Y0ZPkrkuj"
   },
   "source": [
    "**Print the transpose of `array_of_zeros`.**"
   ]
  },
  {
   "cell_type": "code",
   "execution_count": 57,
   "metadata": {
    "colab": {
     "base_uri": "https://localhost:8080/",
     "height": 51
    },
    "colab_type": "code",
    "id": "dxmWaL7grkul",
    "outputId": "2bdb47ba-13fc-408b-a744-46c74687451b"
   },
   "outputs": [
    {
     "name": "stdout",
     "output_type": "stream",
     "text": [
      "[0. 0. 0. 0. 0.]\n",
      "[0. 0. 0. 0. 0.]\n"
     ]
    }
   ],
   "source": [
    "print(array_of_zeros)\n",
    "transposed_array_of_zeros = np.transpose(array_of_zeros)\n",
    "print(transposed_array_of_zeros)"
   ]
  },
  {
   "cell_type": "markdown",
   "metadata": {
    "colab_type": "text",
    "id": "ohPucNsqrkum"
   },
   "source": [
    "**In the following Markdown Cell, answer:**\n",
    "\n",
    "**Is its transpose what you expected? Why or why not?**"
   ]
  },
  {
   "cell_type": "markdown",
   "metadata": {
    "colab_type": "text",
    "id": "MM2R_F9Nrkun"
   },
   "source": [
    "No, this is not the transpose I expected. Because, I thought a row matrix would transpose to a column matrix, but then realized that, in numpy, a row matrix should have a shape [1,5] and not [5,]. Basically, 2-D Matrices can only be transposed to see the result visually and not 1D matrices."
   ]
  },
  {
   "cell_type": "markdown",
   "metadata": {
    "colab_type": "text",
    "id": "vebIa0zKrkuo"
   },
   "source": [
    "**Create a 2-D array of 5 zeros, named `array_of_zeros`, with shape `[1, 5]`. Print it, and print its shape.**"
   ]
  },
  {
   "cell_type": "code",
   "execution_count": 58,
   "metadata": {
    "colab": {
     "base_uri": "https://localhost:8080/",
     "height": 51
    },
    "colab_type": "code",
    "id": "Qe6JkZhgSLmH",
    "outputId": "7b81cd33-648f-4f3f-a2b2-e0f4db012425"
   },
   "outputs": [
    {
     "name": "stdout",
     "output_type": "stream",
     "text": [
      "[[0. 0. 0. 0. 0.]]\n",
      "(1, 5)\n"
     ]
    }
   ],
   "source": [
    "array_of_zeros = np.zeros((1,5))\n",
    "print(array_of_zeros)\n",
    "print(array_of_zeros.shape)"
   ]
  },
  {
   "cell_type": "markdown",
   "metadata": {
    "colab_type": "text",
    "id": "qsszc4-Krkus"
   },
   "source": [
    "**Print the transpose of `array_of_zeros`.**"
   ]
  },
  {
   "cell_type": "code",
   "execution_count": 59,
   "metadata": {
    "colab": {
     "base_uri": "https://localhost:8080/",
     "height": 102
    },
    "colab_type": "code",
    "id": "e4MI4IRarkut",
    "outputId": "69cc3919-5da0-4e43-b6f5-03529388b1af"
   },
   "outputs": [
    {
     "name": "stdout",
     "output_type": "stream",
     "text": [
      "[[0.]\n",
      " [0.]\n",
      " [0.]\n",
      " [0.]\n",
      " [0.]]\n"
     ]
    }
   ],
   "source": [
    "transposed_array_of_zeros = np.transpose(array_of_zeros)\n",
    "print(transposed_array_of_zeros)"
   ]
  },
  {
   "cell_type": "markdown",
   "metadata": {
    "colab_type": "text",
    "id": "vn495PUSrkuw"
   },
   "source": [
    "**In the following Markdown Cell, answer:**\n",
    "\n",
    "**Is its transpose what you expected? Why or why not?**"
   ]
  },
  {
   "cell_type": "markdown",
   "metadata": {
    "colab_type": "text",
    "id": "uegg6GGArkux"
   },
   "source": [
    "Yes, this is what I expected, because a 2D matrix of shape [1,5] transposes to a 2D matrix of shape [5,1]."
   ]
  },
  {
   "cell_type": "markdown",
   "metadata": {
    "colab_type": "text",
    "id": "SIxnesb8rkux"
   },
   "source": [
    "**Create a 1-D array of 5 zeros, named `array_of_zeros`, with a `dtype` of `np.float`. Print it, and its `dtype`.**"
   ]
  },
  {
   "cell_type": "code",
   "execution_count": 60,
   "metadata": {
    "colab": {
     "base_uri": "https://localhost:8080/",
     "height": 51
    },
    "colab_type": "code",
    "id": "Za0uUeDbrku1",
    "outputId": "15eb5551-6e8f-47cd-9433-c1df9ebfa890"
   },
   "outputs": [
    {
     "name": "stdout",
     "output_type": "stream",
     "text": [
      "[0. 0. 0. 0. 0.]\n",
      "float64\n"
     ]
    }
   ],
   "source": [
    "array_of_zeros = np.zeros(5, dtype=np.float)\n",
    "print(array_of_zeros)\n",
    "print(array_of_zeros.dtype)"
   ]
  },
  {
   "cell_type": "markdown",
   "metadata": {
    "colab_type": "text",
    "id": "r9_0subQrku4"
   },
   "source": [
    "**In the following Markdown Cell, answer:**\n",
    "\n",
    "**Does this array contain floats with 32 bit precision or 64 bit precision?**"
   ]
  },
  {
   "cell_type": "markdown",
   "metadata": {
    "colab_type": "text",
    "id": "w94l35LnZuLL"
   },
   "source": [
    "It contains floats with 64 bit precision."
   ]
  },
  {
   "cell_type": "markdown",
   "metadata": {
    "colab_type": "text",
    "id": "OLqNDu0rrku5"
   },
   "source": [
    "**Create a 1-D array of 5 zeros, named `array_of_zeros`, with a `dtype` of `np.int`. Print it, and its `dtype`.**"
   ]
  },
  {
   "cell_type": "code",
   "execution_count": 61,
   "metadata": {
    "colab": {
     "base_uri": "https://localhost:8080/",
     "height": 51
    },
    "colab_type": "code",
    "id": "G5HGN-bbrku6",
    "outputId": "5ef33a6d-bb29-44af-8a8e-25b0de4a3064"
   },
   "outputs": [
    {
     "name": "stdout",
     "output_type": "stream",
     "text": [
      "[0 0 0 0 0]\n",
      "int64\n"
     ]
    }
   ],
   "source": [
    "array_of_zeros = np.zeros(5, dtype=np.int)\n",
    "print(array_of_zeros)\n",
    "print(array_of_zeros.dtype)"
   ]
  },
  {
   "cell_type": "markdown",
   "metadata": {
    "colab_type": "text",
    "id": "1cfcoR4lrku9"
   },
   "source": [
    "**In the following Markdown Cell, answer:**\n",
    "\n",
    "**Does this array contain 32-bit integers or 64-bit integers?**"
   ]
  },
  {
   "cell_type": "markdown",
   "metadata": {
    "colab_type": "text",
    "id": "KC2R20Vjrku_"
   },
   "source": [
    "It contains 64-bit integers."
   ]
  },
  {
   "cell_type": "markdown",
   "metadata": {
    "colab_type": "text",
    "id": "I5VdB_3wrkvB"
   },
   "source": [
    "When dealing with GPUs, we will often want to use 32 bit precision.\n",
    "\n",
    "**Create a 1-D array of 5 zeros, named `array_of_zeros`, with a `dtype` of `np.float32`. Print it, and its `dtype`.**"
   ]
  },
  {
   "cell_type": "code",
   "execution_count": 62,
   "metadata": {
    "colab": {
     "base_uri": "https://localhost:8080/",
     "height": 51
    },
    "colab_type": "code",
    "id": "TmPhH5rLrkvF",
    "outputId": "c314aa50-a73e-4025-bf35-a872838c52c0"
   },
   "outputs": [
    {
     "name": "stdout",
     "output_type": "stream",
     "text": [
      "[0. 0. 0. 0. 0.]\n",
      "float32\n"
     ]
    }
   ],
   "source": [
    "array_of_zeros = np.zeros(5, dtype=np.float32)\n",
    "print(array_of_zeros)\n",
    "print(array_of_zeros.dtype)"
   ]
  },
  {
   "cell_type": "markdown",
   "metadata": {
    "colab_type": "text",
    "id": "VXzxLqGJrkvL"
   },
   "source": [
    "**Create a 1-D array of 5 zeros, named `array_of_zeros`, with a `dtype` of `np.float`, and then create `array_of_zeros_32` by casting `array_of_zeros`. Print it, and its `dtype`.**"
   ]
  },
  {
   "cell_type": "code",
   "execution_count": 63,
   "metadata": {
    "colab": {
     "base_uri": "https://localhost:8080/",
     "height": 51
    },
    "colab_type": "code",
    "id": "QchqNPNrrkvL",
    "outputId": "ef3734fa-7100-4dfd-e6e9-65721fbee214"
   },
   "outputs": [
    {
     "name": "stdout",
     "output_type": "stream",
     "text": [
      "[0. 0. 0. 0. 0.]\n",
      "float32\n"
     ]
    }
   ],
   "source": [
    "array_of_zeros = np.zeros(5, dtype=np.float)\n",
    "array_of_zeros_32 = array_of_zeros.astype(np.float32)\n",
    "print(array_of_zeros_32)\n",
    "print(array_of_zeros_32.dtype)"
   ]
  },
  {
   "cell_type": "markdown",
   "metadata": {
    "colab_type": "text",
    "id": "OxeBB5Q2rkvP"
   },
   "source": [
    "### `np.arange`, Element-Wise Operations, and Reshaping"
   ]
  },
  {
   "cell_type": "markdown",
   "metadata": {
    "colab_type": "text",
    "id": "AruqMurYrkvR"
   },
   "source": [
    "**Create `x1` to be a 1-D array of floats containing `[0, 1, 2, 3, 4]`, but do not type these values explicitly; instead, use `np.arange`. Also create `x2` in the exact same way. Print `x1`, `x2`, and `x1`'s `dtype`. Be sure `x1` and `x2` store floats, not ints.**"
   ]
  },
  {
   "cell_type": "code",
   "execution_count": 64,
   "metadata": {
    "colab": {
     "base_uri": "https://localhost:8080/",
     "height": 68
    },
    "colab_type": "code",
    "id": "88utEXrqT9dL",
    "outputId": "2396b675-c3b0-478a-c43e-1107ef3e762b"
   },
   "outputs": [
    {
     "name": "stdout",
     "output_type": "stream",
     "text": [
      "[0. 1. 2. 3. 4.]\n",
      "[0. 1. 2. 3. 4.]\n",
      "float64\n"
     ]
    }
   ],
   "source": [
    "x1 = np.arange(5.0)\n",
    "x2 = np.arange(5.0)\n",
    "print(x1)\n",
    "print(x2)\n",
    "print(x1.dtype)"
   ]
  },
  {
   "cell_type": "markdown",
   "metadata": {
    "colab_type": "text",
    "id": "FrXS0vpqrkvW"
   },
   "source": [
    "**Create `y` via `y = x1 + x2`. Print `y` and its `dtype`.**"
   ]
  },
  {
   "cell_type": "code",
   "execution_count": 65,
   "metadata": {
    "colab": {
     "base_uri": "https://localhost:8080/",
     "height": 51
    },
    "colab_type": "code",
    "id": "fj2ZQ8ebrkvW",
    "outputId": "ee10c2c8-c7ef-43ae-c200-9ce8c8fadc39"
   },
   "outputs": [
    {
     "name": "stdout",
     "output_type": "stream",
     "text": [
      "[0. 2. 4. 6. 8.]\n",
      "float64\n"
     ]
    }
   ],
   "source": [
    "y = x1 + x2\n",
    "print(y)\n",
    "print(y.dtype)"
   ]
  },
  {
   "cell_type": "markdown",
   "metadata": {
    "colab_type": "text",
    "id": "Ryf58C_zrkvZ"
   },
   "source": [
    "**Reshape `x1` to have shape `[1, 5]` and `x2` to have shape `[5, 1]`. Print their shapes.**"
   ]
  },
  {
   "cell_type": "code",
   "execution_count": 66,
   "metadata": {
    "colab": {
     "base_uri": "https://localhost:8080/",
     "height": 51
    },
    "colab_type": "code",
    "id": "zNyqD-p8UjTd",
    "outputId": "9ff1a354-e692-4a3b-9e2c-7506a5220d10"
   },
   "outputs": [
    {
     "name": "stdout",
     "output_type": "stream",
     "text": [
      "(1, 5)\n",
      "(5, 1)\n"
     ]
    }
   ],
   "source": [
    "x1 = x1.reshape(1,5)\n",
    "x2 = x2.reshape(5,1)\n",
    "print(x1.shape)\n",
    "print(x2.shape)"
   ]
  },
  {
   "cell_type": "markdown",
   "metadata": {
    "colab_type": "text",
    "id": "9VcUU0eSrkvc"
   },
   "source": [
    "**Form `y` via `y = x1 + x2`. Print `y`.**"
   ]
  },
  {
   "cell_type": "code",
   "execution_count": 67,
   "metadata": {
    "colab": {
     "base_uri": "https://localhost:8080/",
     "height": 102
    },
    "colab_type": "code",
    "id": "m9dlKPmjUozM",
    "outputId": "fea6071c-4f54-4998-ef85-15ccde710000"
   },
   "outputs": [
    {
     "name": "stdout",
     "output_type": "stream",
     "text": [
      "[[0. 1. 2. 3. 4.]\n",
      " [1. 2. 3. 4. 5.]\n",
      " [2. 3. 4. 5. 6.]\n",
      " [3. 4. 5. 6. 7.]\n",
      " [4. 5. 6. 7. 8.]]\n"
     ]
    }
   ],
   "source": [
    "y = x1 + x2\n",
    "print(y)"
   ]
  },
  {
   "cell_type": "markdown",
   "metadata": {
    "colab_type": "text",
    "id": "29wzZXR8rkve"
   },
   "source": [
    "**In the following Markdown Cell, answer:**\n",
    "\n",
    "**Is this what you expected? (For now, just a 'Yes' or 'No' is fine; we will revisit this result later.)**"
   ]
  },
  {
   "cell_type": "markdown",
   "metadata": {
    "colab_type": "text",
    "id": "7XQq7FQVrkvf"
   },
   "source": [
    "No. Now understood that it was due to broadcasting!"
   ]
  },
  {
   "cell_type": "markdown",
   "metadata": {
    "colab_type": "text",
    "id": "D0rCBl9Trkvf"
   },
   "source": [
    "**Create a 1-D array x containing integers 0, 1, ..., 8 using `np.arange`. Print it, and its `dtype`.**"
   ]
  },
  {
   "cell_type": "code",
   "execution_count": 68,
   "metadata": {
    "colab": {
     "base_uri": "https://localhost:8080/",
     "height": 51
    },
    "colab_type": "code",
    "id": "E7txqslbVukC",
    "outputId": "fcda371d-3508-4418-a974-3b215ba9e6d4"
   },
   "outputs": [
    {
     "name": "stdout",
     "output_type": "stream",
     "text": [
      "[0 1 2 3 4 5 6 7 8]\n",
      "int64\n"
     ]
    }
   ],
   "source": [
    "x = np.arange(9)\n",
    "print(x)\n",
    "print(x.dtype)"
   ]
  },
  {
   "cell_type": "markdown",
   "metadata": {
    "colab_type": "text",
    "id": "uJjMqcFFrkvl"
   },
   "source": [
    "**Create `X` by reshaping `x` to have shape `[3, 3]`. Print `X`.**"
   ]
  },
  {
   "cell_type": "code",
   "execution_count": 69,
   "metadata": {
    "colab": {
     "base_uri": "https://localhost:8080/",
     "height": 68
    },
    "colab_type": "code",
    "id": "Z3HL6gtyVxYB",
    "outputId": "b6b636b6-1e90-4a3d-8107-21bb55e63ab2"
   },
   "outputs": [
    {
     "name": "stdout",
     "output_type": "stream",
     "text": [
      "[[0 1 2]\n",
      " [3 4 5]\n",
      " [6 7 8]]\n"
     ]
    }
   ],
   "source": [
    "x = x.reshape(3,3)\n",
    "print(x)"
   ]
  },
  {
   "cell_type": "markdown",
   "metadata": {
    "colab_type": "text",
    "id": "l7lkXba9equh"
   },
   "source": [
    "NumPy arrays are typically contiguous strips of memory, with the shape specifying how we view that memory. For example, if the shape of the strip of memory `[0, 1, 2, 3]` is `[2, 2]`, then we view it as a 2 x 2 matrix.\n"
   ]
  },
  {
   "cell_type": "markdown",
   "metadata": {
    "colab_type": "text",
    "id": "I3OsvgE1gXM7"
   },
   "source": [
    "**In the following Markdown Cell, answer:**\n",
    "\n",
    "\n",
    "**Given your previous `reshape` result, and the fact that `reshape` only changes our view of a contiguous strip of memory, do *rows* have elements that are mutually closer in memory, or do *columns* have elements that are mutually closer in memory?**"
   ]
  },
  {
   "cell_type": "markdown",
   "metadata": {
    "colab_type": "text",
    "id": "PHUt3CVRgKfw"
   },
   "source": [
    "The rows have elements that are mutually closer in memory. And, the last element of each row is mutually closer in memory to the first element of the corresponding next row."
   ]
  },
  {
   "cell_type": "markdown",
   "metadata": {
    "colab_type": "text",
    "id": "Y7yxOwmRrkvp"
   },
   "source": [
    "### Indexing, Masks, and Concatenation Using MNIST"
   ]
  },
  {
   "cell_type": "markdown",
   "metadata": {
    "colab_type": "text",
    "id": "E7pZN0iorkvr"
   },
   "source": [
    "**Run the following code to download and load the MNIST training set.** (The data will be downloaded if it is not already present.)"
   ]
  },
  {
   "cell_type": "code",
   "execution_count": 0,
   "metadata": {
    "colab": {},
    "colab_type": "code",
    "id": "MtIbOTNOrkvs"
   },
   "outputs": [],
   "source": [
    "import torchvision\n",
    "official_mnist_train = torchvision.datasets.MNIST(str(MNIST_PATH), train=True, download=True)\n",
    "train_images = official_mnist_train.train_data.numpy().astype(np.float)\n",
    "train_labels = official_mnist_train.train_labels.numpy().astype(np.int)"
   ]
  },
  {
   "cell_type": "markdown",
   "metadata": {
    "colab_type": "text",
    "id": "P83FqFfvrkvt"
   },
   "source": [
    "**Print the shape of `train_images` and `train_labels`.**"
   ]
  },
  {
   "cell_type": "code",
   "execution_count": 71,
   "metadata": {
    "colab": {
     "base_uri": "https://localhost:8080/",
     "height": 51
    },
    "colab_type": "code",
    "id": "ugX_uB-irkvt",
    "outputId": "5d7a41aa-710d-458c-9132-148330f982d5"
   },
   "outputs": [
    {
     "name": "stdout",
     "output_type": "stream",
     "text": [
      "(60000, 28, 28)\n",
      "(60000,)\n"
     ]
    }
   ],
   "source": [
    "print(train_images.shape)\n",
    "print(train_labels.shape)"
   ]
  },
  {
   "cell_type": "markdown",
   "metadata": {
    "colab_type": "text",
    "id": "cqo0Kz1Qrkvz"
   },
   "source": [
    "**In the following Markdown Cell, answer:**\n",
    "\n",
    "**Based on these shapes, how many training images are there? And what is the height and width of each image?**"
   ]
  },
  {
   "cell_type": "markdown",
   "metadata": {
    "colab_type": "text",
    "id": "qrWv5s4xrkv0"
   },
   "source": [
    "There are 60,000 training images and each image is of height = 28 px and width = 28 px"
   ]
  },
  {
   "cell_type": "markdown",
   "metadata": {
    "colab_type": "text",
    "id": "qyDiRLEorkv0"
   },
   "source": [
    "**Form `first_image` as a 2-D array with shape `[28, 28]`, containing the 0-th image of `train_images`, and visualize `first_image` using `plt.imshow`.** Also feel free to run `plt.set_cmap('gray')` after plotting the image if you'd like to see it using a grayscale colormap."
   ]
  },
  {
   "cell_type": "code",
   "execution_count": 72,
   "metadata": {
    "colab": {
     "base_uri": "https://localhost:8080/",
     "height": 282
    },
    "colab_type": "code",
    "id": "pb2Dyu3Krkv1",
    "outputId": "cc5b7fff-6076-4b62-ef00-a555399799b1"
   },
   "outputs": [
    {
     "name": "stdout",
     "output_type": "stream",
     "text": [
      "(28, 28)\n"
     ]
    },
    {
     "data": {
      "image/png": "[encoded data removed]",
      "text/plain": [
       "<matplotlib.figure.Figure at 0x7feb49708908>"
      ]
     },
     "metadata": {
      "tags": []
     },
     "output_type": "display_data"
    }
   ],
   "source": [
    "first_image = train_images[0]\n",
    "print(first_image.shape)\n",
    "plt.imshow(first_image)\n",
    "plt.set_cmap('gray')"
   ]
  },
  {
   "cell_type": "markdown",
   "metadata": {
    "colab_type": "text",
    "id": "Sc8i0Nk3rkv3"
   },
   "source": [
    "**Print the label of the 0-th image.**"
   ]
  },
  {
   "cell_type": "code",
   "execution_count": 73,
   "metadata": {
    "colab": {
     "base_uri": "https://localhost:8080/",
     "height": 34
    },
    "colab_type": "code",
    "id": "lo4wAkHtrkv3",
    "outputId": "0886417c-a82a-4b31-fd5e-53349ac404f3"
   },
   "outputs": [
    {
     "name": "stdout",
     "output_type": "stream",
     "text": [
      "5\n"
     ]
    }
   ],
   "source": [
    "print(train_labels[0])"
   ]
  },
  {
   "cell_type": "markdown",
   "metadata": {
    "colab_type": "text",
    "id": "7PKyaHjXrkv7"
   },
   "source": [
    "**Create a 2-D array `first_image_flipped` that consists of the first training image *but flipped horizontally*, and visualize the result using `plt.imshow`.** Note that `first_image` has a shape of `[H, W]`, where `H` is the height of the image and `W` is the width of the image."
   ]
  },
  {
   "cell_type": "code",
   "execution_count": 74,
   "metadata": {
    "colab": {
     "base_uri": "https://localhost:8080/",
     "height": 282
    },
    "colab_type": "code",
    "id": "g1Z6_SWDrkv7",
    "outputId": "acb4d6a8-b6e0-497a-9dee-ccdaa2ee49e2"
   },
   "outputs": [
    {
     "data": {
      "text/plain": [
       "<matplotlib.image.AxesImage at 0x7feb495f2320>"
      ]
     },
     "execution_count": 74,
     "metadata": {
      "tags": []
     },
     "output_type": "execute_result"
    },
    {
     "data": {
      "image/png": "[encoded data removed]",
      "text/plain": [
       "<matplotlib.figure.Figure at 0x7feb4c0e56d8>"
      ]
     },
     "metadata": {
      "tags": []
     },
     "output_type": "display_data"
    }
   ],
   "source": [
    "first_image_flipped = np.flip(first_image, 1)\n",
    "plt.imshow(first_image_flipped)"
   ]
  },
  {
   "cell_type": "markdown",
   "metadata": {
    "colab_type": "text",
    "id": "iEhKUYIkrkv9"
   },
   "source": [
    "**Create a 2-D array `first_image_down_2` that consists of the first training image but downsampled by a factor of 2, and plot the result using `plt.imshow`.** (The resulting image should have shape `[14, 14]`.)"
   ]
  },
  {
   "cell_type": "code",
   "execution_count": 75,
   "metadata": {
    "colab": {
     "base_uri": "https://localhost:8080/",
     "height": 282
    },
    "colab_type": "code",
    "id": "eSEbly8Xrkv-",
    "outputId": "f4e5ce45-e0c4-4253-986b-ea1028f8304f"
   },
   "outputs": [
    {
     "name": "stdout",
     "output_type": "stream",
     "text": [
      "(14, 14)\n"
     ]
    },
    {
     "data": {
      "image/png": "[encoded data removed]",
      "text/plain": [
       "<matplotlib.figure.Figure at 0x7feb4962a2b0>"
      ]
     },
     "metadata": {
      "tags": []
     },
     "output_type": "display_data"
    }
   ],
   "source": [
    "first_image_down_2 = first_image[::2, ::2]\n",
    "plt.imshow(first_image_down_2)\n",
    "print(first_image_down_2.shape)"
   ]
  },
  {
   "cell_type": "markdown",
   "metadata": {
    "colab_type": "text",
    "id": "PPj34qQ_rkv_"
   },
   "source": [
    "**Create a 2-D array `first_image_down_4` that consists of the first training image but downsampled by a factor of 4, and plot the result using `plt.imshow`.** (The resulting image should have shape `[7, 7]`.)"
   ]
  },
  {
   "cell_type": "code",
   "execution_count": 76,
   "metadata": {
    "colab": {
     "base_uri": "https://localhost:8080/",
     "height": 282
    },
    "colab_type": "code",
    "id": "nQWgNmSSrkwA",
    "outputId": "718afc7e-d58c-418c-b7e0-0724f4c515d7"
   },
   "outputs": [
    {
     "name": "stdout",
     "output_type": "stream",
     "text": [
      "(7, 7)\n"
     ]
    },
    {
     "data": {
      "image/png": "[encoded data removed]",
      "text/plain": [
       "<matplotlib.figure.Figure at 0x7feb495a8198>"
      ]
     },
     "metadata": {
      "tags": []
     },
     "output_type": "display_data"
    }
   ],
   "source": [
    "first_image_down_2 = first_image[::4, ::4]\n",
    "plt.imshow(first_image_down_2)\n",
    "print(first_image_down_2.shape)"
   ]
  },
  {
   "cell_type": "markdown",
   "metadata": {
    "colab_type": "text",
    "id": "pvMjhMlorkwD"
   },
   "source": [
    "**Print the minimum and maximum values of `first_image`.**"
   ]
  },
  {
   "cell_type": "code",
   "execution_count": 77,
   "metadata": {
    "colab": {
     "base_uri": "https://localhost:8080/",
     "height": 71
    },
    "colab_type": "code",
    "id": "e-exxIvTrkwE",
    "outputId": "fcdb5d30-1e98-48fa-fffc-34b64709caa4"
   },
   "outputs": [
    {
     "name": "stdout",
     "output_type": "stream",
     "text": [
      "min:  0.0\n",
      "max:  255.0\n"
     ]
    }
   ],
   "source": [
    "print(\"min: \", np.min(first_image))\n",
    "print(\"max: \", np.max(first_image))"
   ]
  },
  {
   "cell_type": "markdown",
   "metadata": {
    "colab_type": "text",
    "id": "FEmPgbJGrkwG"
   },
   "source": [
    "**Create a copy of `first_image`, `first_image_copy`, using `first_image_copy = first_image.copy()`.**"
   ]
  },
  {
   "cell_type": "code",
   "execution_count": 0,
   "metadata": {
    "colab": {},
    "colab_type": "code",
    "id": "O3NIjyeRrkwG"
   },
   "outputs": [],
   "source": [
    "first_image_copy = first_image.copy()"
   ]
  },
  {
   "cell_type": "markdown",
   "metadata": {
    "colab_type": "text",
    "id": "pEFKOl2vrkwI"
   },
   "source": [
    "**Create a 2-D boolean mask named `mask` with the same shape as `first_image_copy`, with elements that are `True` whenever a pixel's value exceeds 50 and which is `False` otherwise. Print `mask`'s `dtype` and also print how many values are `True`.**"
   ]
  },
  {
   "cell_type": "code",
   "execution_count": 79,
   "metadata": {
    "colab": {
     "base_uri": "https://localhost:8080/",
     "height": 71
    },
    "colab_type": "code",
    "id": "r_pRWzAQrkwK",
    "outputId": "3e9192fb-f52e-43f0-839e-d5da3e7508f0"
   },
   "outputs": [
    {
     "name": "stdout",
     "output_type": "stream",
     "text": [
      "bool\n",
      "134\n"
     ]
    }
   ],
   "source": [
    "mask = np.full(first_image_copy.shape, False)\n",
    "true_indices = first_image_copy > 50\n",
    "mask[true_indices] = True\n",
    "print(mask.dtype)\n",
    "print(np.count_nonzero(mask))"
   ]
  },
  {
   "cell_type": "markdown",
   "metadata": {
    "colab_type": "text",
    "id": "2tvDj00ZrkwM"
   },
   "source": [
    "**Visualize `mask` using `plt.imshow`.**"
   ]
  },
  {
   "cell_type": "code",
   "execution_count": 80,
   "metadata": {
    "colab": {
     "base_uri": "https://localhost:8080/",
     "height": 282
    },
    "colab_type": "code",
    "id": "AgnuuO4SrkwN",
    "outputId": "586988fd-4704-40ee-a555-bbcbd1e7bddf"
   },
   "outputs": [
    {
     "data": {
      "text/plain": [
       "<matplotlib.image.AxesImage at 0x7feb49493da0>"
      ]
     },
     "execution_count": 80,
     "metadata": {
      "tags": []
     },
     "output_type": "execute_result"
    },
    {
     "data": {
      "image/png": "[encoded data removed]",
      "text/plain": [
       "<matplotlib.figure.Figure at 0x7feb496e9048>"
      ]
     },
     "metadata": {
      "tags": []
     },
     "output_type": "display_data"
    }
   ],
   "source": [
    "plt.imshow(mask)"
   ]
  },
  {
   "cell_type": "markdown",
   "metadata": {
    "colab_type": "text",
    "id": "zrnd7fcLrkwQ"
   },
   "source": [
    "**Create `mask_upper_half` by keeping only the upper half of `mask`, and visualize `mask_upper_half` using `plt.imshow`.** (`mask_upper_half` should have shape `[14, 28]`.)"
   ]
  },
  {
   "cell_type": "code",
   "execution_count": 81,
   "metadata": {
    "colab": {
     "base_uri": "https://localhost:8080/",
     "height": 249
    },
    "colab_type": "code",
    "id": "qyPm1LO5rkwR",
    "outputId": "68a60aeb-8b0c-4819-9aee-5b476d3071a5"
   },
   "outputs": [
    {
     "name": "stdout",
     "output_type": "stream",
     "text": [
      "(14, 28)\n"
     ]
    },
    {
     "data": {
      "text/plain": [
       "<matplotlib.image.AxesImage at 0x7feb494765f8>"
      ]
     },
     "execution_count": 81,
     "metadata": {
      "tags": []
     },
     "output_type": "execute_result"
    },
    {
     "data": {
      "image/png": "[encoded data removed]",
      "text/plain": [
       "<matplotlib.figure.Figure at 0x7feb494f2668>"
      ]
     },
     "metadata": {
      "tags": []
     },
     "output_type": "display_data"
    }
   ],
   "source": [
    "mask_upper_half = mask[:14,:]\n",
    "print(mask_upper_half.shape)\n",
    "plt.imshow(mask_upper_half)"
   ]
  },
  {
   "cell_type": "markdown",
   "metadata": {
    "colab_type": "text",
    "id": "T1bF8NMfrkwV"
   },
   "source": [
    "**Halve all pixels that exceed 50 in `first_image_copy` that exceed a value of 50, in place, using `mask`, and then print the minimum and maximum values of `first_image_copy`.**"
   ]
  },
  {
   "cell_type": "code",
   "execution_count": 82,
   "metadata": {
    "colab": {
     "base_uri": "https://localhost:8080/",
     "height": 71
    },
    "colab_type": "code",
    "id": "UEen_3bVrkwV",
    "outputId": "5d530573-3cc1-485b-a110-b4867256a7e7"
   },
   "outputs": [
    {
     "name": "stdout",
     "output_type": "stream",
     "text": [
      "0.0\n",
      "127.5\n"
     ]
    }
   ],
   "source": [
    "first_image_copy[mask]/=2\n",
    "print(np.min(first_image_copy))\n",
    "print(np.max(first_image_copy))"
   ]
  },
  {
   "cell_type": "markdown",
   "metadata": {
    "colab_type": "text",
    "id": "S2CnfiRnrkwa"
   },
   "source": [
    "**Form `first_ten_images_as_one` by concatenating the first 10 training MNIST images horizontally, and visualize the result using `plt.imshow`.**"
   ]
  },
  {
   "cell_type": "code",
   "execution_count": 83,
   "metadata": {
    "colab": {
     "base_uri": "https://localhost:8080/",
     "height": 122
    },
    "colab_type": "code",
    "id": "xVGC9hA-rkwa",
    "outputId": "ed219b02-2923-4983-9846-b1d817572dfe"
   },
   "outputs": [
    {
     "data": {
      "text/plain": [
       "<matplotlib.image.AxesImage at 0x7feb493db160>"
      ]
     },
     "execution_count": 83,
     "metadata": {
      "tags": []
     },
     "output_type": "execute_result"
    },
    {
     "data": {
      "image/png": "[encoded data removed]",
      "text/plain": [
       "<matplotlib.figure.Figure at 0x7feb5a983470>"
      ]
     },
     "metadata": {
      "tags": []
     },
     "output_type": "display_data"
    }
   ],
   "source": [
    "first_ten_images_as_one = np.concatenate([train_images[i] for i in range(10)], axis=1)\n",
    "plt.imshow(first_ten_images_as_one)"
   ]
  },
  {
   "cell_type": "markdown",
   "metadata": {
    "colab_type": "text",
    "id": "CiDY8XWUrkwc"
   },
   "source": [
    "### Element-Wise Multiplication vs. Matrix Multiplication"
   ]
  },
  {
   "cell_type": "markdown",
   "metadata": {
    "colab_type": "text",
    "id": "JWjeSndRrkwc"
   },
   "source": [
    "**Create `A` and `B`, each 2-D matrices of ones with shape `[3, 3]`.**"
   ]
  },
  {
   "cell_type": "code",
   "execution_count": 0,
   "metadata": {
    "colab": {},
    "colab_type": "code",
    "id": "oBTegRogi5Ii"
   },
   "outputs": [],
   "source": [
    "A = np.ones((3,3))\n",
    "B = np.ones((3,3))"
   ]
  },
  {
   "cell_type": "markdown",
   "metadata": {
    "colab_type": "text",
    "id": "AsbpmRNwrkwe"
   },
   "source": [
    "**Form `C_star` via `C_star = A * B`, and print `C_star`.**"
   ]
  },
  {
   "cell_type": "code",
   "execution_count": 85,
   "metadata": {
    "colab": {
     "base_uri": "https://localhost:8080/",
     "height": 88
    },
    "colab_type": "code",
    "id": "Bjfa79cFjA1y",
    "outputId": "c66d7610-d13b-4682-84f2-b9fbdee8a0ee"
   },
   "outputs": [
    {
     "name": "stdout",
     "output_type": "stream",
     "text": [
      "[[1. 1. 1.]\n",
      " [1. 1. 1.]\n",
      " [1. 1. 1.]]\n"
     ]
    }
   ],
   "source": [
    "C_star = A * B\n",
    "print(C_star)"
   ]
  },
  {
   "cell_type": "markdown",
   "metadata": {
    "colab_type": "text",
    "id": "zPKfw5rDrkwg"
   },
   "source": [
    "**Form `C_at` via `C_at = A @ B`, and print `C_at`.**"
   ]
  },
  {
   "cell_type": "code",
   "execution_count": 86,
   "metadata": {
    "colab": {
     "base_uri": "https://localhost:8080/",
     "height": 88
    },
    "colab_type": "code",
    "id": "jFTC1sAhjEvm",
    "outputId": "d761487c-8fe2-4064-b76b-7b26542d056b"
   },
   "outputs": [
    {
     "name": "stdout",
     "output_type": "stream",
     "text": [
      "[[3. 3. 3.]\n",
      " [3. 3. 3.]\n",
      " [3. 3. 3.]]\n"
     ]
    }
   ],
   "source": [
    "C_at = A @ B\n",
    "print(C_at)"
   ]
  },
  {
   "cell_type": "markdown",
   "metadata": {
    "colab_type": "text",
    "id": "CcUUvfGpjHJS"
   },
   "source": [
    "**In the following Markdown Cell, answer:**\n",
    "\n",
    "**What operation does `*` perform? What operation does `@` perform?**"
   ]
  },
  {
   "cell_type": "markdown",
   "metadata": {
    "colab_type": "text",
    "id": "U-AIC_ttjSW1"
   },
   "source": [
    "The * multiplies the arrays A and B, element by element. Whereas the @ performs the standard matrix multiplication (dot product) of A and B."
   ]
  },
  {
   "cell_type": "markdown",
   "metadata": {
    "colab_type": "text",
    "id": "_KUflx1prkwk"
   },
   "source": [
    "### Broadcasting"
   ]
  },
  {
   "cell_type": "markdown",
   "metadata": {
    "colab_type": "text",
    "id": "HykGB66dM7MO"
   },
   "source": [
    "Suppose you have some data collected in a 1-D array, which is not 'normalized' in the sense that it has a mean that's far from 0 and a standard deviation that's far from 1:"
   ]
  },
  {
   "cell_type": "code",
   "execution_count": 87,
   "metadata": {
    "colab": {
     "base_uri": "https://localhost:8080/",
     "height": 51
    },
    "colab_type": "code",
    "id": "Gxqlr64OMc_v",
    "outputId": "a6d78dce-4f09-4a66-b6a7-56afde51dc32"
   },
   "outputs": [
    {
     "name": "stdout",
     "output_type": "stream",
     "text": [
      "2.8\n",
      "1.7227884373886422\n"
     ]
    }
   ],
   "source": [
    "x = np.array([3.2, 1.1, 1.2, 5.3, 3.9, 1.9, 2.0, 6.2, 1.0, 2.2])\n",
    "print(x.mean())\n",
    "print(x.std())"
   ]
  },
  {
   "cell_type": "markdown",
   "metadata": {
    "colab_type": "text",
    "id": "p3vPH5ykNFKs"
   },
   "source": [
    "**Form `z` by normalizing `x`. That is, each entry in `z` should be the *standardized score* of the corresponding entry in `x`: $z_i = (x_i - \\mu) / \\sigma$. Print `z` and verify that its mean is close to 0.0 and that its standard deviation is close to 1.0.**"
   ]
  },
  {
   "cell_type": "code",
   "execution_count": 88,
   "metadata": {
    "colab": {
     "base_uri": "https://localhost:8080/",
     "height": 105
    },
    "colab_type": "code",
    "id": "2UbG0gTrMmio",
    "outputId": "36dddb3d-0732-474c-d643-0de3dfa8e4bb"
   },
   "outputs": [
    {
     "name": "stdout",
     "output_type": "stream",
     "text": [
      "[ 0.23218173 -0.98677235 -0.92872692  1.45113581  0.63849976 -0.52240889\n",
      " -0.46436346  1.97354471 -1.04481779 -0.3482726 ]\n",
      "9.992007221626409e-17\n",
      "1.0000000000000002\n"
     ]
    }
   ],
   "source": [
    "z = (x - x.mean())/x.std()\n",
    "print(z)\n",
    "print(z.mean())\n",
    "print(z.std())"
   ]
  },
  {
   "cell_type": "markdown",
   "metadata": {
    "colab_type": "text",
    "id": "m2hreOdTNc9q"
   },
   "source": [
    "Now suppose that you have 5 3-dimensional feature vectors collected in an array, and that none of the features are normalized, in that each feature has a mean that's far from 0 and a standard deviation that's far from 1:"
   ]
  },
  {
   "cell_type": "code",
   "execution_count": 89,
   "metadata": {
    "colab": {
     "base_uri": "https://localhost:8080/",
     "height": 51
    },
    "colab_type": "code",
    "id": "C6wrb0_RM3ux",
    "outputId": "25d5e79c-5c83-401f-be9a-1ae9bf762d1e"
   },
   "outputs": [
    {
     "name": "stdout",
     "output_type": "stream",
     "text": [
      "[ 3.76 -0.36  1.08]\n",
      "[2.73027471 0.71442284 1.26396202]\n"
     ]
    }
   ],
   "source": [
    "data = np.array([[7.5, -1.1,  1.6],\n",
    "                 [0.1,  0.9, -0.7],\n",
    "                 [6.3, -0.9,  3.1],\n",
    "                 [2.5, -0.6,  0.4],\n",
    "                 [2.4, -0.1,  1.0]])\n",
    "print(data.mean(axis=0))\n",
    "print(data.std(axis=0))"
   ]
  },
  {
   "cell_type": "markdown",
   "metadata": {
    "colab_type": "text",
    "id": "MWwO_567Of7g"
   },
   "source": [
    "**Write code to normalize this data on a feature-wise basis, so that each feature has mean 0 and standard deviation 1, and store the result in `normalized_data`. Print `normalized_data` along with its per-feature mean and its per-feature standard deviation.**"
   ]
  },
  {
   "cell_type": "code",
   "execution_count": 90,
   "metadata": {
    "colab": {
     "base_uri": "https://localhost:8080/",
     "height": 156
    },
    "colab_type": "code",
    "id": "8cNQjOwjPUoY",
    "outputId": "cffcc412-a643-4ec1-f3c1-aa3a3204d20c"
   },
   "outputs": [
    {
     "name": "stdout",
     "output_type": "stream",
     "text": [
      "[[ 1.36982553 -1.03580115  0.41140477]\n",
      " [-1.34052445  1.76366141 -1.40827016]\n",
      " [ 0.93030932 -0.75585489  1.59814928]\n",
      " [-0.46149202 -0.33593551 -0.53799085]\n",
      " [-0.49811837  0.36393013 -0.06329304]]\n",
      "[ 1.88737914e-16  1.11022302e-17 -5.55111512e-18]\n",
      "[1. 1. 1.]\n"
     ]
    }
   ],
   "source": [
    "normalized_data = (data - data.mean(axis=0)) / data.std(axis=0)\n",
    "print(normalized_data)\n",
    "print(normalized_data.mean(axis=0))\n",
    "print(normalized_data.std(axis=0))"
   ]
  },
  {
   "cell_type": "markdown",
   "metadata": {
    "colab_type": "text",
    "id": "LUcbZFt7PWbw"
   },
   "source": [
    "Now suppose that you have 3 3-D vectors that each represent *unnormalized class scores*. That is, each 3-D vector represents the scores for three different classes in a classification problem. (For example, these could be the outputs of an image-classification model, with each row corresponding to a particular image and each column corresponding to a particular class, such as 'dog', 'cat', or 'other'.)\n",
    "\n",
    "If each row represented a valid probability distribution, then their elements would sum do 1, but they currently do not:"
   ]
  },
  {
   "cell_type": "code",
   "execution_count": 91,
   "metadata": {
    "colab": {
     "base_uri": "https://localhost:8080/",
     "height": 85
    },
    "colab_type": "code",
    "id": "o-565kjQQoWo",
    "outputId": "443a451a-5712-441f-d2c3-c048c356dfff"
   },
   "outputs": [
    {
     "name": "stdout",
     "output_type": "stream",
     "text": [
      "[[8.2 6.7 6.3]\n",
      " [9.5 0.2 9.3]\n",
      " [3.6 2.7 9. ]]\n",
      "[21.2 19.  15.3]\n"
     ]
    }
   ],
   "source": [
    "scores = np.array([[8.2, 6.7, 6.3],\n",
    "                   [9.5, 0.2, 9.3],\n",
    "                   [3.6, 2.7, 9.0]])\n",
    "print(scores)\n",
    "print(scores.sum(axis=1))"
   ]
  },
  {
   "cell_type": "markdown",
   "metadata": {
    "colab_type": "text",
    "id": "-8Zeiqb5Rblr"
   },
   "source": [
    "**Write code to compute and print the array `probabilities` by dividing each row of `scores` by its sum. Print `probabilities` and the sum of each of its rows, to verify that each row sums to 1.** Hint: If the rows do not sum to 1, then think about broadcasting and take a look at the `keepdims` keyword argument of NumPy's `sum` function."
   ]
  },
  {
   "cell_type": "code",
   "execution_count": 92,
   "metadata": {
    "colab": {
     "base_uri": "https://localhost:8080/",
     "height": 105
    },
    "colab_type": "code",
    "id": "m2mF2tPHSWEn",
    "outputId": "d65956c2-8228-47d6-839c-849dffcc62da"
   },
   "outputs": [
    {
     "name": "stdout",
     "output_type": "stream",
     "text": [
      "[[0.38679245 0.31603774 0.29716981]\n",
      " [0.5        0.01052632 0.48947368]\n",
      " [0.23529412 0.17647059 0.58823529]]\n",
      "[1. 1. 1.]\n"
     ]
    }
   ],
   "source": [
    "probabilities = scores / scores.sum(axis=1, keepdims=True)\n",
    "print(probabilities)\n",
    "print(probabilities.sum(axis=1))"
   ]
  },
  {
   "cell_type": "markdown",
   "metadata": {
    "colab_type": "text",
    "id": "RSIJR_Awrkw7"
   },
   "source": [
    "**Complete the `tril_` function below by inserting only 2 lines of code at the bottom of the function.** Hint: Form a mask using broadcasting, and use the mask to modify `X` in place."
   ]
  },
  {
   "cell_type": "code",
   "execution_count": 0,
   "metadata": {
    "colab": {},
    "colab_type": "code",
    "id": "GFRy7e-egzBu"
   },
   "outputs": [],
   "source": [
    "def tril_(X):\n",
    "    \"\"\"Modify X in place to become lower triangular.\n",
    "\n",
    "    Args:\n",
    "        X: A 2-D NumPy array with shape [M, N].\n",
    "    \"\"\"\n",
    "    if X.ndim != 2:\n",
    "        raise ValueError('X must be a 2-D array.')\n",
    "    M, N = X.shape\n",
    "    i = np.arange(M).reshape(1, M)\n",
    "    j = np.arange(N).reshape(N, 1)\n",
    "    \n",
    "    upper_triangle_mask = i>j\n",
    "    X[upper_triangle_mask] = 0"
   ]
  },
  {
   "cell_type": "markdown",
   "metadata": {
    "colab_type": "text",
    "id": "wcnYgEjxrkw9"
   },
   "source": [
    "**Create a random matrix `X` with shape `[3, 3]` using `np.random.rand`, run `tril_(X)`, and verify that `X` is now lower triangular.**"
   ]
  },
  {
   "cell_type": "code",
   "execution_count": 94,
   "metadata": {
    "colab": {
     "base_uri": "https://localhost:8080/",
     "height": 88
    },
    "colab_type": "code",
    "id": "vjR5-HLsiV_G",
    "outputId": "3bceb348-fdf3-4a08-9f2f-872177d97a39"
   },
   "outputs": [
    {
     "name": "stdout",
     "output_type": "stream",
     "text": [
      "[[0.35671095 0.         0.        ]\n",
      " [0.21110452 0.09896978 0.        ]\n",
      " [0.28200488 0.45133154 0.12825627]]\n"
     ]
    }
   ],
   "source": [
    "X = np.random.rand(3,3)\n",
    "tril_(X)\n",
    "print(X)"
   ]
  },
  {
   "cell_type": "markdown",
   "metadata": {
    "colab_type": "text",
    "id": "7xipO9-lrkxB"
   },
   "source": [
    "**Create a random matrix `X` with shape `[5, 5]` using `np.random.rand`, run `tril_(X)`, and verify that `X` is now lower triangular.**"
   ]
  },
  {
   "cell_type": "code",
   "execution_count": 95,
   "metadata": {
    "colab": {
     "base_uri": "https://localhost:8080/",
     "height": 122
    },
    "colab_type": "code",
    "id": "nX8Q8o3TrkxD",
    "outputId": "97ac1874-4720-40d6-b910-23d6a69b4687"
   },
   "outputs": [
    {
     "name": "stdout",
     "output_type": "stream",
     "text": [
      "[[0.16862897 0.         0.         0.         0.        ]\n",
      " [0.50765816 0.47207842 0.         0.         0.        ]\n",
      " [0.65521634 0.77118226 0.23227529 0.         0.        ]\n",
      " [0.3159844  0.19857903 0.67645456 0.79154413 0.        ]\n",
      " [0.08013568 0.78302037 0.82239975 0.48541881 0.05734495]]\n"
     ]
    }
   ],
   "source": [
    "X = np.random.rand(5,5)\n",
    "tril_(X)\n",
    "print(X)"
   ]
  },
  {
   "cell_type": "markdown",
   "metadata": {
    "colab_type": "text",
    "id": "GPtxxYs4Lhva"
   },
   "source": [
    "### Booleans vs. Masks"
   ]
  },
  {
   "cell_type": "markdown",
   "metadata": {
    "colab_type": "text",
    "id": "0J7DU76krkxF"
   },
   "source": [
    "**Create `x` using `x = np.array([1, 2, 3])`, and create `y` using `y = x`.**"
   ]
  },
  {
   "cell_type": "code",
   "execution_count": 0,
   "metadata": {
    "colab": {},
    "colab_type": "code",
    "id": "AU2Sk5ybrkxF"
   },
   "outputs": [],
   "source": [
    "x = np.array([1, 2, 3])\n",
    "y = x"
   ]
  },
  {
   "cell_type": "markdown",
   "metadata": {
    "colab_type": "text",
    "id": "Kc2ZypEirkxH"
   },
   "source": [
    "**Print the expression `x == y`.**"
   ]
  },
  {
   "cell_type": "code",
   "execution_count": 97,
   "metadata": {
    "colab": {
     "base_uri": "https://localhost:8080/",
     "height": 54
    },
    "colab_type": "code",
    "id": "0amFlnYprkxI",
    "outputId": "035a8c6a-3429-4a43-e5f3-1df120dd4694"
   },
   "outputs": [
    {
     "name": "stdout",
     "output_type": "stream",
     "text": [
      "[ True  True  True]\n"
     ]
    }
   ],
   "source": [
    "print(x == y)"
   ]
  },
  {
   "cell_type": "markdown",
   "metadata": {
    "colab_type": "text",
    "id": "2BfBVMHNrkxL"
   },
   "source": [
    "**Use `np.all` to test whether *all* elements of `x` are equal to their corresponding elements in `y`. You should print the result, which should be a single boolean, `True` or `False`.**"
   ]
  },
  {
   "cell_type": "code",
   "execution_count": 98,
   "metadata": {
    "colab": {
     "base_uri": "https://localhost:8080/",
     "height": 54
    },
    "colab_type": "code",
    "id": "HLqgLdTLVyYV",
    "outputId": "96d35124-7374-4b13-84c0-91c02a38f4c5"
   },
   "outputs": [
    {
     "name": "stdout",
     "output_type": "stream",
     "text": [
      "True\n"
     ]
    }
   ],
   "source": [
    "print(np.all(x == y))"
   ]
  },
  {
   "cell_type": "markdown",
   "metadata": {
    "colab_type": "text",
    "id": "OPO5Th1nrkxP"
   },
   "source": [
    "**Modify the 0-th element of `y` via `y[0] = 5`, and again use `np.all` to test whether all elements of `x` are equal to their corresponding elements in `y`, and again print the result.**"
   ]
  },
  {
   "cell_type": "code",
   "execution_count": 99,
   "metadata": {
    "colab": {
     "base_uri": "https://localhost:8080/",
     "height": 54
    },
    "colab_type": "code",
    "id": "xP1X-3COV-q_",
    "outputId": "b5c4690f-6814-40fa-c061-145e7be50371"
   },
   "outputs": [
    {
     "name": "stdout",
     "output_type": "stream",
     "text": [
      "True\n"
     ]
    }
   ],
   "source": [
    "y[0] = 5\n",
    "print(np.all(x == y))"
   ]
  },
  {
   "cell_type": "markdown",
   "metadata": {
    "colab_type": "text",
    "id": "7-9o-m4krkxR"
   },
   "source": [
    "**In the Markdown Cell below, answer:**\n",
    "\n",
    "**Is the last result what you expected? Explain what is happening here.**"
   ]
  },
  {
   "cell_type": "markdown",
   "metadata": {
    "colab_type": "text",
    "id": "CNlnclwdrkxT"
   },
   "source": [
    "I expected that any change in y will reflect in x.\n",
    "Because, in python, if we use the normal assignment (=) operator to copy data, both x and y are effectively the same objects internally. (see below)"
   ]
  },
  {
   "cell_type": "code",
   "execution_count": 100,
   "metadata": {
    "colab": {
     "base_uri": "https://localhost:8080/",
     "height": 68
    },
    "colab_type": "code",
    "id": "Wx_bTUmF1CDy",
    "outputId": "6e6e4e59-318d-4ed9-df0e-73fdcfc1755b"
   },
   "outputs": [
    {
     "name": "stdout",
     "output_type": "stream",
     "text": [
      "[5 2 3]\n",
      "[5 2 3]\n",
      "True\n"
     ]
    }
   ],
   "source": [
    "print(x)\n",
    "print(y)\n",
    "print(id(x) == id(y)) # x and y are the same objects"
   ]
  },
  {
   "cell_type": "markdown",
   "metadata": {
    "colab_type": "text",
    "id": "jlPGb910rkxT"
   },
   "source": [
    "**Create `x = np.array([1, 2, 3])` and `y = np.array([2, 2, 2])`. Again use `np.all` to test whether all elements of `x` are equal to their corresponding elements in `y`, and again print the result.**"
   ]
  },
  {
   "cell_type": "code",
   "execution_count": 101,
   "metadata": {
    "colab": {
     "base_uri": "https://localhost:8080/",
     "height": 34
    },
    "colab_type": "code",
    "id": "w1vkvXD1WMr6",
    "outputId": "d183e337-3b2a-430e-95e9-ec1cee44ac83"
   },
   "outputs": [
    {
     "name": "stdout",
     "output_type": "stream",
     "text": [
      "False\n"
     ]
    }
   ],
   "source": [
    "x = np.array([1, 2, 3])\n",
    "y = np.array([2, 2, 2])\n",
    "print(np.all(x == y))"
   ]
  },
  {
   "cell_type": "markdown",
   "metadata": {
    "colab_type": "text",
    "id": "cp7YqS_srkxW"
   },
   "source": [
    "**Use `np.any` to test whether *any* elements of `x` are equal to their corresponding elements in `y`, and again print the result.**"
   ]
  },
  {
   "cell_type": "code",
   "execution_count": 102,
   "metadata": {
    "colab": {
     "base_uri": "https://localhost:8080/",
     "height": 34
    },
    "colab_type": "code",
    "id": "UNC1sUXqWQ24",
    "outputId": "02801d59-f784-4f69-fd07-d86cd65cfe4c"
   },
   "outputs": [
    {
     "name": "stdout",
     "output_type": "stream",
     "text": [
      "True\n"
     ]
    }
   ],
   "source": [
    "print(np.any(x == y))"
   ]
  }
 ],
 "metadata": {
  "colab": {
   "collapsed_sections": [],
   "name": "spalani2_cs382_f2018_lab2.ipynb",
   "provenance": [],
   "toc_visible": true,
   "version": "0.3.2"
  },
  "kernelspec": {
   "display_name": "Python 3",
   "language": "python",
   "name": "python3"
  },
  "language_info": {
   "codemirror_mode": {
    "name": "ipython",
    "version": 3
   },
   "file_extension": ".py",
   "mimetype": "text/x-python",
   "name": "python",
   "nbconvert_exporter": "python",
   "pygments_lexer": "ipython3",
   "version": "3.6.5"
  }
 },
 "nbformat": 4,
 "nbformat_minor": 1
}
