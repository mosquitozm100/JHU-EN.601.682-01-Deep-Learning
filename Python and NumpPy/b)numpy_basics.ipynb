{
 "cells": [
  {
   "cell_type": "code",
   "execution_count": 0,
   "metadata": {
    "colab": {},
    "colab_type": "code",
    "id": "WeG6mrwNSW6w"
   },
   "outputs": [],
   "source": [
    "%matplotlib inline\n",
    "import matplotlib.pyplot as plt\n",
    "import numpy as np\n",
    "import torch\n",
    "\n",
    "from pathlib import Path\n",
    "HOME = Path.home()\n",
    "MNIST_PATH = HOME / 'data' / 'mnist'"
   ]
  },
  {
   "cell_type": "markdown",
   "metadata": {
    "colab_type": "text",
    "id": "Z0xVykeNrkue"
   },
   "source": [
    "### Read this First\n",
    "\n",
    "#### Remember that `tab` is is useful for autocompletion.\n",
    "\n",
    "#### Remember that `shift + tab` is useful for rapidly obtaining usage + documentation."
   ]
  },
  {
   "cell_type": "markdown",
   "metadata": {
    "colab_type": "text",
    "id": "zURPVVsErkug"
   },
   "source": [
    "### Basic Shapes and Types in NumPy"
   ]
  },
  {
   "cell_type": "markdown",
   "metadata": {
    "colab_type": "text",
    "id": "uWWZ5TgUrkug"
   },
   "source": [
    "**Create a 1-D array of 5 zeros named `array_of_zeros`. Print it, verify that its shape is `[5]`, and print its `dtype`.**"
   ]
  },
  {
   "cell_type": "code",
   "execution_count": 0,
   "metadata": {
    "colab": {},
    "colab_type": "code",
    "id": "aM7fRX1vSLwo"
   },
   "outputs": [],
   "source": []
  },
  {
   "cell_type": "markdown",
   "metadata": {
    "colab_type": "text",
    "id": "0g9Y0ZPkrkuj"
   },
   "source": [
    "**Print the transpose of `array_of_zeros`.**"
   ]
  },
  {
   "cell_type": "code",
   "execution_count": 0,
   "metadata": {
    "colab": {},
    "colab_type": "code",
    "id": "dxmWaL7grkul"
   },
   "outputs": [],
   "source": []
  },
  {
   "cell_type": "markdown",
   "metadata": {
    "colab_type": "text",
    "id": "ohPucNsqrkum"
   },
   "source": [
    "**In the following Markdown Cell, answer:**\n",
    "\n",
    "**Is its transpose what you expected? Why or why not?**"
   ]
  },
  {
   "cell_type": "markdown",
   "metadata": {
    "colab_type": "text",
    "id": "MM2R_F9Nrkun"
   },
   "source": []
  },
  {
   "cell_type": "markdown",
   "metadata": {
    "colab_type": "text",
    "id": "vebIa0zKrkuo"
   },
   "source": [
    "**Create a 2-D array of 5 zeros, named `array_of_zeros`, with shape `[1, 5]`. Print it, and print its shape.**"
   ]
  },
  {
   "cell_type": "code",
   "execution_count": 0,
   "metadata": {
    "colab": {},
    "colab_type": "code",
    "id": "Qe6JkZhgSLmH"
   },
   "outputs": [],
   "source": []
  },
  {
   "cell_type": "markdown",
   "metadata": {
    "colab_type": "text",
    "id": "qsszc4-Krkus"
   },
   "source": [
    "**Print the transpose of `array_of_zeros`.**"
   ]
  },
  {
   "cell_type": "code",
   "execution_count": 0,
   "metadata": {
    "colab": {},
    "colab_type": "code",
    "id": "e4MI4IRarkut"
   },
   "outputs": [],
   "source": []
  },
  {
   "cell_type": "markdown",
   "metadata": {
    "colab_type": "text",
    "id": "vn495PUSrkuw"
   },
   "source": [
    "**In the following Markdown Cell, answer:**\n",
    "\n",
    "**Is its transpose what you expected? Why or why not?**"
   ]
  },
  {
   "cell_type": "markdown",
   "metadata": {
    "colab_type": "text",
    "id": "uegg6GGArkux"
   },
   "source": []
  },
  {
   "cell_type": "markdown",
   "metadata": {
    "colab_type": "text",
    "id": "SIxnesb8rkux"
   },
   "source": [
    "**Create a 1-D array of 5 zeros, named `array_of_zeros`, with a `dtype` of `np.float`. Print it, and its `dtype`.**"
   ]
  },
  {
   "cell_type": "code",
   "execution_count": 0,
   "metadata": {
    "colab": {},
    "colab_type": "code",
    "id": "Za0uUeDbrku1"
   },
   "outputs": [],
   "source": []
  },
  {
   "cell_type": "markdown",
   "metadata": {
    "colab_type": "text",
    "id": "r9_0subQrku4"
   },
   "source": [
    "**In the following Markdown Cell, answer:**\n",
    "\n",
    "**Does this array contain floats with 32 bit precision or 64 bit precision?**"
   ]
  },
  {
   "cell_type": "markdown",
   "metadata": {
    "colab_type": "text",
    "id": "OLqNDu0rrku5"
   },
   "source": [
    "**Create a 1-D array of 5 zeros, named `array_of_zeros`, with a `dtype` of `np.int`. Print it, and its `dtype`.**"
   ]
  },
  {
   "cell_type": "code",
   "execution_count": 0,
   "metadata": {
    "colab": {},
    "colab_type": "code",
    "id": "G5HGN-bbrku6"
   },
   "outputs": [],
   "source": []
  },
  {
   "cell_type": "markdown",
   "metadata": {
    "colab_type": "text",
    "id": "1cfcoR4lrku9"
   },
   "source": [
    "**In the following Markdown Cell, answer:**\n",
    "\n",
    "**Does this array contain 32-bit integers or 64-bit integers?**"
   ]
  },
  {
   "cell_type": "markdown",
   "metadata": {
    "colab_type": "text",
    "id": "KC2R20Vjrku_"
   },
   "source": []
  },
  {
   "cell_type": "markdown",
   "metadata": {
    "colab_type": "text",
    "id": "I5VdB_3wrkvB"
   },
   "source": [
    "When dealing with GPUs, we will often want to use 32 bit precision.\n",
    "\n",
    "**Create a 1-D array of 5 zeros, named `array_of_zeros`, with a `dtype` of `np.float32`. Print it, and its `dtype`.**"
   ]
  },
  {
   "cell_type": "code",
   "execution_count": 0,
   "metadata": {
    "colab": {},
    "colab_type": "code",
    "id": "TmPhH5rLrkvF"
   },
   "outputs": [],
   "source": []
  },
  {
   "cell_type": "markdown",
   "metadata": {
    "colab_type": "text",
    "id": "VXzxLqGJrkvL"
   },
   "source": [
    "**Create a 1-D array of 5 zeros, named `array_of_zeros`, with a `dtype` of `np.float`, and then create `array_of_zeros_32` by casting `array_of_zeros`. Print it, and its `dtype`.**"
   ]
  },
  {
   "cell_type": "code",
   "execution_count": 0,
   "metadata": {
    "colab": {},
    "colab_type": "code",
    "id": "QchqNPNrrkvL"
   },
   "outputs": [],
   "source": []
  },
  {
   "cell_type": "markdown",
   "metadata": {
    "colab_type": "text",
    "id": "OxeBB5Q2rkvP"
   },
   "source": [
    "### `np.arange`, Element-Wise Operations, and Reshaping"
   ]
  },
  {
   "cell_type": "markdown",
   "metadata": {
    "colab_type": "text",
    "id": "AruqMurYrkvR"
   },
   "source": [
    "**Create `x1` to be a 1-D array of floats containing `[0, 1, 2, 3, 4]`, but do not type these values explicitly; instead, use `np.arange`. Also create `x2` in the exact same way. Print `x1`, `x2`, and `x1`'s `dtype`. Be sure `x1` and `x2` store floats, not ints.**"
   ]
  },
  {
   "cell_type": "code",
   "execution_count": 0,
   "metadata": {
    "colab": {},
    "colab_type": "code",
    "id": "88utEXrqT9dL"
   },
   "outputs": [],
   "source": []
  },
  {
   "cell_type": "markdown",
   "metadata": {
    "colab_type": "text",
    "id": "FrXS0vpqrkvW"
   },
   "source": [
    "**Create `y` via `y = x1 + x2`. Print `y` and its `dtype`.**"
   ]
  },
  {
   "cell_type": "code",
   "execution_count": 0,
   "metadata": {
    "colab": {},
    "colab_type": "code",
    "id": "fj2ZQ8ebrkvW"
   },
   "outputs": [],
   "source": []
  },
  {
   "cell_type": "markdown",
   "metadata": {
    "colab_type": "text",
    "id": "Ryf58C_zrkvZ"
   },
   "source": [
    "**Reshape `x1` to have shape `[1, 5]` and `x2` to have shape `[5, 1]`. Print their shapes.**"
   ]
  },
  {
   "cell_type": "code",
   "execution_count": 0,
   "metadata": {
    "colab": {},
    "colab_type": "code",
    "id": "zNyqD-p8UjTd"
   },
   "outputs": [],
   "source": []
  },
  {
   "cell_type": "markdown",
   "metadata": {
    "colab_type": "text",
    "id": "9VcUU0eSrkvc"
   },
   "source": [
    "**Form `y` via `y = x1 + x2`. Print `y`.**"
   ]
  },
  {
   "cell_type": "code",
   "execution_count": 0,
   "metadata": {
    "colab": {},
    "colab_type": "code",
    "id": "m9dlKPmjUozM"
   },
   "outputs": [],
   "source": []
  },
  {
   "cell_type": "markdown",
   "metadata": {
    "colab_type": "text",
    "id": "29wzZXR8rkve"
   },
   "source": [
    "**In the following Markdown Cell, answer:**\n",
    "\n",
    "**Is this what you expected? (For now, just a 'Yes' or 'No' is fine; we will revisit this result later.)**"
   ]
  },
  {
   "cell_type": "markdown",
   "metadata": {
    "colab_type": "text",
    "id": "7XQq7FQVrkvf"
   },
   "source": []
  },
  {
   "cell_type": "markdown",
   "metadata": {
    "colab_type": "text",
    "id": "D0rCBl9Trkvf"
   },
   "source": [
    "**Create a 1-D array x containing integers 0, 1, ..., 8 using `np.arange`. Print it, and its `dtype`.**"
   ]
  },
  {
   "cell_type": "code",
   "execution_count": 0,
   "metadata": {
    "colab": {},
    "colab_type": "code",
    "id": "E7txqslbVukC"
   },
   "outputs": [],
   "source": []
  },
  {
   "cell_type": "markdown",
   "metadata": {
    "colab_type": "text",
    "id": "uJjMqcFFrkvl"
   },
   "source": [
    "**Create `X` by reshaping `x` to have shape `[3, 3]`. Print `X`.**"
   ]
  },
  {
   "cell_type": "code",
   "execution_count": 0,
   "metadata": {
    "colab": {},
    "colab_type": "code",
    "id": "Z3HL6gtyVxYB"
   },
   "outputs": [],
   "source": []
  },
  {
   "cell_type": "markdown",
   "metadata": {
    "colab_type": "text",
    "id": "l7lkXba9equh"
   },
   "source": [
    "NumPy arrays are typically contiguous strips of memory, with the shape specifying how we view that memory. For example, if the shape of the strip of memory `[0, 1, 2, 3]` is `[2, 2]`, then we view it as a 2 x 2 matrix.\n"
   ]
  },
  {
   "cell_type": "markdown",
   "metadata": {
    "colab_type": "text",
    "id": "I3OsvgE1gXM7"
   },
   "source": [
    "**In the following Markdown Cell, answer:**\n",
    "\n",
    "\n",
    "**Given your previous `reshape` result, and the fact that `reshape` only changes our view of a contiguous strip of memory, do *rows* have elements that are mutually closer in memory, or do *columns* have elements that are mutually closer in memory?**"
   ]
  },
  {
   "cell_type": "markdown",
   "metadata": {
    "colab_type": "text",
    "id": "PHUt3CVRgKfw"
   },
   "source": []
  },
  {
   "cell_type": "markdown",
   "metadata": {
    "colab_type": "text",
    "id": "Y7yxOwmRrkvp"
   },
   "source": [
    "### Indexing, Masks, and Concatenation Using MNIST"
   ]
  },
  {
   "cell_type": "markdown",
   "metadata": {
    "colab_type": "text",
    "id": "E7pZN0iorkvr"
   },
   "source": [
    "**Run the following code to download and load the MNIST training set.** (The data will be downloaded if it is not already present.)"
   ]
  },
  {
   "cell_type": "code",
   "execution_count": 0,
   "metadata": {
    "colab": {},
    "colab_type": "code",
    "id": "MtIbOTNOrkvs"
   },
   "outputs": [],
   "source": [
    "import torchvision\n",
    "official_mnist_train = torchvision.datasets.MNIST(str(MNIST_PATH), train=True, download=True)\n",
    "train_images = official_mnist_train.train_data.numpy().astype(np.float)\n",
    "train_labels = official_mnist_train.train_labels.numpy().astype(np.int)"
   ]
  },
  {
   "cell_type": "markdown",
   "metadata": {
    "colab_type": "text",
    "id": "P83FqFfvrkvt"
   },
   "source": [
    "**Print the shape of `train_images` and `train_labels`.**"
   ]
  },
  {
   "cell_type": "code",
   "execution_count": 0,
   "metadata": {
    "colab": {},
    "colab_type": "code",
    "id": "ugX_uB-irkvt"
   },
   "outputs": [],
   "source": []
  },
  {
   "cell_type": "markdown",
   "metadata": {
    "colab_type": "text",
    "id": "cqo0Kz1Qrkvz"
   },
   "source": [
    "**In the following Markdown Cell, answer:**\n",
    "\n",
    "**Based on these shapes, how many training images are there? And what is the height and width of each image?**"
   ]
  },
  {
   "cell_type": "markdown",
   "metadata": {
    "colab_type": "text",
    "id": "qrWv5s4xrkv0"
   },
   "source": []
  },
  {
   "cell_type": "markdown",
   "metadata": {
    "colab_type": "text",
    "id": "qyDiRLEorkv0"
   },
   "source": [
    "**Form `first_image` as a 2-D array with shape `[28, 28]`, containing the 0-th image of `train_images`, and visualize `first_image` using `plt.imshow`.** Also feel free to run `plt.set_cmap('gray')` after plotting the image if you'd like to see it using a grayscale colormap."
   ]
  },
  {
   "cell_type": "code",
   "execution_count": 0,
   "metadata": {
    "colab": {},
    "colab_type": "code",
    "id": "pb2Dyu3Krkv1"
   },
   "outputs": [],
   "source": []
  },
  {
   "cell_type": "markdown",
   "metadata": {
    "colab_type": "text",
    "id": "Sc8i0Nk3rkv3"
   },
   "source": [
    "**Print the label of the 0-th image.**"
   ]
  },
  {
   "cell_type": "code",
   "execution_count": 0,
   "metadata": {
    "colab": {},
    "colab_type": "code",
    "id": "lo4wAkHtrkv3"
   },
   "outputs": [],
   "source": []
  },
  {
   "cell_type": "markdown",
   "metadata": {
    "colab_type": "text",
    "id": "7PKyaHjXrkv7"
   },
   "source": [
    "**Create a 2-D array `first_image_flipped` that consists of the first training image *but flipped horizontally*, and visualize the result using `plt.imshow`.** Note that `first_image` has a shape of `[H, W]`, where `H` is the height of the image and `W` is the width of the image."
   ]
  },
  {
   "cell_type": "code",
   "execution_count": 0,
   "metadata": {
    "colab": {},
    "colab_type": "code",
    "id": "g1Z6_SWDrkv7"
   },
   "outputs": [],
   "source": []
  },
  {
   "cell_type": "markdown",
   "metadata": {
    "colab_type": "text",
    "id": "iEhKUYIkrkv9"
   },
   "source": [
    "**Create a 2-D array `first_image_down_2` that consists of the first training image but downsampled by a factor of 2, and plot the result using `plt.imshow`.** (The resulting image should have shape `[14, 14]`.)"
   ]
  },
  {
   "cell_type": "code",
   "execution_count": 0,
   "metadata": {
    "colab": {},
    "colab_type": "code",
    "id": "eSEbly8Xrkv-"
   },
   "outputs": [],
   "source": []
  },
  {
   "cell_type": "markdown",
   "metadata": {
    "colab_type": "text",
    "id": "PPj34qQ_rkv_"
   },
   "source": [
    "**Create a 2-D array `first_image_down_4` that consists of the first training image but downsampled by a factor of 4, and plot the result using `plt.imshow`.** (The resulting image should have shape `[7, 7]`.)"
   ]
  },
  {
   "cell_type": "code",
   "execution_count": 0,
   "metadata": {
    "colab": {},
    "colab_type": "code",
    "id": "nQWgNmSSrkwA"
   },
   "outputs": [],
   "source": []
  },
  {
   "cell_type": "markdown",
   "metadata": {
    "colab_type": "text",
    "id": "pvMjhMlorkwD"
   },
   "source": [
    "**Print the minimum and maximum values of `first_image`.**"
   ]
  },
  {
   "cell_type": "code",
   "execution_count": 0,
   "metadata": {
    "colab": {},
    "colab_type": "code",
    "id": "e-exxIvTrkwE"
   },
   "outputs": [],
   "source": []
  },
  {
   "cell_type": "markdown",
   "metadata": {
    "colab_type": "text",
    "id": "FEmPgbJGrkwG"
   },
   "source": [
    "**Create a copy of `first_image`, `first_image_copy`, using `first_image_copy = first_image.copy()`.**"
   ]
  },
  {
   "cell_type": "code",
   "execution_count": 0,
   "metadata": {
    "colab": {},
    "colab_type": "code",
    "id": "O3NIjyeRrkwG"
   },
   "outputs": [],
   "source": []
  },
  {
   "cell_type": "markdown",
   "metadata": {
    "colab_type": "text",
    "id": "pEFKOl2vrkwI"
   },
   "source": [
    "**Create a 2-D boolean mask named `mask` with the same shape as `first_image_copy`, with elements that are `True` whenever a pixel's value exceeds 50 and which is `False` otherwise. Print `mask`'s `dtype` and also print how many values are `True`.**"
   ]
  },
  {
   "cell_type": "code",
   "execution_count": 0,
   "metadata": {
    "colab": {},
    "colab_type": "code",
    "id": "r_pRWzAQrkwK"
   },
   "outputs": [],
   "source": []
  },
  {
   "cell_type": "markdown",
   "metadata": {
    "colab_type": "text",
    "id": "2tvDj00ZrkwM"
   },
   "source": [
    "**Visualize `mask` using `plt.imshow`.**"
   ]
  },
  {
   "cell_type": "code",
   "execution_count": 0,
   "metadata": {
    "colab": {},
    "colab_type": "code",
    "id": "AgnuuO4SrkwN"
   },
   "outputs": [],
   "source": []
  },
  {
   "cell_type": "markdown",
   "metadata": {
    "colab_type": "text",
    "id": "zrnd7fcLrkwQ"
   },
   "source": [
    "**Create `mask_upper_half` by keeping only the upper half of `mask`, and visualize `mask_upper_half` using `plt.imshow`.** (`mask_upper_half` should have shape `[14, 28]`.)"
   ]
  },
  {
   "cell_type": "code",
   "execution_count": 0,
   "metadata": {
    "colab": {},
    "colab_type": "code",
    "id": "qyPm1LO5rkwR"
   },
   "outputs": [],
   "source": []
  },
  {
   "cell_type": "markdown",
   "metadata": {
    "colab_type": "text",
    "id": "T1bF8NMfrkwV"
   },
   "source": [
    "**Halve all pixels that exceed 50 in `first_image_copy` that exceed a value of 50, in place, using `mask`, and then print the minimum and maximum values of `first_image_copy`.**"
   ]
  },
  {
   "cell_type": "code",
   "execution_count": 0,
   "metadata": {
    "colab": {},
    "colab_type": "code",
    "id": "UEen_3bVrkwV"
   },
   "outputs": [],
   "source": []
  },
  {
   "cell_type": "markdown",
   "metadata": {
    "colab_type": "text",
    "id": "S2CnfiRnrkwa"
   },
   "source": [
    "**Form `first_ten_images_as_one` by concatenating the first 10 training MNIST images horizontally, and visualize the result using `plt.imshow`.**"
   ]
  },
  {
   "cell_type": "code",
   "execution_count": 0,
   "metadata": {
    "colab": {},
    "colab_type": "code",
    "id": "xVGC9hA-rkwa"
   },
   "outputs": [],
   "source": []
  },
  {
   "cell_type": "markdown",
   "metadata": {
    "colab_type": "text",
    "id": "CiDY8XWUrkwc"
   },
   "source": [
    "### Element-Wise Multiplication vs. Matrix Multiplication"
   ]
  },
  {
   "cell_type": "markdown",
   "metadata": {
    "colab_type": "text",
    "id": "JWjeSndRrkwc"
   },
   "source": [
    "**Create `A` and `B`, each 2-D matrices of ones with shape `[3, 3]`.**"
   ]
  },
  {
   "cell_type": "code",
   "execution_count": 0,
   "metadata": {
    "colab": {},
    "colab_type": "code",
    "id": "oBTegRogi5Ii"
   },
   "outputs": [],
   "source": []
  },
  {
   "cell_type": "markdown",
   "metadata": {
    "colab_type": "text",
    "id": "AsbpmRNwrkwe"
   },
   "source": [
    "**Form `C_star` via `C_star = A * B`, and print `C_star`.**"
   ]
  },
  {
   "cell_type": "code",
   "execution_count": 0,
   "metadata": {
    "colab": {},
    "colab_type": "code",
    "id": "Bjfa79cFjA1y"
   },
   "outputs": [],
   "source": []
  },
  {
   "cell_type": "markdown",
   "metadata": {
    "colab_type": "text",
    "id": "zPKfw5rDrkwg"
   },
   "source": [
    "**Form `C_at` via `C_at = A @ B`, and print `C_at`.**"
   ]
  },
  {
   "cell_type": "code",
   "execution_count": 0,
   "metadata": {
    "colab": {},
    "colab_type": "code",
    "id": "jFTC1sAhjEvm"
   },
   "outputs": [],
   "source": []
  },
  {
   "cell_type": "markdown",
   "metadata": {
    "colab_type": "text",
    "id": "CcUUvfGpjHJS"
   },
   "source": [
    "**In the following Markdown Cell, answer:**\n",
    "\n",
    "**What operation does `*` perform? What operation does `@` perform?**"
   ]
  },
  {
   "cell_type": "markdown",
   "metadata": {
    "colab_type": "text",
    "id": "U-AIC_ttjSW1"
   },
   "source": []
  },
  {
   "cell_type": "markdown",
   "metadata": {
    "colab_type": "text",
    "id": "_KUflx1prkwk"
   },
   "source": [
    "### Broadcasting"
   ]
  },
  {
   "cell_type": "markdown",
   "metadata": {
    "colab_type": "text",
    "id": "HykGB66dM7MO"
   },
   "source": [
    "Suppose you have some data collected in a 1-D array, which is not 'normalized' in the sense that it has a mean that's far from 0 and a standard deviation that's far from 1:"
   ]
  },
  {
   "cell_type": "code",
   "execution_count": 0,
   "metadata": {
    "colab": {
     "base_uri": "https://localhost:8080/",
     "height": 51
    },
    "colab_type": "code",
    "id": "Gxqlr64OMc_v",
    "outputId": "a25a687e-142a-424a-c741-a1a6f9666806"
   },
   "outputs": [
    {
     "name": "stdout",
     "output_type": "stream",
     "text": [
      "2.8\n",
      "1.7227884373886422\n"
     ]
    }
   ],
   "source": [
    "x = np.array([3.2, 1.1, 1.2, 5.3, 3.9, 1.9, 2.0, 6.2, 1.0, 2.2])\n",
    "print(x.mean())\n",
    "print(x.std())"
   ]
  },
  {
   "cell_type": "markdown",
   "metadata": {
    "colab_type": "text",
    "id": "p3vPH5ykNFKs"
   },
   "source": [
    "**Form `z` by normalizing `x`. That is, each entry in `z` should be the *standardized score* of the corresponding entry in `x`: $z_i = (x_i - \\mu) / \\sigma$. Print `z` and verify that its mean is close to 0.0 and that its standard deviation is close to 1.0.**"
   ]
  },
  {
   "cell_type": "code",
   "execution_count": 0,
   "metadata": {
    "colab": {},
    "colab_type": "code",
    "id": "2UbG0gTrMmio"
   },
   "outputs": [],
   "source": []
  },
  {
   "cell_type": "markdown",
   "metadata": {
    "colab_type": "text",
    "id": "m2hreOdTNc9q"
   },
   "source": [
    "Now suppose that you have 5 3-dimensional feature vectors collected in an array, and that none of the features are normalized, in that each feature has a mean that's far from 0 and a standard deviation that's far from 1:"
   ]
  },
  {
   "cell_type": "code",
   "execution_count": 0,
   "metadata": {
    "colab": {
     "base_uri": "https://localhost:8080/",
     "height": 51
    },
    "colab_type": "code",
    "id": "C6wrb0_RM3ux",
    "outputId": "6d8c4def-e5be-4986-cda9-8a45365f541c"
   },
   "outputs": [
    {
     "name": "stdout",
     "output_type": "stream",
     "text": [
      "[ 3.76 -0.36  1.08]\n",
      "[2.73027471 0.71442284 1.26396202]\n"
     ]
    }
   ],
   "source": [
    "data = np.array([[7.5, -1.1,  1.6],\n",
    "                 [0.1,  0.9, -0.7],\n",
    "                 [6.3, -0.9,  3.1],\n",
    "                 [2.5, -0.6,  0.4],\n",
    "                 [2.4, -0.1,  1.0]])\n",
    "print(data.mean(axis=0))\n",
    "print(data.std(axis=0))"
   ]
  },
  {
   "cell_type": "markdown",
   "metadata": {
    "colab_type": "text",
    "id": "MWwO_567Of7g"
   },
   "source": [
    "**Write code to normalize this data on a feature-wise basis, so that each feature has mean 0 and standard deviation 1, and store the result in `normalized_data`. Print `normalized_data` along with its per-feature mean and its per-feature standard deviation.**"
   ]
  },
  {
   "cell_type": "code",
   "execution_count": 0,
   "metadata": {
    "colab": {},
    "colab_type": "code",
    "id": "8cNQjOwjPUoY"
   },
   "outputs": [],
   "source": []
  },
  {
   "cell_type": "markdown",
   "metadata": {
    "colab_type": "text",
    "id": "LUcbZFt7PWbw"
   },
   "source": [
    "Now suppose that you have 3 3-D vectors that each represent *unnormalized class scores*. That is, each 3-D vector represents the scores for three different classes in a classification problem. (For example, these could be the outputs of an image-classification model, with each row corresponding to a particular image and each column corresponding to a particular class, such as 'dog', 'cat', or 'other'.)\n",
    "\n",
    "If each row represented a valid probability distribution, then their elements would sum do 1, but they currently do not:"
   ]
  },
  {
   "cell_type": "code",
   "execution_count": 0,
   "metadata": {
    "colab": {
     "base_uri": "https://localhost:8080/",
     "height": 85
    },
    "colab_type": "code",
    "id": "o-565kjQQoWo",
    "outputId": "e410a0a0-c43b-4b86-f23a-3142ecedb763"
   },
   "outputs": [
    {
     "name": "stdout",
     "output_type": "stream",
     "text": [
      "[[8.2 6.7 6.3]\n",
      " [9.5 0.2 9.3]\n",
      " [3.6 2.7 9. ]]\n",
      "[21.2 19.  15.3]\n"
     ]
    }
   ],
   "source": [
    "scores = np.array([[8.2, 6.7, 6.3],\n",
    "                   [9.5, 0.2, 9.3],\n",
    "                   [3.6, 2.7, 9.0]])\n",
    "print(scores)\n",
    "print(scores.sum(axis=1))"
   ]
  },
  {
   "cell_type": "markdown",
   "metadata": {
    "colab_type": "text",
    "id": "-8Zeiqb5Rblr"
   },
   "source": [
    "**Write code to compute and print the array `probabilities` by dividing each row of `scores` by its sum. Print `probabilities` and the sum of each of its rows, to verify that each row sums to 1.** Hint: If the rows do not sum to 1, then think about broadcasting and take a look at the `keepdims` keyword argument of NumPy's `sum` function."
   ]
  },
  {
   "cell_type": "code",
   "execution_count": 0,
   "metadata": {
    "colab": {},
    "colab_type": "code",
    "id": "m2mF2tPHSWEn"
   },
   "outputs": [],
   "source": []
  },
  {
   "cell_type": "markdown",
   "metadata": {
    "colab_type": "text",
    "id": "RSIJR_Awrkw7"
   },
   "source": [
    "**Complete the `tril_` function below by inserting only 2 lines of code at the bottom of the function.** Hint: Form a mask using broadcasting, and use the mask to modify `X` in place."
   ]
  },
  {
   "cell_type": "code",
   "execution_count": 0,
   "metadata": {
    "colab": {},
    "colab_type": "code",
    "id": "GFRy7e-egzBu"
   },
   "outputs": [],
   "source": [
    "def tril_(X):\n",
    "    \"\"\"Modify X in place to become lower triangular.\n",
    "\n",
    "    Args:\n",
    "        X: A 2-D NumPy array with shape [M, N].\n",
    "    \"\"\"\n",
    "    if X.ndim != 2:\n",
    "        raise ValueError('X must be a 2-D array.')\n",
    "    M, N = X.shape\n",
    "    i = np.arange(M).reshape(1, M)\n",
    "    j = np.arange(N).reshape(N, 1)\n",
    "    \n",
    "    # TODO: Replace with valid code.\n",
    "    pass"
   ]
  },
  {
   "cell_type": "markdown",
   "metadata": {
    "colab_type": "text",
    "id": "wcnYgEjxrkw9"
   },
   "source": [
    "**Create a random matrix `X` with shape `[3, 3]` using `np.random.rand`, run `tril_(X)`, and verify that `X` is now lower triangular.**"
   ]
  },
  {
   "cell_type": "code",
   "execution_count": 0,
   "metadata": {
    "colab": {},
    "colab_type": "code",
    "id": "vjR5-HLsiV_G"
   },
   "outputs": [],
   "source": []
  },
  {
   "cell_type": "markdown",
   "metadata": {
    "colab_type": "text",
    "id": "7xipO9-lrkxB"
   },
   "source": [
    "**Create a random matrix `X` with shape `[5, 5]` using `np.random.rand`, run `tril_(X)`, and verify that `X` is now lower triangular.**"
   ]
  },
  {
   "cell_type": "code",
   "execution_count": 0,
   "metadata": {
    "colab": {},
    "colab_type": "code",
    "id": "nX8Q8o3TrkxD"
   },
   "outputs": [],
   "source": []
  },
  {
   "cell_type": "markdown",
   "metadata": {
    "colab_type": "text",
    "id": "GPtxxYs4Lhva"
   },
   "source": [
    "### Booleans vs. Masks"
   ]
  },
  {
   "cell_type": "markdown",
   "metadata": {
    "colab_type": "text",
    "id": "0J7DU76krkxF"
   },
   "source": [
    "**Create `x` using `x = np.array([1, 2, 3])`, and create `y` using `y = x`.**"
   ]
  },
  {
   "cell_type": "code",
   "execution_count": 0,
   "metadata": {
    "colab": {},
    "colab_type": "code",
    "id": "AU2Sk5ybrkxF"
   },
   "outputs": [],
   "source": []
  },
  {
   "cell_type": "markdown",
   "metadata": {
    "colab_type": "text",
    "id": "Kc2ZypEirkxH"
   },
   "source": [
    "**Print the expression `x == y`.**"
   ]
  },
  {
   "cell_type": "code",
   "execution_count": 0,
   "metadata": {
    "colab": {},
    "colab_type": "code",
    "id": "0amFlnYprkxI"
   },
   "outputs": [],
   "source": []
  },
  {
   "cell_type": "markdown",
   "metadata": {
    "colab_type": "text",
    "id": "2BfBVMHNrkxL"
   },
   "source": [
    "**Use `np.all` to test whether *all* elements of `x` are equal to their corresponding elements in `y`. You should print the result, which should be a single boolean, `True` or `False`.**"
   ]
  },
  {
   "cell_type": "code",
   "execution_count": 0,
   "metadata": {
    "colab": {},
    "colab_type": "code",
    "id": "HLqgLdTLVyYV"
   },
   "outputs": [],
   "source": []
  },
  {
   "cell_type": "markdown",
   "metadata": {
    "colab_type": "text",
    "id": "OPO5Th1nrkxP"
   },
   "source": [
    "**Modify the 0-th element of `y` via `y[0] = 5`, and again use `np.all` to test whether all elements of `x` are equal to their corresponding elements in `y`, and again print the result.**"
   ]
  },
  {
   "cell_type": "code",
   "execution_count": 0,
   "metadata": {
    "colab": {},
    "colab_type": "code",
    "id": "xP1X-3COV-q_"
   },
   "outputs": [],
   "source": []
  },
  {
   "cell_type": "markdown",
   "metadata": {
    "colab_type": "text",
    "id": "7-9o-m4krkxR"
   },
   "source": [
    "**In the Markdown Cell below, answer:**\n",
    "\n",
    "**Is the last result what you expected? Explain what is happening here.**"
   ]
  },
  {
   "cell_type": "markdown",
   "metadata": {
    "colab_type": "text",
    "id": "CNlnclwdrkxT"
   },
   "source": []
  },
  {
   "cell_type": "markdown",
   "metadata": {
    "colab_type": "text",
    "id": "jlPGb910rkxT"
   },
   "source": [
    "**Create `x = np.array([1, 2, 3])` and `y = np.array([2, 2, 2])`. Again use `np.all` to test whether all elements of `x` are equal to their corresponding elements in `y`, and again print the result.**"
   ]
  },
  {
   "cell_type": "code",
   "execution_count": 0,
   "metadata": {
    "colab": {},
    "colab_type": "code",
    "id": "w1vkvXD1WMr6"
   },
   "outputs": [],
   "source": []
  },
  {
   "cell_type": "markdown",
   "metadata": {
    "colab_type": "text",
    "id": "cp7YqS_srkxW"
   },
   "source": [
    "**Use `np.any` to test whether *any* elements of `x` are equal to their corresponding elements in `y`, and again print the result.**"
   ]
  },
  {
   "cell_type": "code",
   "execution_count": 0,
   "metadata": {
    "colab": {},
    "colab_type": "code",
    "id": "UNC1sUXqWQ24"
   },
   "outputs": [],
   "source": []
  }
 ],
 "metadata": {
  "colab": {
   "collapsed_sections": [],
   "name": "cs382_f2018_lab2.ipynb",
   "provenance": []
  },
  "kernelspec": {
   "display_name": "Python 3",
   "language": "python",
   "name": "python3"
  },
  "language_info": {
   "codemirror_mode": {
    "name": "ipython",
    "version": 3
   },
   "file_extension": ".py",
   "mimetype": "text/x-python",
   "name": "python",
   "nbconvert_exporter": "python",
   "pygments_lexer": "ipython3",
   "version": "3.6.5"
  }
 },
 "nbformat": 4,
 "nbformat_minor": 1
}
