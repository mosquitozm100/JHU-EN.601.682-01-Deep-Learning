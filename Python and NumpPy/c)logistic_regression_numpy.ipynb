{
 "cells": [
  {
   "cell_type": "markdown",
   "metadata": {
    "colab_type": "text",
    "id": "Cq1t9bGsDTvi"
   },
   "source": [
    "\n",
    "$$\n",
    "\\newcommand{\\xb}{\\boldsymbol{x}}\n",
    "\\newcommand{\\wb}{\\boldsymbol{w}}\n",
    "\\newcommand{\\pb}{\\boldsymbol{p}}\n",
    "\\newcommand{\\1}{\\mathbb{1}}\n",
    "$$"
   ]
  },
  {
   "cell_type": "markdown",
   "metadata": {
    "colab_type": "text",
    "id": "bfyI_9zZPwsa"
   },
   "source": [
    "# Logistic Regression with NumPy\n",
    "\n",
    "In this lab you'll develop a simple classifier using binary logistic regression to classify images of digits as either 4 or 9. All images, both during training and at test time, will be either a 4 or a 9.\n",
    "\n",
    "Your implementation will focus on concepts: whenever possible, we will stick with clear notations and one-to-one mapping with equations, rather than manipulating those equations and/or the computations for efficiency and numerical stability."
   ]
  },
  {
   "cell_type": "code",
   "execution_count": 1,
   "metadata": {
    "colab": {},
    "colab_type": "code",
    "id": "mKqJ2q6XalPc"
   },
   "outputs": [],
   "source": [
    "%matplotlib inline\n",
    "import matplotlib.pyplot as plt\n",
    "import numpy as np\n",
    "import time\n",
    "\n",
    "# Numerically stable version of the sigmoid function\n",
    "# sigmoid(x) = 1 / (1 + exp(-x))\n",
    "from scipy.special import expit\n",
    "\n",
    "import torchvision\n",
    "\n",
    "from pathlib import Path\n",
    "HOME = Path.home()\n",
    "MNIST_PATH = HOME / 'data' / 'mnist'\n",
    "\n",
    "NUM_CLASSES = 10\n",
    "CHANNELS = 1\n",
    "HEIGHT = 28\n",
    "WIDTH = 28"
   ]
  },
  {
   "cell_type": "code",
   "execution_count": 0,
   "metadata": {
    "colab": {},
    "colab_type": "code",
    "id": "ThF_mw3iasJ2"
   },
   "outputs": [],
   "source": [
    "# We're going to load the official train set and never touch\n",
    "# the true test set in these experiments, which consists of 10,000\n",
    "# separate examples. We'll instead split our training set into\n",
    "# a set for training and a set for validation.\n",
    "official_mnist_train = torchvision.datasets.MNIST(str(MNIST_PATH), train=True, download=True)\n",
    "official_train_images = official_mnist_train.train_data.numpy().astype(np.float)\n",
    "official_train_labels = official_mnist_train.train_labels.numpy().astype(np.int)"
   ]
  },
  {
   "cell_type": "code",
   "execution_count": 0,
   "metadata": {
    "colab": {},
    "colab_type": "code",
    "id": "cdhHhkpFxTUV"
   },
   "outputs": [],
   "source": [
    "print(official_train_images.shape)\n",
    "print(official_train_labels.shape)"
   ]
  },
  {
   "cell_type": "markdown",
   "metadata": {
    "colab_type": "text",
    "id": "IoK_fYnT2u-g"
   },
   "source": [
    "First let's grab only the 4s and 9s, which will end up forming our binary classification problem."
   ]
  },
  {
   "cell_type": "code",
   "execution_count": 0,
   "metadata": {
    "colab": {},
    "colab_type": "code",
    "id": "xBsaqsTlbwcf"
   },
   "outputs": [],
   "source": [
    "mask_4_9 = (official_train_labels == 4) | (official_train_labels == 9)\n",
    "images_4_9 = official_train_images[mask_4_9]\n",
    "labels_4_9 = (official_train_labels[mask_4_9] == 9).astype(np.int)\n",
    "print(images_4_9.shape, labels_4_9.shape)"
   ]
  },
  {
   "cell_type": "markdown",
   "metadata": {
    "colab_type": "text",
    "id": "bT6yab5ExnTT"
   },
   "source": [
    "**Write code that concatenates the first 10 images together, horizontally. Visualize the result (using `plt.imshow`), and print the first 10 labels that correspond to these images. Make sure the labels are binary: 0 if the image is a 4 and 1 if the image is a 9.**"
   ]
  },
  {
   "cell_type": "code",
   "execution_count": 0,
   "metadata": {
    "colab": {},
    "colab_type": "code",
    "id": "RJxxlEjhcpW9"
   },
   "outputs": [],
   "source": [
    "example_images = np.concatenate(images_4_9[:10], axis=1)\n",
    "example_labels = labels_4_9[:10]\n",
    "print(example_labels)\n",
    "plt.imshow(example_images)\n",
    "plt.grid(False)"
   ]
  },
  {
   "cell_type": "markdown",
   "metadata": {
    "colab_type": "text",
    "id": "gCMp4Xk6yX2v"
   },
   "source": [
    "**Use `np.split` to split `images_4_9` into `train_images` and `val_images`, and `labels_4_9` into `train_labels` and `val_labels`. Use 10000 images for training and the rest for validation.**"
   ]
  },
  {
   "cell_type": "code",
   "execution_count": 0,
   "metadata": {
    "colab": {},
    "colab_type": "code",
    "id": "E60IytczeT22"
   },
   "outputs": [],
   "source": [
    "train_images, val_images = np.split(images_4_9, [10000])\n",
    "train_labels, val_labels = np.split(labels_4_9, [10000])"
   ]
  },
  {
   "cell_type": "markdown",
   "metadata": {
    "colab_type": "text",
    "id": "vD9CB1sAy8PJ"
   },
   "source": [
    "**Print the shapes of `train_images`, `train_labels`, `val_images`, and `val_labels`. Make sure that there are 10000 images for training and 1791 for validation.**"
   ]
  },
  {
   "cell_type": "code",
   "execution_count": 0,
   "metadata": {
    "colab": {},
    "colab_type": "code",
    "id": "4uReKYU4y5k0"
   },
   "outputs": [],
   "source": [
    "print(train_images.shape, train_labels.shape)\n",
    "print(val_images.shape, val_labels.shape)"
   ]
  },
  {
   "cell_type": "markdown",
   "metadata": {
    "colab_type": "text",
    "id": "panpDaWKzN0f"
   },
   "source": [
    "**Complete `normalize_stats_image_by_image` so that images are normalized on a *per image basis*.**"
   ]
  },
  {
   "cell_type": "code",
   "execution_count": 0,
   "metadata": {
    "colab": {},
    "colab_type": "code",
    "id": "ZJsU5u9WhBzN"
   },
   "outputs": [],
   "source": [
    "def normalize_stats_image_by_image(images):\n",
    "  mean = images.mean(axis=(1,2), keepdims=True)\n",
    "  stdev = images.std(axis=(1,2), keepdims=True)\n",
    "  return (images - mean) / stdev"
   ]
  },
  {
   "cell_type": "markdown",
   "metadata": {
    "colab_type": "text",
    "id": "4wMdDQGSzl5t"
   },
   "source": [
    "**Use `normalize_stats_image_by_image` to replace the training and validation images with their normalized versions.**"
   ]
  },
  {
   "cell_type": "code",
   "execution_count": 0,
   "metadata": {
    "colab": {},
    "colab_type": "code",
    "id": "dL9XyAMYk8qs"
   },
   "outputs": [],
   "source": [
    "train_images = normalize_stats_image_by_image(train_images)\n",
    "val_images = normalize_stats_image_by_image(val_images)"
   ]
  },
  {
   "cell_type": "markdown",
   "metadata": {
    "colab_type": "text",
    "id": "7r81_AeB0NNF"
   },
   "source": [
    "**Print the mean and standard deviation *of the first 3 images* of the training set, and do the same for the validation set. Make sure that all 3 means are very close to 0 and that all 3 standard deviations are very close to 1.**"
   ]
  },
  {
   "cell_type": "code",
   "execution_count": 0,
   "metadata": {
    "colab": {},
    "colab_type": "code",
    "id": "lgIXQ0QO0NUy"
   },
   "outputs": [],
   "source": [
    "print(train_images[:3].mean(axis=(1, 2)))\n",
    "print(train_images[:3].std(axis=(1, 2)))\n",
    "print(val_images[:3].mean(axis=(1, 2)))\n",
    "print(val_images[:3].std(axis=(1, 2)))"
   ]
  },
  {
   "cell_type": "markdown",
   "metadata": {
    "colab_type": "text",
    "id": "zXeAIHWozzso"
   },
   "source": [
    "**Concatenate 10 train images and 10 validation images together into a single array and visualize the result using `plt.imshow`.**"
   ]
  },
  {
   "cell_type": "code",
   "execution_count": 0,
   "metadata": {
    "colab": {},
    "colab_type": "code",
    "id": "9VQgqbB7bUFz"
   },
   "outputs": [],
   "source": [
    "some_train_images = np.concatenate(train_images[:10], axis=1)\n",
    "some_val_images = np.concatenate(val_images[:10], axis=1)\n",
    "some_train_and_val_images = np.concatenate([some_train_images, some_val_images], axis=0)\n",
    "plt.imshow(some_train_and_val_images)\n",
    "plt.grid(False)"
   ]
  },
  {
   "cell_type": "markdown",
   "metadata": {
    "colab_type": "text",
    "id": "wZlPIpgSX26w"
   },
   "source": [
    "**Form `train_vectors` and `val_vectors` by reshaping the images into *vectors*. That is, flatten each image so that instead of being 28 x 28 matrix it's a vector with 28 * 28 dimensions.**"
   ]
  },
  {
   "cell_type": "code",
   "execution_count": 0,
   "metadata": {
    "colab": {},
    "colab_type": "code",
    "id": "BmXdidmRm0jh"
   },
   "outputs": [],
   "source": [
    "train_vectors = train_images.reshape(-1, HEIGHT * WIDTH)\n",
    "val_vectors = val_images.reshape(-1, HEIGHT * WIDTH)"
   ]
  },
  {
   "cell_type": "markdown",
   "metadata": {
    "colab_type": "text",
    "id": "XUv0UFJBCV8b"
   },
   "source": [
    "For any particular example $\\xb$, we're modeling $p(y \\mid \\xb)$ as\n",
    "\n",
    "$$\n",
    "\\hat{p}(y = 0) = \\sigma(\\wb^T\\xb), \\qquad\n",
    "\\hat{p}(y = 1) = 1 - \\hat{p}(y = 0)\n",
    "$$\n",
    "\n",
    "where here the label $y = 0$ specifies that our image is a 4, and the label $y = 1$ specifies that our image is a 9."
   ]
  },
  {
   "cell_type": "markdown",
   "metadata": {
    "colab_type": "text",
    "id": "KAie7ICn06MI"
   },
   "source": [
    "**Complete the `model` function below so that it corresponds to simple logistic regression. You can use `expit`, a numerically-stable version of the sigmoid function.**"
   ]
  },
  {
   "cell_type": "code",
   "execution_count": 0,
   "metadata": {
    "colab": {},
    "colab_type": "code",
    "id": "4tG3Wu1FYegm"
   },
   "outputs": [],
   "source": [
    "def model(X, w):\n",
    "  \"\"\"Binary logistic regression.\n",
    "  \n",
    "  Hint: You should vectorize all operations, as discussed in class.\n",
    "  In other words, you should not use any loops, as if you your\n",
    "  code will likely be tremendously slow.\n",
    "  \n",
    "  Hint: Think about the shape of X, and for the moment pretend that\n",
    "  w is a column vector (rather than a 1-D array). Our goal is to\n",
    "  compute w'x for every example x in X. Does this correspond to\n",
    "  w' @ X or X @ w?\n",
    "  \n",
    "  Args:\n",
    "    X: A float NumPy array with shape\n",
    "      [num_examples, num_features].\n",
    "    w: A float NumPy array with shape [num_features].\n",
    "    \n",
    "  Returns:\n",
    "    A float NumPy array p_hat of probabilities with shape\n",
    "      [num_examples, 2]. For example i, we have\n",
    "      p_hat[i, :] = [sigmoid(w'x), 1 - sigmoid(w'x)]\n",
    "  \"\"\"\n",
    "  # TODO: Replace with valid code.\n",
    "  p_hat = None\n",
    "  return p_hat"
   ]
  },
  {
   "cell_type": "markdown",
   "metadata": {
    "colab_type": "text",
    "id": "5J3u24mkDDta"
   },
   "source": [
    "The loss for a *single* example is\n",
    "$$\n",
    "\\begin{align}\n",
    "l(\\hat{\\pb}, \\pb)\n",
    "&= -\\sum_i p_i \\log \\hat{p}_i \\\\\n",
    "&= - \\1(y = 0) \\log \\sigma(\\wb^T\\xb) - \\1(y = 1) \\log (1 - \\sigma(\\wb^T\\xb))\n",
    "\\end{align}\n",
    "$$"
   ]
  },
  {
   "cell_type": "markdown",
   "metadata": {
    "colab_type": "text",
    "id": "K5x4KAF61eQi"
   },
   "source": [
    "**Complete the `binary_cross_entropy` function below.**"
   ]
  },
  {
   "cell_type": "code",
   "execution_count": 0,
   "metadata": {
    "colab": {},
    "colab_type": "code",
    "id": "_bE7qx_QhnTn"
   },
   "outputs": [],
   "source": [
    "def binary_cross_entropy(p_hat, y):\n",
    "  \"\"\"Cross entropy loss.\n",
    "  \n",
    "  PAY ATTENTION TO THE SHAPES OF THE ARGUMENTS, AND\n",
    "  WHAT THESE ARGUMENTS REPRESENT.\n",
    "  \n",
    "  Hint: You can compute cross entropy on a per-example basis,\n",
    "  and then just compute the mean of the resulting values.\n",
    "  \n",
    "  Hint: Think of the indicator function above in terms of masks in\n",
    "  NumPy.\n",
    "  \n",
    "  Args:\n",
    "    p_hat: A float NumPy array with shape [num_examples, 2].\n",
    "    y: An int NumPy array with shape [num_examples].\n",
    "  \n",
    "  Returns:\n",
    "    A float: the cross entropy averaged across all of the examples.\n",
    "  \"\"\"\n",
    "  # TODO: Replace with valid code.\n",
    "  loss = None\n",
    "  return loss"
   ]
  },
  {
   "cell_type": "markdown",
   "metadata": {
    "colab_type": "text",
    "id": "uo06gUsm8jGt"
   },
   "source": [
    "The *Jacobian* for a *single* example is\n",
    "\n",
    "$$\\frac{\\partial l}{\\partial \\wb} = -\\1(y = 0) \\left(1 - \\sigma(\\wb^T\\xb)\\right) \\xb^T + \\1(y = 1) \\sigma(\\wb^T\\xb) \\xb^T$$"
   ]
  },
  {
   "cell_type": "markdown",
   "metadata": {
    "colab_type": "text",
    "id": "wrxc94io1so3"
   },
   "source": [
    "**Complete the `binary_cross_entropy_grad` function below.**"
   ]
  },
  {
   "cell_type": "code",
   "execution_count": 0,
   "metadata": {
    "colab": {},
    "colab_type": "code",
    "id": "Iwlc7_ZnhFyn"
   },
   "outputs": [],
   "source": [
    "def binary_cross_entropy_grad(X, w, y):\n",
    "  \"\"\"Gradients for binary logistic regression.\n",
    "  \n",
    "  Hint: You can compute the gradient on a per-example basis,\n",
    "  and then just average these gradients over all examples.\n",
    "  (This follows from the fact that the gradient of a sum\n",
    "  is the sum of the gradients; in other words, the derivative\n",
    "  operator 'pushes through' summations.)\n",
    "  \n",
    "  Args:\n",
    "    X: A float NumPy array with shape\n",
    "      [num_examples, num_features].\n",
    "    w: A float NumPy array with shape [num_features].\n",
    "    y: An int NumPy array with shape [num_examples].\n",
    "  \n",
    "  Returns:\n",
    "    A float NumPy array w_grad with shape [num_features]. This is We have\n",
    "    w_grad[i] = dl/dw[i], where l is the cross entropy between\n",
    "    our empirical distribution and the distribution from our model.\n",
    "    The resulting gradient should be averaged over all examples.\n",
    "  \"\"\"\n",
    "  # TODO: Replace with valid code.\n",
    "  grad = None\n",
    "  return grad"
   ]
  },
  {
   "cell_type": "markdown",
   "metadata": {
    "colab_type": "text",
    "id": "-Y20sa9m1w9b"
   },
   "source": [
    "**Complete the `error_rate` function below.**"
   ]
  },
  {
   "cell_type": "code",
   "execution_count": 0,
   "metadata": {
    "colab": {},
    "colab_type": "code",
    "id": "LOM41i9ZwcAt"
   },
   "outputs": [],
   "source": [
    "def error_rate(p_hat, y):\n",
    "  \"\"\"Error rate.\n",
    "  \n",
    "  PAY ATTENTION TO THE SHAPES OF THE ARGUMENTS, AND\n",
    "  WHAT THESE ARGUMENTS REPRESENT.\n",
    "  \n",
    "  Args:\n",
    "    p_hat: A float NumPy array with shape [num_examples, 2].\n",
    "    y: An int NumPy array with shape [num_examples].\n",
    "  \n",
    "  Returns:\n",
    "    A float between 0.0 and 1.0.\n",
    "  \"\"\"\n",
    "  y_hat = np.argmax(p_hat, axis=1)\n",
    "  # TODO: Replace with valid code.\n",
    "  error_rate = 1.0 # TODO: Fix me.\n",
    "  return error_rate"
   ]
  },
  {
   "cell_type": "markdown",
   "metadata": {
    "colab_type": "text",
    "id": "GWkrWcPD2Q15"
   },
   "source": [
    "**Run the following code block to define the function `random_train_batch`. (We've written it for you.)**"
   ]
  },
  {
   "cell_type": "code",
   "execution_count": 0,
   "metadata": {
    "colab": {},
    "colab_type": "code",
    "id": "9AW4teo2dlhI"
   },
   "outputs": [],
   "source": [
    "def random_train_batch(batch_size):\n",
    "  random_ind = np.random.choice(train_vectors.shape[0], size=batch_size, replace=False)\n",
    "  return train_vectors[random_ind], train_labels[random_ind]"
   ]
  },
  {
   "cell_type": "markdown",
   "metadata": {
    "colab_type": "text",
    "id": "My_yUmZ24_03"
   },
   "source": [
    "**Run the following code block to initializes your weights `w`, and to define your batch size, learning rate, and other parameters.**\n",
    "\n",
    "(We'll begin with a batch size of 100, a learning rate of 1e-5, and we'll take 10000 optimization steps, logging our performance every 10 steps.)"
   ]
  },
  {
   "cell_type": "code",
   "execution_count": 0,
   "metadata": {
    "colab": {},
    "colab_type": "code",
    "id": "eBWMrQcofJye"
   },
   "outputs": [],
   "source": [
    "w = 0.01 * np.random.randn(HEIGHT * WIDTH)\n",
    "batch_size = 100\n",
    "learning_rate = 1e-5\n",
    "num_steps = 10000\n",
    "num_steps_per_log = 10"
   ]
  },
  {
   "cell_type": "markdown",
   "metadata": {
    "colab_type": "text",
    "id": "zUjncIlo5YH-"
   },
   "source": [
    "**Run the following block of code to run all of our validation examples through our model, and to visualize the first validation example along with the prediction of our model. (Before training, we expect it to be garbage.)**"
   ]
  },
  {
   "cell_type": "code",
   "execution_count": 0,
   "metadata": {
    "colab": {},
    "colab_type": "code",
    "id": "qHRNDo4d2Jtc"
   },
   "outputs": [],
   "source": [
    "X_val = val_vectors\n",
    "p_hat_val = model(X_val, w)\n",
    "\n",
    "plt.subplot(1, 2, 1)\n",
    "plt.imshow(X_val[0].reshape(HEIGHT, WIDTH))\n",
    "plt.grid(False)\n",
    "plt.subplot(1, 2, 2)\n",
    "plt.plot(p_hat_val[0], 'o')"
   ]
  },
  {
   "cell_type": "markdown",
   "metadata": {
    "colab_type": "text",
    "id": "9bfsV3Mv5vEW"
   },
   "source": [
    "**Complete the following block of code by filling in the TODOs.**"
   ]
  },
  {
   "cell_type": "code",
   "execution_count": 0,
   "metadata": {
    "colab": {},
    "colab_type": "code",
    "id": "0f3YkYzTua4m"
   },
   "outputs": [],
   "source": [
    "X_val, y_val = val_vectors, val_labels\n",
    "log_names = ['step', 'time', 'train loss', 'val loss', 'train error rate', 'val error rate']\n",
    "logs = []\n",
    "best_val_error_rate = 1.0\n",
    "best_w = w\n",
    "start_time = time.time()\n",
    "for step in range(num_steps):\n",
    "  \n",
    "  X_train, y_train = random_train_batch(batch_size)\n",
    "  \n",
    "  if step % num_steps_per_log == 0:\n",
    "    \n",
    "    t = time.time() - start_time\n",
    "    \n",
    "    # TODO: Complete this section.\n",
    "    p_hat_train = None\n",
    "    train_loss = None\n",
    "    train_error_rate = None\n",
    "    \n",
    "    # TODO: Complete this section.\n",
    "    p_hat_val = None\n",
    "    val_loss = None\n",
    "    val_error_rate = None\n",
    "    \n",
    "    if val_error_rate < best_val_error_rate:\n",
    "      best_val_error_rate = val_error_rate\n",
    "      best_w = w\n",
    "    \n",
    "    logs.append([step, t, train_loss, val_loss, train_error_rate, val_error_rate])\n",
    "  \n",
    "  w_grad = None # TODO: Fill in this line.\n",
    "  w -= learning_rate * w_grad"
   ]
  },
  {
   "cell_type": "code",
   "execution_count": 0,
   "metadata": {
    "colab": {},
    "colab_type": "code",
    "id": "hGhi_amsyBqb"
   },
   "outputs": [],
   "source": [
    "_, x, y11, y12, y21, y22 = zip(*logs)\n",
    "fig, ax = plt.subplots(2, 1, sharex=True)\n",
    "ax[0].plot(x, y11, x, y12)\n",
    "ax[1].plot(x, y21, x, y22)\n",
    "plt.xlabel('Time (s)')\n",
    "print('Best val error rate: {:.2f}'.format(best_val_error_rate))"
   ]
  },
  {
   "cell_type": "markdown",
   "metadata": {
    "colab_type": "text",
    "id": "xEKN6REc83da"
   },
   "source": [
    "**In the following Markdown Cell, answer:**\n",
    "\n",
    "**We took 10000 optimization steps, each with a batch size of 100 and a learning rate of 1e-5. Did the validation loss stabilize? What was the best validation error rate that you achieved?**"
   ]
  },
  {
   "cell_type": "markdown",
   "metadata": {
    "colab_type": "text",
    "id": "BVLJuXfc839Y"
   },
   "source": []
  },
  {
   "cell_type": "markdown",
   "metadata": {
    "colab_type": "text",
    "id": "CeSRNHza6f5I"
   },
   "source": [
    "**Repeat the above experiment, but with a learning rate of 1e-3.**\n",
    "\n",
    "**Then, in the following Markdown Cell, answer:**\n",
    "\n",
    "**We took 10000 optimization steps, each with a batch size of 100 and a learning rate of 1e-3. Did the validation loss stabilize? What was the best validation error rate that you achieved? Is there any evidence of overfitting here?**"
   ]
  },
  {
   "cell_type": "markdown",
   "metadata": {
    "colab_type": "text",
    "id": "mHPpO-hH6pN9"
   },
   "source": []
  },
  {
   "cell_type": "markdown",
   "metadata": {
    "colab_type": "text",
    "id": "39WyFC25-ssj"
   },
   "source": [
    "**Run the following block of code to run all of our validation examples through our model, and to visualize the first validation example along with the prediction of our model.**"
   ]
  },
  {
   "cell_type": "code",
   "execution_count": 0,
   "metadata": {
    "colab": {},
    "colab_type": "code",
    "id": "uBFzpOpp4rvh"
   },
   "outputs": [],
   "source": [
    "X_val = val_vectors\n",
    "p_hat_val = model(X_val, w)\n",
    "\n",
    "plt.subplot(1, 2, 1)\n",
    "plt.imshow(X_val[0].reshape(HEIGHT, WIDTH),cmap='gray')\n",
    "plt.grid(False)\n",
    "plt.subplot(1, 2, 2)\n",
    "plt.plot(p_hat_val[0], 'o')"
   ]
  },
  {
   "cell_type": "markdown",
   "metadata": {
    "colab_type": "text",
    "id": "wRqW1bkG6u3d"
   },
   "source": [
    "**Write code to visualize our parameters, `best_w`, as a 28 x 28 image.**"
   ]
  },
  {
   "cell_type": "code",
   "execution_count": 0,
   "metadata": {
    "colab": {},
    "colab_type": "code",
    "id": "LjOTOVi8x6uL"
   },
   "outputs": [],
   "source": []
  },
  {
   "cell_type": "markdown",
   "metadata": {
    "colab_type": "text",
    "id": "9sHRxJk07ns_"
   },
   "source": [
    "**In the following Markdown Cell, answer:**\n",
    "\n",
    "**Can you explain what you're seeing in this visualization of our weights? For example, what do weights with large negative values vs. weights with large positive values correspond to?**"
   ]
  },
  {
   "cell_type": "markdown",
   "metadata": {
    "colab_type": "text",
    "id": "5rjFX8UY4sJz"
   },
   "source": []
  }
 ],
 "metadata": {
  "colab": {
   "collapsed_sections": [],
   "name": "lab3.ipynb",
   "provenance": []
  },
  "kernelspec": {
   "display_name": "Python 3",
   "language": "python",
   "name": "python3"
  },
  "language_info": {
   "codemirror_mode": {
    "name": "ipython",
    "version": 3
   },
   "file_extension": ".py",
   "mimetype": "text/x-python",
   "name": "python",
   "nbconvert_exporter": "python",
   "pygments_lexer": "ipython3",
   "version": "3.6.5"
  }
 },
 "nbformat": 4,
 "nbformat_minor": 1
}
