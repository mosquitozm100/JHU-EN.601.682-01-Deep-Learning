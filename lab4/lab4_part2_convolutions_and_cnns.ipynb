{
  "nbformat": 4,
  "nbformat_minor": 0,
  "metadata": {
    "accelerator": "GPU",
    "colab": {
      "name": "convolutions_and_cnns.ipynb",
      "provenance": [],
      "collapsed_sections": []
    },
    "kernelspec": {
      "display_name": "Python 3",
      "language": "python",
      "name": "python3"
    },
    "language_info": {
      "codemirror_mode": {
        "name": "ipython",
        "version": 3
      },
      "file_extension": ".py",
      "mimetype": "text/x-python",
      "name": "python",
      "nbconvert_exporter": "python",
      "pygments_lexer": "ipython3",
      "version": "3.6.5"
    }
  },
  "cells": [
    {
      "cell_type": "markdown",
      "metadata": {
        "colab_type": "text",
        "id": "Cq1t9bGsDTvi"
      },
      "source": [
        "Do not delete this cell. It defines custom LaTeX commands.\n",
        "$$\n",
        "\\newcommand{\\xb}{\\boldsymbol{x}}\n",
        "\\newcommand{\\wb}{\\boldsymbol{w}}\n",
        "\\newcommand{\\pb}{\\boldsymbol{p}}\n",
        "\\newcommand{\\1}{\\mathbb{1}}\n",
        "$$"
      ]
    },
    {
      "cell_type": "markdown",
      "metadata": {
        "colab_type": "text",
        "id": "bfyI_9zZPwsa"
      },
      "source": [
        "# Convolutions and Convolutional Neural Networks\n",
        "\n",
        "Here you'll experiment with convolutions, on CPUs and GPUs, and with convolutional neural networks."
      ]
    },
    {
      "cell_type": "code",
      "metadata": {
        "colab_type": "code",
        "id": "mKqJ2q6XalPc",
        "colab": {}
      },
      "source": [
        "%matplotlib inline\n",
        "import matplotlib.pyplot as plt\n",
        "import numpy as np\n",
        "import skimage.data\n",
        "import skimage.color\n",
        "import scipy.misc\n",
        "import scipy.signal\n",
        "import time\n",
        "\n",
        "import torch\n",
        "import torch.nn.functional as F\n",
        "\n",
        "from matplotlib import rcParams\n",
        "rcParams['axes.grid'] = False\n",
        "\n",
        "import warnings\n",
        "warnings.filterwarnings(\"ignore\")"
      ],
      "execution_count": 0,
      "outputs": []
    },
    {
      "cell_type": "markdown",
      "metadata": {
        "colab_type": "text",
        "id": "BYyOOyiqAZHB"
      },
      "source": [
        "## Convolutions with SciPy"
      ]
    },
    {
      "cell_type": "markdown",
      "metadata": {
        "colab_type": "text",
        "id": "xYevMovGlZwu"
      },
      "source": [
        "Let's start by loading a simple image of coffee using scikit-image, converting it to grayscale, and viewing it."
      ]
    },
    {
      "cell_type": "markdown",
      "metadata": {
        "colab_type": "text",
        "id": "ngJRcz3GkfL2"
      },
      "source": [
        "**You will likely get an error when you run the following line of code. This issue has to do with Google's Colaboratory environment. To fix it, just restart the runtime (`Runtime -> Restart Runtime`) and then run all of the code above again (`Runtime -> Run Before`).**"
      ]
    },
    {
      "cell_type": "code",
      "metadata": {
        "colab_type": "code",
        "id": "7bN1tD8sTHRf",
        "colab": {}
      },
      "source": [
        "image = skimage.color.rgb2gray(skimage.data.coffee()).astype(np.float32)"
      ],
      "execution_count": 0,
      "outputs": []
    },
    {
      "cell_type": "markdown",
      "metadata": {
        "colab_type": "text",
        "id": "4FLTgKhelnaL"
      },
      "source": [
        "**In the following cell, write code to print this image's `dtype`, `shape`, and minimum and maximum values.**"
      ]
    },
    {
      "cell_type": "code",
      "metadata": {
        "colab_type": "code",
        "id": "_5nASIC_LMkP",
        "colab": {}
      },
      "source": [
        "# TODO"
      ],
      "execution_count": 0,
      "outputs": []
    },
    {
      "cell_type": "markdown",
      "metadata": {
        "colab_type": "text",
        "id": "mlcKAdcbmSzI"
      },
      "source": [
        "Let's view the image:"
      ]
    },
    {
      "cell_type": "code",
      "metadata": {
        "colab_type": "code",
        "id": "TThQrKHHM45T",
        "colab": {}
      },
      "source": [
        "plt.imshow(image)\n",
        "plt.axis('image')\n",
        "plt.set_cmap('gray')"
      ],
      "execution_count": 0,
      "outputs": []
    },
    {
      "cell_type": "markdown",
      "metadata": {
        "colab_type": "text",
        "id": "-1ccw6QXmWMd"
      },
      "source": [
        "Now let's create a 15 x 15 averaging filter:"
      ]
    },
    {
      "cell_type": "code",
      "metadata": {
        "colab_type": "code",
        "id": "--jy1G76OTF5",
        "colab": {}
      },
      "source": [
        "kernel_shape = [15, 15]\n",
        "kernel = np.ones(kernel_shape, dtype=np.float32) / np.prod(kernel_shape)"
      ],
      "execution_count": 0,
      "outputs": []
    },
    {
      "cell_type": "markdown",
      "metadata": {
        "colab_type": "text",
        "id": "xX3kZ9AinMCU"
      },
      "source": [
        "**In the following Markdown cell, answer: Why are we dividing by the product of `kernel_shape`'s elements here?**"
      ]
    },
    {
      "cell_type": "markdown",
      "metadata": {
        "colab_type": "text",
        "id": "PvZpThvrnMKf"
      },
      "source": [
        "Answer: **TODO**\n",
        "\n"
      ]
    },
    {
      "cell_type": "code",
      "metadata": {
        "colab_type": "code",
        "id": "lTIOmFsuPC5w",
        "colab": {}
      },
      "source": [
        "image_smoothed = scipy.signal.convolve2d(image, kernel, mode='same')\n",
        "kernel.shape"
      ],
      "execution_count": 0,
      "outputs": []
    },
    {
      "cell_type": "markdown",
      "metadata": {
        "colab_type": "text",
        "id": "bB3ErkbKnyKQ"
      },
      "source": [
        "**Copy the previous line of code to the cell below and use IPython's `%timeit` magic to see how long this convolution takes.**"
      ]
    },
    {
      "cell_type": "code",
      "metadata": {
        "colab_type": "code",
        "id": "HoX25pDl3MJg",
        "colab": {}
      },
      "source": [
        "%timeit # TODO"
      ],
      "execution_count": 0,
      "outputs": []
    },
    {
      "cell_type": "markdown",
      "metadata": {
        "colab_type": "text",
        "id": "e2hFzJI9oYcF"
      },
      "source": [
        "**In the following Markdown cell, answer: Approximately how many milliseconds does it take for this 2-D convolution to complete?**"
      ]
    },
    {
      "cell_type": "markdown",
      "metadata": {
        "colab_type": "text",
        "id": "GwZDKecVom2t"
      },
      "source": [
        "Answer: **TODO**\n",
        "\n"
      ]
    },
    {
      "cell_type": "markdown",
      "metadata": {
        "colab_type": "text",
        "id": "n7KhNWmWWKcq"
      },
      "source": [
        "**In the following Markdown cell, answer: We specified `mode='same'` so that the output image has the same size as the input image. If we instead retained only *valid* outputs – those computed using only values within `image` and `kernel` – what would the shape of the output image be?**"
      ]
    },
    {
      "cell_type": "markdown",
      "metadata": {
        "colab_type": "text",
        "id": "Yx1hvRUcWKl-"
      },
      "source": [
        "Answer: **TODO**\n",
        "\n"
      ]
    },
    {
      "cell_type": "markdown",
      "metadata": {
        "colab_type": "text",
        "id": "mbiai9eppSvu"
      },
      "source": [
        "**In the following Markdown cell, answer: Expanding on the previous question, suppose you convolve an image of shape `[HEIGHT, WIDTH]` with a kernel of smaller shape `[K_HEIGHT, K_WIDTH]`, where `K_HEIGHT` and `K_WIDTH` are odd. Then what is the shape of the output of the convolution if only *valid* outputs are retained?**"
      ]
    },
    {
      "cell_type": "markdown",
      "metadata": {
        "colab_type": "text",
        "id": "LF7e6hfHpTE2"
      },
      "source": [
        "Answer: **TODO**\n",
        "\n"
      ]
    },
    {
      "cell_type": "markdown",
      "metadata": {
        "colab_type": "text",
        "id": "eL_H572jqzTn"
      },
      "source": [
        "Let's visualize the output of this convolution."
      ]
    },
    {
      "cell_type": "code",
      "metadata": {
        "colab_type": "code",
        "id": "SutR-ubdQeXA",
        "colab": {}
      },
      "source": [
        "plt.imshow(image_smoothed)\n",
        "plt.axis('image')"
      ],
      "execution_count": 0,
      "outputs": []
    },
    {
      "cell_type": "markdown",
      "metadata": {
        "colab_type": "text",
        "id": "orMqjBbWXir-"
      },
      "source": [
        "**In the following Markdown cell, answer: Why is there an artificial dark border surrounding this output image (which is not present in the original image above)?**"
      ]
    },
    {
      "cell_type": "markdown",
      "metadata": {
        "colab_type": "text",
        "id": "ooDTTTcrXii6"
      },
      "source": [
        "Answer: **TODO**\n",
        "\n"
      ]
    },
    {
      "cell_type": "markdown",
      "metadata": {
        "colab_type": "text",
        "id": "GIiqaW_pAiKw"
      },
      "source": [
        "## Convolutions with PyTorch (CPU only)"
      ]
    },
    {
      "cell_type": "code",
      "metadata": {
        "colab_type": "code",
        "id": "nTOElGcqrZYs",
        "colab": {}
      },
      "source": [
        "image_ = torch.from_numpy(image)\n",
        "kernel_ = torch.from_numpy(kernel)"
      ],
      "execution_count": 0,
      "outputs": []
    },
    {
      "cell_type": "markdown",
      "metadata": {
        "colab_type": "text",
        "id": "Ov3pjWtgzebj"
      },
      "source": [
        "**In the following Markdown cell, answer: Look up the documentation for `torch.nn.functional.conv2d`. What shape does it expect for `input`, and what shape does it expect for `weight`? (Note that in our usage, the argument `groups` is 1.)**"
      ]
    },
    {
      "cell_type": "markdown",
      "metadata": {
        "colab_type": "text",
        "id": "B-R_nV35zfQL"
      },
      "source": [
        "Answer: **TODO**\n"
      ]
    },
    {
      "cell_type": "markdown",
      "metadata": {
        "colab_type": "text",
        "id": "4MLTms1VreNg"
      },
      "source": [
        "**In the following cell, write code to reshape `image_` and `kernel_` so that they can be passed to `torch.nn.functional.conv2d`.**"
      ]
    },
    {
      "cell_type": "code",
      "metadata": {
        "colab_type": "code",
        "id": "GRPJUmBYzaQM",
        "colab": {}
      },
      "source": [
        "raise NotImplementedError"
      ],
      "execution_count": 0,
      "outputs": []
    },
    {
      "cell_type": "markdown",
      "metadata": {
        "colab_type": "text",
        "id": "3uWadNsJ-2KN"
      },
      "source": [
        "Now let's define appropriate padding (so that our output image again remains the same size at the input image) and use PyTorch's `conv2d` to perform the convolution."
      ]
    },
    {
      "cell_type": "code",
      "metadata": {
        "colab_type": "code",
        "id": "ya160ByEzsK7",
        "colab": {}
      },
      "source": [
        "padding = (kernel_shape[0] // 2, kernel_shape[1] // 2)\n",
        "image_smoothed_ = F.conv2d(image_, kernel_, padding=padding)"
      ],
      "execution_count": 0,
      "outputs": []
    },
    {
      "cell_type": "markdown",
      "metadata": {
        "colab_type": "text",
        "id": "FIds1cY5z6Gf"
      },
      "source": [
        "**Copy the previous cell's code to the cell below and use IPython's `%timeit` magic to see how long this convolution takes in PyTorch.**"
      ]
    },
    {
      "cell_type": "code",
      "metadata": {
        "colab_type": "code",
        "id": "E2bN5CIS3gAj",
        "colab": {}
      },
      "source": [
        "%timeit # TODO"
      ],
      "execution_count": 0,
      "outputs": []
    },
    {
      "cell_type": "markdown",
      "metadata": {
        "colab_type": "text",
        "id": "L_5tdEwV0MLS"
      },
      "source": [
        "**In the following Markdown cell, answer: Approximately how many milliseconds does it take for this 2-D convolution to complete?**"
      ]
    },
    {
      "cell_type": "markdown",
      "metadata": {
        "colab_type": "text",
        "id": "mpTNVJgp1ffC"
      },
      "source": [
        "Answer: **TODO**\n",
        "\n"
      ]
    },
    {
      "cell_type": "markdown",
      "metadata": {
        "colab_type": "text",
        "id": "KX5A3fgx1h2N"
      },
      "source": [
        "**In the following Markdown cell, answer: How much faster is PyTorch's implementation in comparison to SciPy's? (To answer this, just compute the ratio $T_\\text{SciPy}$ / $T_\\text{PyTorch}$.)**"
      ]
    },
    {
      "cell_type": "markdown",
      "metadata": {
        "colab_type": "text",
        "id": "zW68UJ8g4RhQ"
      },
      "source": [
        "Answer: **TODO**\n",
        "\n"
      ]
    },
    {
      "cell_type": "markdown",
      "metadata": {
        "colab_type": "text",
        "id": "TzBbittO-v8g"
      },
      "source": [
        "**In the following Markdown cell, answer: Can you guess why PyTorch is faster here? (It's fine if you aren't sure; if so, just leave it blank.)**"
      ]
    },
    {
      "cell_type": "markdown",
      "metadata": {
        "colab_type": "text",
        "id": "EQ79UzHs-wcc"
      },
      "source": [
        "Answer: **TODO**\n",
        "\n"
      ]
    },
    {
      "cell_type": "markdown",
      "metadata": {
        "colab_type": "text",
        "id": "sI40jGBT6BRI"
      },
      "source": [
        "Again let's visualize the output to make sure it's what we expect."
      ]
    },
    {
      "cell_type": "code",
      "metadata": {
        "colab_type": "code",
        "id": "IqCZkiFE6BrU",
        "colab": {}
      },
      "source": [
        "plt.imshow(image_smoothed_.numpy().squeeze())\n",
        "plt.axis('image')"
      ],
      "execution_count": 0,
      "outputs": []
    },
    {
      "cell_type": "markdown",
      "metadata": {
        "colab_type": "text",
        "id": "cCmTo8KjAoPf"
      },
      "source": [
        "## Convolutions with PyTorch (GPU)"
      ]
    },
    {
      "cell_type": "markdown",
      "metadata": {
        "colab_type": "text",
        "id": "UB2WnTAS_SHz"
      },
      "source": [
        "Now let's move on to using CUDA in PyTorch, to leverage GPUs. (If you haven't heard of CUDA, take a quick look at https://en.wikipedia.org/wiki/CUDA.)"
      ]
    },
    {
      "cell_type": "code",
      "metadata": {
        "colab_type": "code",
        "id": "eh91ifRi5nC6",
        "colab": {}
      },
      "source": [
        "assert torch.cuda.is_available()"
      ],
      "execution_count": 0,
      "outputs": []
    },
    {
      "cell_type": "markdown",
      "metadata": {
        "colab_type": "text",
        "id": "8ipNrsWY5pkf"
      },
      "source": [
        "**If the above `assert` fails, hit `Edit -> Notebook Settings` and make sure GPU acceleration is enabled.**"
      ]
    },
    {
      "cell_type": "code",
      "metadata": {
        "colab_type": "code",
        "id": "zMS22ug04R4o",
        "colab": {}
      },
      "source": [
        "image_ = image_.cuda()\n",
        "kernel_ = kernel_.cuda()"
      ],
      "execution_count": 0,
      "outputs": []
    },
    {
      "cell_type": "code",
      "metadata": {
        "colab_type": "code",
        "id": "lL4HJDxo6PZb",
        "colab": {}
      },
      "source": [
        "image_smoothed_ = F.conv2d(image_, kernel_, padding=padding)"
      ],
      "execution_count": 0,
      "outputs": []
    },
    {
      "cell_type": "markdown",
      "metadata": {
        "colab_type": "text",
        "id": "G3iQClTT6WUp"
      },
      "source": [
        "**Copy the above code to the cell below and use IPython's `%timeit` magic to see how long this convolution takes in PyTorch using our GPU.**"
      ]
    },
    {
      "cell_type": "code",
      "metadata": {
        "colab_type": "code",
        "id": "DoKZ8FKf4SAI",
        "colab": {}
      },
      "source": [
        "%timeit # TODO"
      ],
      "execution_count": 0,
      "outputs": []
    },
    {
      "cell_type": "markdown",
      "metadata": {
        "colab_type": "text",
        "id": "II2acbTq6oPz"
      },
      "source": [
        "**In the following Markdown cell, answer: Approximately how many milliseconds does it take for this 2-D convolution to complete?**"
      ]
    },
    {
      "cell_type": "markdown",
      "metadata": {
        "colab_type": "text",
        "id": "bT5ggM0N6oP0"
      },
      "source": [
        "Answer: **TODO**\n",
        "\n"
      ]
    },
    {
      "cell_type": "markdown",
      "metadata": {
        "colab_type": "text",
        "id": "eRlo93K26oP1"
      },
      "source": [
        "**In the following Markdown cell, answer: How much faster is PyTorch's GPU implementation in comparison to SciPy's CPU implementation? And how much faster is PyTorch's GPU implementation than PyTorch's CPU implementation? (Answer these as done above, as $T_\\text{PyTorch GPU}$ / $T_\\text{SciPy}$ and $T_\\text{PyTorch GPU}$ / $T_\\text{PyTorch CPU}$.)**"
      ]
    },
    {
      "cell_type": "markdown",
      "metadata": {
        "colab_type": "text",
        "id": "UT2y436k6oP2"
      },
      "source": [
        "Answer: **TODO**\n",
        "\n"
      ]
    },
    {
      "cell_type": "markdown",
      "metadata": {
        "colab_type": "text",
        "id": "6gHuLtMV_oUS"
      },
      "source": [
        "Now let's go on to convolve an RGB image (height x width x 3) with a kernel that's 15 x 15 x 3."
      ]
    },
    {
      "cell_type": "code",
      "metadata": {
        "colab_type": "code",
        "id": "kCdPdOSw4SQ2",
        "colab": {}
      },
      "source": [
        "image = skimage.data.coffee().astype(np.float32)\n",
        "image /= image.max()\n",
        "plt.imshow(image)"
      ],
      "execution_count": 0,
      "outputs": []
    },
    {
      "cell_type": "markdown",
      "metadata": {
        "colab_type": "text",
        "id": "BemKmnywCxeV"
      },
      "source": [
        "**In the following cell, write code to print this image's `dtype`, `shape`, and minimum and maximum values.**"
      ]
    },
    {
      "cell_type": "code",
      "metadata": {
        "colab_type": "code",
        "id": "I45cn5QFCxd8",
        "colab": {}
      },
      "source": [
        "# TODO"
      ],
      "execution_count": 0,
      "outputs": []
    },
    {
      "cell_type": "code",
      "metadata": {
        "colab_type": "code",
        "id": "1n_fur99pBom",
        "colab": {}
      },
      "source": [
        "kernel_shape = [15, 15, 3]\n",
        "kernel = np.ones(kernel_shape, dtype=np.float32) / np.prod(kernel_shape)"
      ],
      "execution_count": 0,
      "outputs": []
    },
    {
      "cell_type": "code",
      "metadata": {
        "colab_type": "code",
        "id": "oAIFE6zJrY7z",
        "colab": {}
      },
      "source": [
        "image_ = torch.from_numpy(image).cuda()\n",
        "kernel_ = torch.from_numpy(kernel).cuda()"
      ],
      "execution_count": 0,
      "outputs": []
    },
    {
      "cell_type": "markdown",
      "metadata": {
        "colab_type": "text",
        "id": "98mB1mSEuTbc"
      },
      "source": [
        "**In the following cell, write code to permute and reshape axes so that `image_` and `kernel_` have the shapes expected by `torch.nn.functional.conv2d`. (You can use `permute` and `unsqueeze` here.)**"
      ]
    },
    {
      "cell_type": "code",
      "metadata": {
        "colab_type": "code",
        "id": "7fEM8M5CrYyZ",
        "colab": {}
      },
      "source": [
        "# TODO\n",
        "# TODO"
      ],
      "execution_count": 0,
      "outputs": []
    },
    {
      "cell_type": "markdown",
      "metadata": {
        "colab_type": "text",
        "id": "CAe_eTNSvHF9"
      },
      "source": [
        "After the `permute`, we need to make our Tensor contiguous. (`permute` changes the order in which we view memory, but avoids rearranging the order explicitly. Thus we need to explicitly reorder the memory so that future manipulations can operate as expected.)"
      ]
    },
    {
      "cell_type": "code",
      "metadata": {
        "colab_type": "code",
        "id": "Dp8b_tjUvyGm",
        "colab": {}
      },
      "source": [
        "image_ = image_.contiguous()\n",
        "kernel_ = kernel_.contiguous()"
      ],
      "execution_count": 0,
      "outputs": []
    },
    {
      "cell_type": "markdown",
      "metadata": {
        "colab_type": "text",
        "id": "dc0sQ3gjrYqr"
      },
      "source": [
        "**In the following cell, write code to print the shape of `image_` and `kernel_`, and confirm they're what you expect.**"
      ]
    },
    {
      "cell_type": "code",
      "metadata": {
        "colab_type": "code",
        "id": "gzDFGF96uAkl",
        "colab": {}
      },
      "source": [
        "# TODO"
      ],
      "execution_count": 0,
      "outputs": []
    },
    {
      "cell_type": "code",
      "metadata": {
        "colab_type": "code",
        "id": "2FsijrQeuHqc",
        "colab": {}
      },
      "source": [
        "output_ = F.conv2d(image_, kernel_, padding=padding)"
      ],
      "execution_count": 0,
      "outputs": []
    },
    {
      "cell_type": "markdown",
      "metadata": {
        "colab_type": "text",
        "id": "yhP8I6P4v3Wd"
      },
      "source": [
        "**In the following cell, write code to print the `type` and `shape` of `output_`.**"
      ]
    },
    {
      "cell_type": "code",
      "metadata": {
        "colab_type": "code",
        "id": "m5GcnUTSv30g",
        "colab": {}
      },
      "source": [
        "# TODO"
      ],
      "execution_count": 0,
      "outputs": []
    },
    {
      "cell_type": "markdown",
      "metadata": {
        "colab_type": "text",
        "id": "09nbb-PNwjSA"
      },
      "source": [
        "**In the following Markdown cell, answer: Why does the output have 1 output channel instead of 3?**"
      ]
    },
    {
      "cell_type": "markdown",
      "metadata": {
        "colab_type": "text",
        "id": "fxZ4p0TLwjpX"
      },
      "source": [
        "Answer: **TODO**\n",
        "\n"
      ]
    },
    {
      "cell_type": "markdown",
      "metadata": {
        "colab_type": "text",
        "id": "VjZeHWkl_98I"
      },
      "source": [
        "Finally, let's visualize the result."
      ]
    },
    {
      "cell_type": "code",
      "metadata": {
        "colab_type": "code",
        "id": "-quIcn8aAAct",
        "colab": {}
      },
      "source": [
        "plt.imshow(output_.cpu().numpy().squeeze())\n",
        "plt.axis('image')"
      ],
      "execution_count": 0,
      "outputs": []
    },
    {
      "cell_type": "markdown",
      "metadata": {
        "colab_type": "text",
        "id": "hv0uKzQZA4HW"
      },
      "source": [
        "## MNIST Classification with Extremely Simple CNNs"
      ]
    },
    {
      "cell_type": "code",
      "metadata": {
        "colab_type": "code",
        "id": "Ec5U9S21LKoH",
        "colab": {}
      },
      "source": [
        "import torchvision\n",
        "\n",
        "from pathlib import Path\n",
        "HOME = Path.home()\n",
        "MNIST_PATH = HOME / 'data' / 'mnist'\n",
        "\n",
        "NUM_CLASSES = 10\n",
        "CHANNELS = 1\n",
        "HEIGHT = 28\n",
        "WIDTH = 28"
      ],
      "execution_count": 0,
      "outputs": []
    },
    {
      "cell_type": "code",
      "metadata": {
        "colab_type": "code",
        "id": "ThF_mw3iasJ2",
        "colab": {}
      },
      "source": [
        "# We're going to load the official train set and never touch\n",
        "# the true test set in these experiments, which consists of 10,000\n",
        "# separate examples. We'll instead split our training set into\n",
        "# a set for training and a set for validation.\n",
        "official_mnist_train = torchvision.datasets.MNIST(str(MNIST_PATH), train=True, download=True)\n",
        "official_train_images = official_mnist_train.train_data.numpy().astype(np.float32)\n",
        "official_train_labels = official_mnist_train.train_labels.numpy().astype(np.int)"
      ],
      "execution_count": 0,
      "outputs": []
    },
    {
      "cell_type": "code",
      "metadata": {
        "colab_type": "code",
        "id": "cdhHhkpFxTUV",
        "colab": {}
      },
      "source": [
        "print(official_train_images.shape)\n",
        "print(official_train_labels.shape)"
      ],
      "execution_count": 0,
      "outputs": []
    },
    {
      "cell_type": "markdown",
      "metadata": {
        "colab_type": "text",
        "id": "2yVKLOn8_EMD"
      },
      "source": [
        "Let's view a few examples:"
      ]
    },
    {
      "cell_type": "code",
      "metadata": {
        "colab_type": "code",
        "id": "RJxxlEjhcpW9",
        "colab": {}
      },
      "source": [
        "example_images = np.concatenate(official_train_images[:10], axis=1)\n",
        "example_labels = official_train_labels[:10]\n",
        "print(example_labels)\n",
        "plt.imshow(example_images)"
      ],
      "execution_count": 0,
      "outputs": []
    },
    {
      "cell_type": "markdown",
      "metadata": {
        "colab_type": "text",
        "id": "toe9gJyK_LBO"
      },
      "source": [
        "Here we'll split our training set into 55000 for training and the rest for validation."
      ]
    },
    {
      "cell_type": "code",
      "metadata": {
        "colab_type": "code",
        "id": "E60IytczeT22",
        "colab": {}
      },
      "source": [
        "train_images, val_images = np.split(official_train_images, [55000])\n",
        "train_labels, val_labels = np.split(official_train_labels, [55000])"
      ],
      "execution_count": 0,
      "outputs": []
    },
    {
      "cell_type": "code",
      "metadata": {
        "colab_type": "code",
        "id": "4uReKYU4y5k0",
        "colab": {}
      },
      "source": [
        "print(train_images.shape, train_labels.shape)\n",
        "print(val_images.shape, val_labels.shape)"
      ],
      "execution_count": 0,
      "outputs": []
    },
    {
      "cell_type": "markdown",
      "metadata": {
        "colab_type": "text",
        "id": "ocXrRfsX_VwM"
      },
      "source": [
        "And we'll normalize our data in one of the simplest ways possible: centering and scaling on an image-by-image basis."
      ]
    },
    {
      "cell_type": "code",
      "metadata": {
        "colab_type": "code",
        "id": "ZJsU5u9WhBzN",
        "colab": {}
      },
      "source": [
        "def normalize_stats_image_by_image(images):\n",
        "  mean = images.mean(axis=(1,2), keepdims=True)\n",
        "  stdev = images.std(axis=(1,2), keepdims=True)\n",
        "  return (images - mean) / stdev"
      ],
      "execution_count": 0,
      "outputs": []
    },
    {
      "cell_type": "code",
      "metadata": {
        "colab_type": "code",
        "id": "dL9XyAMYk8qs",
        "colab": {}
      },
      "source": [
        "train_images = normalize_stats_image_by_image(train_images)\n",
        "val_images = normalize_stats_image_by_image(val_images)"
      ],
      "execution_count": 0,
      "outputs": []
    },
    {
      "cell_type": "code",
      "metadata": {
        "colab_type": "code",
        "id": "lgIXQ0QO0NUy",
        "colab": {}
      },
      "source": [
        "print(train_images[:3].mean(axis=(1, 2)))\n",
        "print(train_images[:3].std(axis=(1, 2)))\n",
        "print(val_images[:3].mean(axis=(1, 2)))\n",
        "print(val_images[:3].std(axis=(1, 2)))"
      ],
      "execution_count": 0,
      "outputs": []
    },
    {
      "cell_type": "markdown",
      "metadata": {
        "colab_type": "text",
        "id": "PmWbExBjHPc1"
      },
      "source": [
        "As before, we'll define a function to return a batch of examples. However this time we'll assume we have a GPU available."
      ]
    },
    {
      "cell_type": "code",
      "metadata": {
        "colab_type": "code",
        "id": "VV-22bUNDRpO",
        "colab": {}
      },
      "source": [
        "def batch(batch_size, training=True):\n",
        "  \"\"\"Create a batch of examples.\n",
        "  \n",
        "  This creates a batch of input images and a batch of corresponding\n",
        "  ground-truth labels. We assume CUDA is available (with a GPU).\n",
        "  \n",
        "  Args:\n",
        "    batch_size: An integer.\n",
        "    training: A boolean. If True, grab examples from the training\n",
        "      set; otherwise, grab them from the validation set.\n",
        "  \n",
        "  Returns:\n",
        "    A tuple,\n",
        "    input_batch: A Tensor of floats with shape\n",
        "      [batch_size, 1, height, width]\n",
        "    label_batch: A Tensor of ints with shape\n",
        "      [batch_size].\n",
        "  \"\"\"\n",
        "  if training:\n",
        "    random_ind = np.random.choice(train_images.shape[0], size=batch_size, replace=False)\n",
        "    input_batch = train_images[random_ind]\n",
        "    label_batch = train_labels[random_ind]\n",
        "  else:\n",
        "    input_batch = val_images[:batch_size]\n",
        "    label_batch = val_labels[:batch_size]\n",
        "  \n",
        "  input_batch = input_batch[:, np.newaxis, :, :]\n",
        "  \n",
        "  volatile = not training\n",
        "  input_batch = torch.from_numpy(input_batch).cuda()\n",
        "  label_batch = torch.from_numpy(label_batch).cuda()\n",
        "  \n",
        "  return input_batch, label_batch"
      ],
      "execution_count": 0,
      "outputs": []
    },
    {
      "cell_type": "markdown",
      "metadata": {
        "colab_type": "text",
        "id": "JUqtXLFAE0kH"
      },
      "source": [
        "**Below, you will define a `SimpleCNN` with some significant restrictions on the model class: (1) Input to conv_final needs to be a single pixel (see comments where it is defined). (2) Only Convolutions and ReLUs can be used. In other words, do not use max pooling, do not use dropout, etc. (3) For full credit, achieve better than 2% error.**\n",
        "\n",
        "**The purpose of this is to (1) gain competency with the basic settings for convolutions and (2) develop a practical sense for how important these basic settings are.**\n",
        "\n",
        "Hint 1: You can use the `stride` argument in the convolutions.\n",
        "\n",
        "Hint 2: This can easily be achieved in well under 5000 iterations using the same optimizer settings as below (Adam with a learning rate of 0.001)."
      ]
    },
    {
      "cell_type": "code",
      "metadata": {
        "colab_type": "code",
        "id": "MVZjEc5FGzDn",
        "colab": {}
      },
      "source": [
        "class SimpleCNN(torch.nn.Module):\n",
        "  \"\"\"A simple convolutional network.\n",
        "  \n",
        "  Map from inputs with shape [batch_size, 1, height, width] to\n",
        "  outputs with shape [batch_size, 1].\n",
        "  \"\"\"\n",
        "  \n",
        "  def __init__(self):\n",
        "    super().__init__()\n",
        "    self.conv1 = torch.nn.Conv2d(1, 32, kernel_size=7, padding=7//2) # feel free to change these parameters.\n",
        "    # TODO\n",
        "    # (You may also need to modify conv_final.)\n",
        "    # self.conv2 = \n",
        "    # self.conv3 = \n",
        "    # self.conv4 = \n",
        "    # self.conv5 = \n",
        "    \n",
        "    # Here the input to conv_final should be a single pixel, as can be obtained\n",
        "    # by pooling spatially over all pixels. The goal of conv_final is to map\n",
        "    # from some number of channels to 10, one for each possible class.\n",
        "    \n",
        "    # Here, in_channel = 128, but feel free to change that. All other parameters for conv_final should remain the same.\n",
        "    self.conv_final = torch.nn.Conv2d(128, 10, kernel_size=1)\n",
        "    \n",
        "  def forward(self, x):\n",
        "    x = F.relu(self.conv1(x))\n",
        "    # TODO"
      ],
      "execution_count": 0,
      "outputs": []
    },
    {
      "cell_type": "markdown",
      "metadata": {
        "colab_type": "text",
        "id": "Ub3vnKdME6J3"
      },
      "source": [
        "And instantiate our model... notice again that we assume CUDA is available, and that moving all parameters to the GPU is as simple as running `model.cuda()`."
      ]
    },
    {
      "cell_type": "code",
      "metadata": {
        "colab_type": "code",
        "id": "YhK3Dyy-LoLW",
        "colab": {}
      },
      "source": [
        "model = SimpleCNN()\n",
        "model.cuda()"
      ],
      "execution_count": 0,
      "outputs": []
    },
    {
      "cell_type": "code",
      "metadata": {
        "colab_type": "code",
        "id": "El2xSj-yLoVU",
        "colab": {}
      },
      "source": [
        "optimizer = torch.optim.Adam(model.parameters(), lr=0.001)"
      ],
      "execution_count": 0,
      "outputs": []
    },
    {
      "cell_type": "code",
      "metadata": {
        "colab_type": "code",
        "id": "KxMEN0hsxMbm",
        "colab": {}
      },
      "source": [
        "def train_step(batch_size=128):\n",
        "  \n",
        "  model.train()\n",
        "\n",
        "  input_batch, label_batch = batch(batch_size, training=True)\n",
        "  output_batch = model(input_batch)\n",
        "  \n",
        "  loss = F.cross_entropy(output_batch, label_batch)\n",
        "  _, pred_batch = torch.max(output_batch, dim=1)\n",
        "  error_rate = 1.0 - (pred_batch == label_batch).float().mean()\n",
        "\n",
        "  optimizer.zero_grad()\n",
        "  loss.backward()\n",
        "  \n",
        "  optimizer.step()\n",
        "  \n",
        "  return loss.item(), error_rate.item()"
      ],
      "execution_count": 0,
      "outputs": []
    },
    {
      "cell_type": "code",
      "metadata": {
        "colab_type": "code",
        "id": "h7JygaaR9KkO",
        "colab": {}
      },
      "source": [
        "def val():\n",
        "  \n",
        "  model.eval()\n",
        "  input_batch, label_batch = batch(val_images.shape[0], training=False)\n",
        "  output_batch = model(input_batch)\n",
        "\n",
        "  loss = F.cross_entropy(output_batch, label_batch)\n",
        "  _, pred_batch = torch.max(output_batch, dim=1)\n",
        "  error_rate = 1.0 - (pred_batch == label_batch).float().mean()\n",
        "  \n",
        "  return loss.item(), error_rate.item()"
      ],
      "execution_count": 0,
      "outputs": []
    },
    {
      "cell_type": "markdown",
      "metadata": {
        "colab_type": "text",
        "id": "o_LCeeO92kLB"
      },
      "source": [
        "Finally, let's train, and also plot loss and error rate as a function of iteration."
      ]
    },
    {
      "cell_type": "code",
      "metadata": {
        "colab_type": "code",
        "id": "CKSCshLB87yc",
        "colab": {}
      },
      "source": [
        "# Let's make sure we always start from scratch (that is,\n",
        "# without starting from parameters from a previous run).\n",
        "for module in model.children():\n",
        "  module.reset_parameters()\n",
        "\n",
        "info = []\n",
        "fig, ax = plt.subplots(2, 1, sharex=True)\n",
        "num_steps = 5000\n",
        "num_steps_per_val = 50\n",
        "best_val_err = 1.0\n",
        "for step in range(num_steps):\n",
        "  train_loss, train_err = train_step()\n",
        "  if step % num_steps_per_val == 0:\n",
        "    val_loss, val_err = val()\n",
        "    if val_err < best_val_err:\n",
        "      best_val_err = val_err\n",
        "      print('Step {:5d}: Obtained a best validation error of {:.3f}.'.format(step, best_val_err))\n",
        "    info.append([step, train_loss, val_loss, train_err, val_err])\n",
        "    x, y11, y12, y21, y22 = zip(*info)\n",
        "    ax[0].plot(x, y11, x, y12)\n",
        "    ax[0].legend(['Train loss', 'Val loss'])\n",
        "    ax[1].plot(x, y21, x, y22)\n",
        "    ax[1].legend(['Train err', 'Val err'])\n",
        "    ax[1].set_ylim([0.0, 0.25])"
      ],
      "execution_count": 0,
      "outputs": []
    },
    {
      "cell_type": "markdown",
      "metadata": {
        "colab_type": "text",
        "id": "CHVDYeHH4t3c"
      },
      "source": [
        ""
      ]
    }
  ]
}