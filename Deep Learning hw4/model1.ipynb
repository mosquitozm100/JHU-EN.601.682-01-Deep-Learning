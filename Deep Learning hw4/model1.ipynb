{
  "nbformat": 4,
  "nbformat_minor": 0,
  "metadata": {
    "colab": {
      "name": "Mou's Homework 4 script 9 - CNN+batchnorm.ipynb",
      "provenance": [],
      "collapsed_sections": [],
      "toc_visible": true,
      "machine_shape": "hm"
    },
    "kernelspec": {
      "name": "python3",
      "display_name": "Python 3"
    },
    "accelerator": "GPU"
  },
  "cells": [
    {
      "cell_type": "code",
      "metadata": {
        "id": "z9WFsa-UylP0",
        "colab_type": "code",
        "colab": {}
      },
      "source": [
        ""
      ],
      "execution_count": 0,
      "outputs": []
    },
    {
      "cell_type": "code",
      "metadata": {
        "id": "Hiur61_IC2VA",
        "colab_type": "code",
        "outputId": "3f779907-a58f-4e6b-99f7-b29ed1f19ff4",
        "colab": {
          "base_uri": "https://localhost:8080/",
          "height": 445
        }
      },
      "source": [
        "!wget https://www.dropbox.com/s/h1n73cw33no99mz/data.pth"
      ],
      "execution_count": 0,
      "outputs": [
        {
          "output_type": "stream",
          "text": [
            "--2020-03-27 21:27:57--  https://www.dropbox.com/s/h1n73cw33no99mz/data.pth\n",
            "Resolving www.dropbox.com (www.dropbox.com)... 162.125.82.1, 2620:100:6032:1::a27d:5201\n",
            "Connecting to www.dropbox.com (www.dropbox.com)|162.125.82.1|:443... connected.\n",
            "HTTP request sent, awaiting response... 301 Moved Permanently\n",
            "Location: /s/raw/h1n73cw33no99mz/data.pth [following]\n",
            "--2020-03-27 21:27:57--  https://www.dropbox.com/s/raw/h1n73cw33no99mz/data.pth\n",
            "Reusing existing connection to www.dropbox.com:443.\n",
            "HTTP request sent, awaiting response... 302 Found\n",
            "Location: https://uc354eba7388b0d6b96921aeed53.dl.dropboxusercontent.com/cd/0/inline/A0sdvb_63epBeLNJUFIQ15msNfvZ2JnyNEgbzVZjb7JUXZZu3PYTSS8nR8j4ECEvsGjrQj0ihQJAtdOb7_viaVrkjLiYgKuUKE_Tpg1VvOvYkJnd3WTaJa2efcSk_waNoQo/file# [following]\n",
            "--2020-03-27 21:27:57--  https://uc354eba7388b0d6b96921aeed53.dl.dropboxusercontent.com/cd/0/inline/A0sdvb_63epBeLNJUFIQ15msNfvZ2JnyNEgbzVZjb7JUXZZu3PYTSS8nR8j4ECEvsGjrQj0ihQJAtdOb7_viaVrkjLiYgKuUKE_Tpg1VvOvYkJnd3WTaJa2efcSk_waNoQo/file\n",
            "Resolving uc354eba7388b0d6b96921aeed53.dl.dropboxusercontent.com (uc354eba7388b0d6b96921aeed53.dl.dropboxusercontent.com)... 162.125.82.6, 2620:100:6032:6::a27d:5206\n",
            "Connecting to uc354eba7388b0d6b96921aeed53.dl.dropboxusercontent.com (uc354eba7388b0d6b96921aeed53.dl.dropboxusercontent.com)|162.125.82.6|:443... connected.\n",
            "HTTP request sent, awaiting response... 302 FOUND\n",
            "Location: /cd/0/inline2/A0vf9M0ymiLsNLTrvshST7uM0EwwDHPzQfzLXFmLucxY3mn_t-6lzwRM5l66hCDzlhBaLZ4XR13RPb0Ne_-Bh8Hxz2Qd0sqAW5VzzuGuCF5n5ZqyFwOdJLe8d2VNBmpCneoCuizYu8y4WoWliu99qCoCsAtu7R6AzW8lILtLA478uHYXGzIbf13iJkgJLNz06Gg14vHOjiaYreCsTDK2nI2sU0xe4w0CxU1U7D8SR6nlZru_Inc_M4eQuytBlOrJxHNIbfJ9-13B5Cgg47Prv78Bq7pyAgknLiUumPCNno7a21OOi3iVARZMlMQX22pqDCjldpqNzPgshGg4JFwbdrrWVFxNrg9Ew62xHEk4GF1e2Q/file [following]\n",
            "--2020-03-27 21:27:58--  https://uc354eba7388b0d6b96921aeed53.dl.dropboxusercontent.com/cd/0/inline2/A0vf9M0ymiLsNLTrvshST7uM0EwwDHPzQfzLXFmLucxY3mn_t-6lzwRM5l66hCDzlhBaLZ4XR13RPb0Ne_-Bh8Hxz2Qd0sqAW5VzzuGuCF5n5ZqyFwOdJLe8d2VNBmpCneoCuizYu8y4WoWliu99qCoCsAtu7R6AzW8lILtLA478uHYXGzIbf13iJkgJLNz06Gg14vHOjiaYreCsTDK2nI2sU0xe4w0CxU1U7D8SR6nlZru_Inc_M4eQuytBlOrJxHNIbfJ9-13B5Cgg47Prv78Bq7pyAgknLiUumPCNno7a21OOi3iVARZMlMQX22pqDCjldpqNzPgshGg4JFwbdrrWVFxNrg9Ew62xHEk4GF1e2Q/file\n",
            "Reusing existing connection to uc354eba7388b0d6b96921aeed53.dl.dropboxusercontent.com:443.\n",
            "HTTP request sent, awaiting response... 200 OK\n",
            "Length: 266735560 (254M) [application/octet-stream]\n",
            "Saving to: ‘data.pth’\n",
            "\n",
            "data.pth            100%[===================>] 254.38M  9.76MB/s    in 39s     \n",
            "\n",
            "2020-03-27 21:28:38 (6.47 MB/s) - ‘data.pth’ saved [266735560/266735560]\n",
            "\n"
          ],
          "name": "stdout"
        }
      ]
    },
    {
      "cell_type": "code",
      "metadata": {
        "id": "T025rySCzfRg",
        "colab_type": "code",
        "colab": {}
      },
      "source": [
        "%matplotlib inline\n",
        "import matplotlib.pyplot as plt\n",
        "import numpy as np\n",
        "import skimage.data\n",
        "import skimage.color\n",
        "import scipy.misc\n",
        "import scipy.signal\n",
        "import time\n",
        "\n",
        "import torch\n",
        "from torch.autograd import Variable\n",
        "import torch.nn.functional as F\n",
        "\n",
        "from matplotlib import rcParams\n",
        "rcParams['axes.grid'] = False\n",
        "\n",
        "import warnings\n",
        "warnings.filterwarnings(\"ignore\")"
      ],
      "execution_count": 0,
      "outputs": []
    },
    {
      "cell_type": "code",
      "metadata": {
        "id": "891uN52ZnNZu",
        "colab_type": "code",
        "outputId": "6fc7f25a-e3c8-44dd-cad1-69338972f219",
        "colab": {
          "base_uri": "https://localhost:8080/",
          "height": 122
        }
      },
      "source": [
        "from google.colab import drive\n",
        "drive.mount('/content/drive')"
      ],
      "execution_count": 0,
      "outputs": [
        {
          "output_type": "stream",
          "text": [
            "Go to this URL in a browser: https://accounts.google.com/o/oauth2/auth?client_id=947318989803-6bn6qk8qdgf4n4g3pfee6491hc0brc4i.apps.googleusercontent.com&redirect_uri=urn%3aietf%3awg%3aoauth%3a2.0%3aoob&response_type=code&scope=email%20https%3a%2f%2fwww.googleapis.com%2fauth%2fdocs.test%20https%3a%2f%2fwww.googleapis.com%2fauth%2fdrive%20https%3a%2f%2fwww.googleapis.com%2fauth%2fdrive.photos.readonly%20https%3a%2f%2fwww.googleapis.com%2fauth%2fpeopleapi.readonly\n",
            "\n",
            "Enter your authorization code:\n",
            "··········\n",
            "Mounted at /content/drive\n"
          ],
          "name": "stdout"
        }
      ]
    },
    {
      "cell_type": "code",
      "metadata": {
        "id": "GSZ8hL8wC1u8",
        "colab_type": "code",
        "outputId": "484f933d-6d1b-4674-fc05-f105eb12bb8e",
        "colab": {
          "base_uri": "https://localhost:8080/",
          "height": 68
        }
      },
      "source": [
        "train_x, train_y, dev_x, dev_y, test_x = torch.load('data.pth')\n",
        "\n",
        "print('Training size:', train_x.shape, train_y.shape)\n",
        "print('Development size:', dev_x.shape, dev_y.shape)\n",
        "print('Test size:', test_x.shape)"
      ],
      "execution_count": 0,
      "outputs": [
        {
          "output_type": "stream",
          "text": [
            "Training size: (45000, 3, 32, 32) (45000,)\n",
            "Development size: (5000, 3, 32, 32) (5000,)\n",
            "Test size: (10000, 3, 32, 32)\n"
          ],
          "name": "stdout"
        }
      ]
    },
    {
      "cell_type": "code",
      "metadata": {
        "id": "nhPBgoqWC_I7",
        "colab_type": "code",
        "outputId": "9e80207b-65b1-4b48-dbc9-2f016642a890",
        "colab": {
          "base_uri": "https://localhost:8080/",
          "height": 515
        }
      },
      "source": [
        "# show all three channels\n",
        "plt.imshow(train_x[0].transpose((1, 2, 0)))\n",
        "plt.show()\n",
        "\n",
        "# show the first channel\n",
        "plt.imshow(train_x[0, 0])\n",
        "plt.show()"
      ],
      "execution_count": 0,
      "outputs": [
        {
          "output_type": "display_data",
          "data": {
            "image/png": "[encoded data removed]",
            "text/plain": [
              "<Figure size 432x288 with 1 Axes>"
            ]
          },
          "metadata": {
            "tags": []
          }
        },
        {
          "output_type": "display_data",
          "data": {
            "image/png": "[encoded data removed]",
            "text/plain": [
              "<Figure size 432x288 with 1 Axes>"
            ]
          },
          "metadata": {
            "tags": []
          }
        }
      ]
    },
    {
      "cell_type": "code",
      "metadata": {
        "id": "S2X7zykBUW-L",
        "colab_type": "code",
        "colab": {}
      },
      "source": [
        "def set_seed(seed=1):\n",
        "    #random.seed(seed)\n",
        "    np.random.seed(seed)\n",
        "    torch.manual_seed(seed)\n",
        "    torch.cuda.manual_seed(seed)"
      ],
      "execution_count": 0,
      "outputs": []
    },
    {
      "cell_type": "code",
      "metadata": {
        "id": "6HhWpbm7UXwG",
        "colab_type": "code",
        "colab": {}
      },
      "source": [
        "set_seed(1)"
      ],
      "execution_count": 0,
      "outputs": []
    },
    {
      "cell_type": "code",
      "metadata": {
        "id": "fXXpQjWgzf15",
        "colab_type": "code",
        "colab": {}
      },
      "source": [
        "import torchvision\n",
        "\n",
        "NUM_CLASSES = 100\n",
        "CHANNELS = 3\n",
        "HEIGHT = 32\n",
        "WIDTH = 32"
      ],
      "execution_count": 0,
      "outputs": []
    },
    {
      "cell_type": "code",
      "metadata": {
        "id": "lkcCcuoGD-1-",
        "colab_type": "code",
        "colab": {}
      },
      "source": [
        "train_images, train_labels, val_images, val_labels, test_images = train_x, train_y, dev_x, dev_y, test_x"
      ],
      "execution_count": 0,
      "outputs": []
    },
    {
      "cell_type": "code",
      "metadata": {
        "id": "Y_xCZF-202oY",
        "colab_type": "code",
        "outputId": "0f84d1c5-5909-4e32-efc7-eeb8e19ee73e",
        "colab": {
          "base_uri": "https://localhost:8080/",
          "height": 51
        }
      },
      "source": [
        "print(train_images.shape, train_labels.shape)\n",
        "print(val_images.shape, val_labels.shape)"
      ],
      "execution_count": 0,
      "outputs": [
        {
          "output_type": "stream",
          "text": [
            "(45000, 3, 32, 32) (45000,)\n",
            "(5000, 3, 32, 32) (5000,)\n"
          ],
          "name": "stdout"
        }
      ]
    },
    {
      "cell_type": "code",
      "metadata": {
        "id": "gq0gf0JsXmaJ",
        "colab_type": "code",
        "colab": {}
      },
      "source": [
        "import torchvision.transforms as transforms\n",
        "train_transform = transforms.Compose([\n",
        "    transforms.Resize((32, 32)),\n",
        "    transforms.RandomCrop(32, padding=4),\n",
        "    transforms.RandomHorizontalFlip(p=1),\n",
        "    transforms.ToTensor()\n",
        "])"
      ],
      "execution_count": 0,
      "outputs": []
    },
    {
      "cell_type": "code",
      "metadata": {
        "id": "nTTsnqmXhwRu",
        "colab_type": "code",
        "colab": {}
      },
      "source": [
        "def data_augmentation(train_images, train_labels):\n",
        "  for i in range(train_images.shape[0]):\n",
        "      if i % 1000 == 0:\n",
        "        print(\"Step: \", i)\n",
        "      train_cur_image_PIL = transforms.ToPILImage()(train_images[i].transpose((1, 2, 0)))\n",
        "      train_cur_image_tformed = train_transform(train_cur_image_PIL).reshape(1,3,32,32)\n",
        "      \n",
        "      if i % 1000 == 0:\n",
        "          train_images_tformed_batch = train_cur_image_tformed\n",
        "      else:\n",
        "          train_images_tformed_batch = torch.cat((train_images_tformed_batch , train_cur_image_tformed),0)\n",
        "      if i == 999:\n",
        "          train_images_tformed = train_images_tformed_batch\n",
        "      elif i % 1000 == 999:\n",
        "          train_images_tformed = torch.cat((train_images_tformed , train_images_tformed_batch),0)\n",
        "      #print(train_images_tformed.shape)\n",
        "  #print(train_images_tformed)\n",
        "  plt.imshow(transforms.ToPILImage()((train_images_tformed[0].data.numpy() * 255).astype(np.uint8).transpose((1, 2, 0))))\n",
        "  train_images = np.concatenate((train_images, (train_images_tformed.data.numpy() * 255).astype(np.uint8)), axis = 0)\n",
        "  train_labels = np.concatenate((train_labels, train_labels),axis = 0)\n",
        "  return train_images, train_labels"
      ],
      "execution_count": 0,
      "outputs": []
    },
    {
      "cell_type": "code",
      "metadata": {
        "id": "OGqfkN4AmtUA",
        "colab_type": "code",
        "outputId": "235945d4-cea8-48c8-b19f-02be2c0121e2",
        "colab": {
          "base_uri": "https://localhost:8080/",
          "height": 1000
        }
      },
      "source": [
        "train_images, train_labels = data_augmentation(train_images, train_labels)"
      ],
      "execution_count": 0,
      "outputs": [
        {
          "output_type": "stream",
          "text": [
            "Step:  0\n",
            "Step:  1000\n",
            "Step:  2000\n",
            "Step:  3000\n",
            "Step:  4000\n",
            "Step:  5000\n",
            "Step:  6000\n",
            "Step:  7000\n",
            "Step:  8000\n",
            "Step:  9000\n",
            "Step:  10000\n",
            "Step:  11000\n",
            "Step:  12000\n",
            "Step:  13000\n",
            "Step:  14000\n",
            "Step:  15000\n",
            "Step:  16000\n",
            "Step:  17000\n",
            "Step:  18000\n",
            "Step:  19000\n",
            "Step:  20000\n",
            "Step:  21000\n",
            "Step:  22000\n",
            "Step:  23000\n",
            "Step:  24000\n",
            "Step:  25000\n",
            "Step:  26000\n",
            "Step:  27000\n",
            "Step:  28000\n",
            "Step:  29000\n",
            "Step:  30000\n",
            "Step:  31000\n",
            "Step:  32000\n",
            "Step:  33000\n",
            "Step:  34000\n",
            "Step:  35000\n",
            "Step:  36000\n",
            "Step:  37000\n",
            "Step:  38000\n",
            "Step:  39000\n",
            "Step:  40000\n",
            "Step:  41000\n",
            "Step:  42000\n",
            "Step:  43000\n",
            "Step:  44000\n"
          ],
          "name": "stdout"
        },
        {
          "output_type": "display_data",
          "data": {
            "image/png": "[encoded data removed]",
            "text/plain": [
              "<Figure size 432x288 with 1 Axes>"
            ]
          },
          "metadata": {
            "tags": []
          }
        }
      ]
    },
    {
      "cell_type": "code",
      "metadata": {
        "id": "lmeW0pDfnX2s",
        "colab_type": "code",
        "outputId": "1951be36-91ef-402b-8911-f6a083948449",
        "colab": {
          "base_uri": "https://localhost:8080/",
          "height": 34
        }
      },
      "source": [
        "print(train_labels.shape)"
      ],
      "execution_count": 0,
      "outputs": [
        {
          "output_type": "stream",
          "text": [
            "(90000,)\n"
          ],
          "name": "stdout"
        }
      ]
    },
    {
      "cell_type": "code",
      "metadata": {
        "id": "PrkU-TqCFfXw",
        "colab_type": "code",
        "outputId": "edc4cfa7-511d-44b5-8fae-fb87e101166c",
        "colab": {
          "base_uri": "https://localhost:8080/",
          "height": 34
        }
      },
      "source": [
        "print(train_images.shape)"
      ],
      "execution_count": 0,
      "outputs": [
        {
          "output_type": "stream",
          "text": [
            "(90000, 3, 32, 32)\n"
          ],
          "name": "stdout"
        }
      ]
    },
    {
      "cell_type": "code",
      "metadata": {
        "id": "WQl-HOx9IM9B",
        "colab_type": "code",
        "colab": {}
      },
      "source": [
        "train_images = (train_images).astype(np.float32)\n",
        "val_images = (val_images).astype(np.float32)\n",
        "tmp_test_images = test_images.astype(np.float32)"
      ],
      "execution_count": 0,
      "outputs": []
    },
    {
      "cell_type": "code",
      "metadata": {
        "id": "wHyAwM1o04ci",
        "colab_type": "code",
        "colab": {}
      },
      "source": [
        "def normalize_stats_image_by_image(images):\n",
        "  mean = images.mean(axis=(2,3), keepdims=True)\n",
        "  stdev = images.std(axis=(2,3), keepdims=True)\n",
        "  return (images - mean) / stdev"
      ],
      "execution_count": 0,
      "outputs": []
    },
    {
      "cell_type": "code",
      "metadata": {
        "id": "2pk3C-xR056R",
        "colab_type": "code",
        "colab": {}
      },
      "source": [
        "train_images = normalize_stats_image_by_image(train_images)\n",
        "val_images = normalize_stats_image_by_image(val_images)\n",
        "test_images = normalize_stats_image_by_image(tmp_test_images)"
      ],
      "execution_count": 0,
      "outputs": []
    },
    {
      "cell_type": "code",
      "metadata": {
        "id": "d_dLp-IsymY7",
        "colab_type": "code",
        "colab": {}
      },
      "source": [
        "def batch(batch_size, training=True, batch_begin = 0):\n",
        "  \"\"\"Create a batch of examples.\n",
        "  \n",
        "  This creates a batch of input images and a batch of corresponding\n",
        "  ground-truth labels. We assume CUDA is available (with a GPU).\n",
        "  \n",
        "  Args:\n",
        "    batch_size: An integer.\n",
        "    training: A boolean. If True, grab examples from the training\n",
        "      set; otherwise, grab them from the validation set.\n",
        "  \n",
        "  Returns:\n",
        "    A tuple,\n",
        "    input_batch: A Variable of floats with shape\n",
        "      [batch_size, 1, height, width]\n",
        "    label_batch: A Variable of ints with shape\n",
        "      [batch_size].\n",
        "  \"\"\"\n",
        "  if training:\n",
        "    random_ind = np.random.choice(train_images.shape[0], size=batch_size, replace=False)\n",
        "    input_batch = train_images[random_ind]\n",
        "    label_batch = train_labels[random_ind]\n",
        "  else:\n",
        "    input_batch = val_images[batch_begin:batch_begin + batch_size]\n",
        "    label_batch = val_labels[batch_begin:batch_begin + batch_size]\n",
        "  \n",
        "  #input_batch = input_batch[:, np.newaxis, :, :]\n",
        "  \n",
        "  input_batch = torch.tensor(input_batch, requires_grad=False, device='cuda')\n",
        "  label_batch = torch.tensor(label_batch, requires_grad=False, device='cuda')\n",
        "  \n",
        "  return input_batch, label_batch"
      ],
      "execution_count": 0,
      "outputs": []
    },
    {
      "cell_type": "code",
      "metadata": {
        "id": "1qTRlJLmyeqq",
        "colab_type": "code",
        "colab": {}
      },
      "source": [
        "def train_step(batch_size=128):\n",
        "  \n",
        "  model.train()\n",
        "\n",
        "  input_batch, label_batch = batch(batch_size, training=True)\n",
        "  output_batch = model(input_batch)\n",
        "  #print(input_batch.shape)\n",
        "  #print(output_batch.shape)\n",
        "  #print(label_batch.shape)\n",
        "  \n",
        "  loss = F.cross_entropy(output_batch, label_batch)\n",
        "  _, pred_batch = torch.max(output_batch, dim=1)\n",
        "  error_rate = 1.0 - (pred_batch == label_batch).float().mean()\n",
        "\n",
        "  optimizer.zero_grad()\n",
        "  loss.backward()\n",
        "  \n",
        "  optimizer.step()\n",
        "  \n",
        "  return loss.item(), error_rate.item()"
      ],
      "execution_count": 0,
      "outputs": []
    },
    {
      "cell_type": "code",
      "metadata": {
        "id": "pIVaOwNODrJy",
        "colab_type": "code",
        "colab": {}
      },
      "source": [
        "def val():\n",
        "  \n",
        "  model.eval()\n",
        "  val_batch_size = 50;\n",
        "  batch_begin = 0;\n",
        "  sum_loss = 0\n",
        "  while batch_begin < val_images.shape[0]: \n",
        "    input_batch, label_batch = batch(val_batch_size, training=False, batch_begin=batch_begin)\n",
        "    output_batch = model(input_batch).detach()\n",
        "    sum_loss += F.cross_entropy(output_batch, label_batch).detach() * val_batch_size\n",
        "    _, pred_batch = torch.max(output_batch, dim=1)\n",
        "    if batch_begin == 0:\n",
        "      label = label_batch\n",
        "      output = output_batch\n",
        "      pred = pred_batch\n",
        "    else:\n",
        "      label = torch.cat((label, label_batch), 0)\n",
        "      output = torch.cat((output, output_batch), 0)\n",
        "      pred = torch.cat((pred, pred_batch), 0)\n",
        "    #print(labels.shape)\n",
        "    batch_begin += val_batch_size\n",
        "    torch.no_grad()\n",
        "    torch.cuda.empty_cache()\n",
        "\n",
        "\n",
        "  loss = sum_loss / val_images.shape[0]\n",
        "  error_rate = 1.0 - (pred == label).float().mean()\n",
        "  \n",
        "  return loss.item(), error_rate.item()"
      ],
      "execution_count": 0,
      "outputs": []
    },
    {
      "cell_type": "code",
      "metadata": {
        "id": "sqqr6OQFaI0C",
        "colab_type": "code",
        "colab": {}
      },
      "source": [
        "def test():\n",
        "  \n",
        "  model.eval()\n",
        "  input_batch = torch.tensor(test_images, requires_grad=False, device = 'cuda')\n",
        "  output_batch = model(input_batch)\n",
        "  _, pred_batch = torch.max(output_batch, dim=1)\n",
        "\n",
        "  return pred_batch"
      ],
      "execution_count": 0,
      "outputs": []
    },
    {
      "cell_type": "code",
      "metadata": {
        "id": "s3IAyE0GYS6t",
        "colab_type": "code",
        "outputId": "fb9e940e-229b-4a7b-ac06-02970caddbe2",
        "colab": {
          "base_uri": "https://localhost:8080/",
          "height": 306
        }
      },
      "source": [
        "!nvidia-smi"
      ],
      "execution_count": 0,
      "outputs": [
        {
          "output_type": "stream",
          "text": [
            "Fri Mar 27 21:30:26 2020       \n",
            "+-----------------------------------------------------------------------------+\n",
            "| NVIDIA-SMI 440.64.00    Driver Version: 418.67       CUDA Version: 10.1     |\n",
            "|-------------------------------+----------------------+----------------------+\n",
            "| GPU  Name        Persistence-M| Bus-Id        Disp.A | Volatile Uncorr. ECC |\n",
            "| Fan  Temp  Perf  Pwr:Usage/Cap|         Memory-Usage | GPU-Util  Compute M. |\n",
            "|===============================+======================+======================|\n",
            "|   0  Tesla P100-PCIE...  Off  | 00000000:00:04.0 Off |                    0 |\n",
            "| N/A   34C    P0    26W / 250W |      0MiB / 16280MiB |      0%      Default |\n",
            "+-------------------------------+----------------------+----------------------+\n",
            "                                                                               \n",
            "+-----------------------------------------------------------------------------+\n",
            "| Processes:                                                       GPU Memory |\n",
            "|  GPU       PID   Type   Process name                             Usage      |\n",
            "|=============================================================================|\n",
            "|  No running processes found                                                 |\n",
            "+-----------------------------------------------------------------------------+\n"
          ],
          "name": "stdout"
        }
      ]
    },
    {
      "cell_type": "code",
      "metadata": {
        "id": "tQhcdXKDWDBA",
        "colab_type": "code",
        "colab": {}
      },
      "source": [
        "class SimpleCNN(torch.nn.Module):\n",
        "  \"\"\"A simple convolutional network.\n",
        "  \n",
        "  Map from inputs with shape [batch_size, 1, height, width] to\n",
        "  outputs with shape [batch_size, 1].\n",
        "  \"\"\"\n",
        "  \n",
        "  def __init__(self):\n",
        "    super().__init__()\n",
        "    self.conv1 = torch.nn.Conv2d(3, 32, kernel_size=7, padding=7//2)\n",
        "    self.bnm1 = torch.nn.BatchNorm2d(32, momentum=0.1)\n",
        "    self.conv2 = torch.nn.Conv2d(32, 32, kernel_size=3, stride=2, padding=3//2)\n",
        "    self.bnm2 = torch.nn.BatchNorm2d(32, momentum=0.1)\n",
        "    self.conv3 = torch.nn.Conv2d(32, 64, kernel_size=3, stride=1, padding=3//2)\n",
        "    self.bnm3 = torch.nn.BatchNorm2d(64, momentum=0.1)\n",
        "    self.conv4 = torch.nn.Conv2d(64, 128, kernel_size=3, stride=2, padding=3//2)\n",
        "    self.bnm4 = torch.nn.BatchNorm2d(128, momentum=0.1)\n",
        "    self.conv5 = torch.nn.Conv2d(128, 128, kernel_size=3, stride=1, padding=3//2)\n",
        "    self.downsample1 = torch.nn.Conv2d(3,32,kernel_size = 1, stride = 2, padding=1//2)\n",
        "    self.sample_bnm1 =  torch.nn.BatchNorm2d(32, momentum=0.1)\n",
        "    self.downsample2 = torch.nn.Conv2d(32,128,kernel_size = 1, stride = 2, padding=1//2)\n",
        "    self.sample_bnm2 =  torch.nn.BatchNorm2d(128, momentum=0.1)\n",
        "    #self.bnm5 = torch.nn.BatchNorm2d(128, momentum=0.1)\n",
        "    \n",
        "    # Here the input to conv_final should be a single pixel, as can be obtained\n",
        "    # by pooling spatially over all pixels. The goal of conv_final is to map\n",
        "    # from some number of channels to 10, one for each possible class.\n",
        "    self.conv_final = torch.nn.Conv2d(128, 100, kernel_size=1)\n",
        "    \n",
        "  def forward(self, x):\n",
        "    residual1 = x \n",
        "    x = F.relu(self.conv1(x))\n",
        "    x = self.bnm1(x)\n",
        "    x = F.relu(self.conv2(x))\n",
        "    x = self.bnm2(x)\n",
        "    x = x + self.sample_bnm1(self.downsample1(residual1))\n",
        "    residual2 = x\n",
        "    x = F.relu(self.conv3(x))\n",
        "    x = self.bnm3(x)\n",
        "    x = F.relu(self.conv4(x))\n",
        "    x = self.bnm4(x)\n",
        "    x = x + self.sample_bnm2(self.downsample2(residual2))\n",
        "    x = F.relu(self.conv5(x))\n",
        "    spatial_shape = x.shape[2:]\n",
        "    # Average each channel over spatial dimensions.\n",
        "    x = F.avg_pool2d(x, kernel_size=spatial_shape)\n",
        "    x = self.conv_final(x).view(-1, 100)\n",
        "    return x\n"
      ],
      "execution_count": 0,
      "outputs": []
    },
    {
      "cell_type": "code",
      "metadata": {
        "id": "x-Pt17i_WIX6",
        "colab_type": "code",
        "outputId": "c58d943d-7fbd-4f54-e7f6-dae92eedea4a",
        "colab": {
          "base_uri": "https://localhost:8080/",
          "height": 289
        }
      },
      "source": [
        "#import torchvision.models as models\n",
        "#model = models.resnet152(pretrained=True, progress = True)\n",
        "#model.fc = torch.nn.Linear(2048, 100)\n",
        "model = SimpleCNN()\n",
        "model.cuda()"
      ],
      "execution_count": 0,
      "outputs": [
        {
          "output_type": "execute_result",
          "data": {
            "text/plain": [
              "SimpleCNN(\n",
              "  (conv1): Conv2d(3, 32, kernel_size=(7, 7), stride=(1, 1), padding=(3, 3))\n",
              "  (bnm1): BatchNorm2d(32, eps=1e-05, momentum=0.1, affine=True, track_running_stats=True)\n",
              "  (conv2): Conv2d(32, 32, kernel_size=(3, 3), stride=(2, 2), padding=(1, 1))\n",
              "  (bnm2): BatchNorm2d(32, eps=1e-05, momentum=0.1, affine=True, track_running_stats=True)\n",
              "  (conv3): Conv2d(32, 64, kernel_size=(3, 3), stride=(1, 1), padding=(1, 1))\n",
              "  (bnm3): BatchNorm2d(64, eps=1e-05, momentum=0.1, affine=True, track_running_stats=True)\n",
              "  (conv4): Conv2d(64, 128, kernel_size=(3, 3), stride=(2, 2), padding=(1, 1))\n",
              "  (bnm4): BatchNorm2d(128, eps=1e-05, momentum=0.1, affine=True, track_running_stats=True)\n",
              "  (conv5): Conv2d(128, 128, kernel_size=(3, 3), stride=(1, 1), padding=(1, 1))\n",
              "  (downsample1): Conv2d(3, 32, kernel_size=(1, 1), stride=(2, 2))\n",
              "  (sample_bnm1): BatchNorm2d(32, eps=1e-05, momentum=0.1, affine=True, track_running_stats=True)\n",
              "  (downsample2): Conv2d(32, 128, kernel_size=(1, 1), stride=(2, 2))\n",
              "  (sample_bnm2): BatchNorm2d(128, eps=1e-05, momentum=0.1, affine=True, track_running_stats=True)\n",
              "  (conv_final): Conv2d(128, 100, kernel_size=(1, 1), stride=(1, 1))\n",
              ")"
            ]
          },
          "metadata": {
            "tags": []
          },
          "execution_count": 112
        }
      ]
    },
    {
      "cell_type": "code",
      "metadata": {
        "id": "-ReVTFNfWI7-",
        "colab_type": "code",
        "colab": {}
      },
      "source": [
        "optimizer = torch.optim.Adam(model.parameters(), lr=0.001, weight_decay=5e-4)"
      ],
      "execution_count": 0,
      "outputs": []
    },
    {
      "cell_type": "code",
      "metadata": {
        "id": "OYoCZ3nAWJSr",
        "colab_type": "code",
        "outputId": "a229707e-1498-4c63-8838-fbf2db88bc0e",
        "colab": {
          "base_uri": "https://localhost:8080/",
          "height": 945
        }
      },
      "source": [
        "# Let's make sure we always start from scratch (that is,\n",
        "# without starting from parameters from a previous run).\n",
        "#for module in model.children():\n",
        "#  module.reset_parameters()\n",
        "\n",
        "info = []\n",
        "fig, ax = plt.subplots(2, 1, sharex=True)\n",
        "num_steps = 20000\n",
        "num_steps_per_val = 500\n",
        "best_val_err = 1.0\n",
        "for step in range(num_steps):\n",
        "  train_loss, train_err = train_step()\n",
        "  if step % num_steps_per_val == 0:\n",
        "    val_loss, val_err = val()\n",
        "    print('Step {:5d}: Obtained a best validation error of {:.3f}. The validation loss is {:.3f}.'.format(step, best_val_err, val_loss))\n",
        "    if val_err < best_val_err:\n",
        "      best_val_err = val_err\n",
        "    info.append([step, train_loss, val_loss, train_err, val_err])\n",
        "    x, y11, y12, y21, y22 = zip(*info)\n",
        "    ax[0].plot(x, y11, x, y12)\n",
        "    ax[0].legend(['Train loss', 'Val loss'])\n",
        "    ax[1].plot(x, y21, x, y22)\n",
        "    ax[1].legend(['Train err', 'Val err'])\n",
        "    ax[1].set_ylim([0.0, 0.25])"
      ],
      "execution_count": 0,
      "outputs": [
        {
          "output_type": "stream",
          "text": [
            "Step     0: Obtained a best validation error of 1.000. The validation loss is 4.608.\n",
            "Step   500: Obtained a best validation error of 0.989. The validation loss is 3.194.\n",
            "Step  1000: Obtained a best validation error of 0.779. The validation loss is 2.813.\n",
            "Step  1500: Obtained a best validation error of 0.709. The validation loss is 2.652.\n",
            "Step  2000: Obtained a best validation error of 0.664. The validation loss is 2.486.\n",
            "Step  2500: Obtained a best validation error of 0.638. The validation loss is 2.370.\n",
            "Step  3000: Obtained a best validation error of 0.616. The validation loss is 2.275.\n",
            "Step  3500: Obtained a best validation error of 0.588. The validation loss is 2.227.\n",
            "Step  4000: Obtained a best validation error of 0.579. The validation loss is 2.239.\n",
            "Step  4500: Obtained a best validation error of 0.579. The validation loss is 2.187.\n",
            "Step  5000: Obtained a best validation error of 0.561. The validation loss is 2.153.\n",
            "Step  5500: Obtained a best validation error of 0.561. The validation loss is 2.115.\n",
            "Step  6000: Obtained a best validation error of 0.545. The validation loss is 2.102.\n",
            "Step  6500: Obtained a best validation error of 0.545. The validation loss is 2.048.\n",
            "Step  7000: Obtained a best validation error of 0.537. The validation loss is 2.084.\n",
            "Step  7500: Obtained a best validation error of 0.537. The validation loss is 2.051.\n",
            "Step  8000: Obtained a best validation error of 0.531. The validation loss is 2.023.\n",
            "Step  8500: Obtained a best validation error of 0.523. The validation loss is 2.009.\n",
            "Step  9000: Obtained a best validation error of 0.517. The validation loss is 2.030.\n",
            "Step  9500: Obtained a best validation error of 0.517. The validation loss is 2.057.\n",
            "Step 10000: Obtained a best validation error of 0.517. The validation loss is 2.027.\n",
            "Step 10500: Obtained a best validation error of 0.517. The validation loss is 1.998.\n",
            "Step 11000: Obtained a best validation error of 0.517. The validation loss is 2.084.\n",
            "Step 11500: Obtained a best validation error of 0.517. The validation loss is 2.032.\n",
            "Step 12000: Obtained a best validation error of 0.517. The validation loss is 2.063.\n",
            "Step 12500: Obtained a best validation error of 0.517. The validation loss is 2.029.\n",
            "Step 13000: Obtained a best validation error of 0.517. The validation loss is 2.100.\n",
            "Step 13500: Obtained a best validation error of 0.517. The validation loss is 2.050.\n",
            "Step 14000: Obtained a best validation error of 0.517. The validation loss is 2.105.\n",
            "Step 14500: Obtained a best validation error of 0.517. The validation loss is 2.097.\n",
            "Step 15000: Obtained a best validation error of 0.517. The validation loss is 2.006.\n",
            "Step 15500: Obtained a best validation error of 0.509. The validation loss is 2.041.\n",
            "Step 16000: Obtained a best validation error of 0.509. The validation loss is 2.058.\n",
            "Step 16500: Obtained a best validation error of 0.509. The validation loss is 2.113.\n",
            "Step 17000: Obtained a best validation error of 0.509. The validation loss is 2.009.\n",
            "Step 17500: Obtained a best validation error of 0.505. The validation loss is 2.063.\n",
            "Step 18000: Obtained a best validation error of 0.505. The validation loss is 2.071.\n",
            "Step 18500: Obtained a best validation error of 0.505. The validation loss is 2.054.\n",
            "Step 19000: Obtained a best validation error of 0.505. The validation loss is 2.037.\n",
            "Step 19500: Obtained a best validation error of 0.505. The validation loss is 2.115.\n"
          ],
          "name": "stdout"
        },
        {
          "output_type": "display_data",
          "data": {
            "image/png": "[encoded data removed]",
            "text/plain": [
              "<Figure size 432x288 with 2 Axes>"
            ]
          },
          "metadata": {
            "tags": []
          }
        }
      ]
    },
    {
      "cell_type": "code",
      "metadata": {
        "id": "v33GgCXkEjZR",
        "colab_type": "code",
        "colab": {}
      },
      "source": [
        "model_path = \"/content/drive/My Drive/result_script9.pth\"\n",
        "torch.save(model, model_path) "
      ],
      "execution_count": 0,
      "outputs": []
    },
    {
      "cell_type": "code",
      "metadata": {
        "id": "PFNI0HYiwBoU",
        "colab_type": "code",
        "colab": {}
      },
      "source": [
        "path = \"/content/drive/My Drive/result_script9.txt\"\n",
        "prediction = test()\n",
        "from typing import List\n",
        "def write_prediction(prediction: List[int], filename: str):\n",
        "    with open(filename, 'w') as fp:\n",
        "        print('Id,Category', file=fp)\n",
        "        for i, pred in enumerate(prediction):\n",
        "            print(f'{i},{pred}', file=fp)\n",
        "write_prediction(prediction, path)"
      ],
      "execution_count": 0,
      "outputs": []
    }
  ]
}