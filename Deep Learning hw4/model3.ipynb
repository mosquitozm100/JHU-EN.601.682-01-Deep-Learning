{
  "nbformat": 4,
  "nbformat_minor": 0,
  "metadata": {
    "colab": {
      "name": "Mou's Homework 4 script 5 - ResNet18 - Transfer Learning.ipynb",
      "provenance": [],
      "collapsed_sections": [],
      "toc_visible": true,
      "machine_shape": "hm"
    },
    "kernelspec": {
      "name": "python3",
      "display_name": "Python 3"
    },
    "accelerator": "GPU"
  },
  "cells": [
    {
      "cell_type": "code",
      "metadata": {
        "id": "z9WFsa-UylP0",
        "colab_type": "code",
        "colab": {}
      },
      "source": [
        ""
      ],
      "execution_count": 0,
      "outputs": []
    },
    {
      "cell_type": "code",
      "metadata": {
        "id": "Hiur61_IC2VA",
        "colab_type": "code",
        "outputId": "f1f2f692-35a1-462c-cae6-1b34b94a9a0d",
        "colab": {
          "base_uri": "https://localhost:8080/",
          "height": 445
        }
      },
      "source": [
        "!wget https://www.dropbox.com/s/h1n73cw33no99mz/data.pth"
      ],
      "execution_count": 0,
      "outputs": [
        {
          "output_type": "stream",
          "text": [
            "--2020-03-27 20:46:01--  https://www.dropbox.com/s/h1n73cw33no99mz/data.pth\n",
            "Resolving www.dropbox.com (www.dropbox.com)... 162.125.1.1, 2620:100:601b:1::a27d:801\n",
            "Connecting to www.dropbox.com (www.dropbox.com)|162.125.1.1|:443... connected.\n",
            "HTTP request sent, awaiting response... 301 Moved Permanently\n",
            "Location: /s/raw/h1n73cw33no99mz/data.pth [following]\n",
            "--2020-03-27 20:46:06--  https://www.dropbox.com/s/raw/h1n73cw33no99mz/data.pth\n",
            "Reusing existing connection to www.dropbox.com:443.\n",
            "HTTP request sent, awaiting response... 302 Found\n",
            "Location: https://uc44e92ccce4923c119f4cbc4616.dl.dropboxusercontent.com/cd/0/inline/A0vgRZP-IeW5gLBUQcVJWLEMvlQo2RXTmi7KGRpHeiz4H3XAfzSgjN3cLchZQwQYM1P18z2qfJrlsg5kam-JNKBixj8YCKjKz9sVqkul81G0XXdYU0lBzm1k9j5oKXj1D28/file# [following]\n",
            "--2020-03-27 20:46:06--  https://uc44e92ccce4923c119f4cbc4616.dl.dropboxusercontent.com/cd/0/inline/A0vgRZP-IeW5gLBUQcVJWLEMvlQo2RXTmi7KGRpHeiz4H3XAfzSgjN3cLchZQwQYM1P18z2qfJrlsg5kam-JNKBixj8YCKjKz9sVqkul81G0XXdYU0lBzm1k9j5oKXj1D28/file\n",
            "Resolving uc44e92ccce4923c119f4cbc4616.dl.dropboxusercontent.com (uc44e92ccce4923c119f4cbc4616.dl.dropboxusercontent.com)... 162.125.1.6, 2620:100:6016:6::a27d:106\n",
            "Connecting to uc44e92ccce4923c119f4cbc4616.dl.dropboxusercontent.com (uc44e92ccce4923c119f4cbc4616.dl.dropboxusercontent.com)|162.125.1.6|:443... connected.\n",
            "HTTP request sent, awaiting response... 302 FOUND\n",
            "Location: /cd/0/inline2/A0tjtKpKkhx5N9tl0HasuS5FawciFt8Y_XyQW8lH0ANH60JrPQ_NIqh-SlfaINXWxcp8HK_sTyLi9oaxFcB-RgApMLBC6cg7gqC2SureY0Q7hRfuey-aO39HEpV75ZMPifpd9sgXXz3VXDl1QnpmXpVBSvm4yCGx4_LvqDQ0MQeIfzZrcDqvMWhZb3w6c5saWog5U6J4aJqn_gpF3A5u1SsAulb5T4NbI1wVIIzuZsNpeAeg4N21D1cUPhYa0yxlm3HEm0Z4JCbTnV_hskjPx4V_jufmua1iCXvM905QyIEiIMteN9TlGAp64pFuSWazuW78XnKY1JWL3nnGfI7uJniCxvfidNomgmTCuRyqzzrVJg/file [following]\n",
            "--2020-03-27 20:46:08--  https://uc44e92ccce4923c119f4cbc4616.dl.dropboxusercontent.com/cd/0/inline2/A0tjtKpKkhx5N9tl0HasuS5FawciFt8Y_XyQW8lH0ANH60JrPQ_NIqh-SlfaINXWxcp8HK_sTyLi9oaxFcB-RgApMLBC6cg7gqC2SureY0Q7hRfuey-aO39HEpV75ZMPifpd9sgXXz3VXDl1QnpmXpVBSvm4yCGx4_LvqDQ0MQeIfzZrcDqvMWhZb3w6c5saWog5U6J4aJqn_gpF3A5u1SsAulb5T4NbI1wVIIzuZsNpeAeg4N21D1cUPhYa0yxlm3HEm0Z4JCbTnV_hskjPx4V_jufmua1iCXvM905QyIEiIMteN9TlGAp64pFuSWazuW78XnKY1JWL3nnGfI7uJniCxvfidNomgmTCuRyqzzrVJg/file\n",
            "Reusing existing connection to uc44e92ccce4923c119f4cbc4616.dl.dropboxusercontent.com:443.\n",
            "HTTP request sent, awaiting response... 200 OK\n",
            "Length: 266735560 (254M) [application/octet-stream]\n",
            "Saving to: ‘data.pth’\n",
            "\n",
            "data.pth            100%[===================>] 254.38M  12.8MB/s    in 17s     \n",
            "\n",
            "2020-03-27 20:46:26 (14.8 MB/s) - ‘data.pth’ saved [266735560/266735560]\n",
            "\n"
          ],
          "name": "stdout"
        }
      ]
    },
    {
      "cell_type": "code",
      "metadata": {
        "id": "T025rySCzfRg",
        "colab_type": "code",
        "colab": {}
      },
      "source": [
        "%matplotlib inline\n",
        "import matplotlib.pyplot as plt\n",
        "import numpy as np\n",
        "import skimage.data\n",
        "import skimage.color\n",
        "import scipy.misc\n",
        "import scipy.signal\n",
        "import time\n",
        "\n",
        "import torch\n",
        "from torch.autograd import Variable\n",
        "import torch.nn.functional as F\n",
        "\n",
        "from matplotlib import rcParams\n",
        "rcParams['axes.grid'] = False\n",
        "\n",
        "import warnings\n",
        "warnings.filterwarnings(\"ignore\")"
      ],
      "execution_count": 0,
      "outputs": []
    },
    {
      "cell_type": "code",
      "metadata": {
        "id": "891uN52ZnNZu",
        "colab_type": "code",
        "outputId": "3466f764-2d2b-4afc-dbe0-393c5ae79ca1",
        "colab": {
          "base_uri": "https://localhost:8080/",
          "height": 122
        }
      },
      "source": [
        "from google.colab import drive\n",
        "drive.mount('/content/drive')"
      ],
      "execution_count": 0,
      "outputs": [
        {
          "output_type": "stream",
          "text": [
            "Go to this URL in a browser: https://accounts.google.com/o/oauth2/auth?client_id=947318989803-6bn6qk8qdgf4n4g3pfee6491hc0brc4i.apps.googleusercontent.com&redirect_uri=urn%3aietf%3awg%3aoauth%3a2.0%3aoob&response_type=code&scope=email%20https%3a%2f%2fwww.googleapis.com%2fauth%2fdocs.test%20https%3a%2f%2fwww.googleapis.com%2fauth%2fdrive%20https%3a%2f%2fwww.googleapis.com%2fauth%2fdrive.photos.readonly%20https%3a%2f%2fwww.googleapis.com%2fauth%2fpeopleapi.readonly\n",
            "\n",
            "Enter your authorization code:\n",
            "··········\n",
            "Mounted at /content/drive\n"
          ],
          "name": "stdout"
        }
      ]
    },
    {
      "cell_type": "code",
      "metadata": {
        "id": "GSZ8hL8wC1u8",
        "colab_type": "code",
        "outputId": "fbee6402-c41d-4076-b8e4-cdc1e03caae6",
        "colab": {
          "base_uri": "https://localhost:8080/",
          "height": 68
        }
      },
      "source": [
        "train_x, train_y, dev_x, dev_y, test_x = torch.load('data.pth')\n",
        "\n",
        "print('Training size:', train_x.shape, train_y.shape)\n",
        "print('Development size:', dev_x.shape, dev_y.shape)\n",
        "print('Test size:', test_x.shape)"
      ],
      "execution_count": 0,
      "outputs": [
        {
          "output_type": "stream",
          "text": [
            "Training size: (45000, 3, 32, 32) (45000,)\n",
            "Development size: (5000, 3, 32, 32) (5000,)\n",
            "Test size: (10000, 3, 32, 32)\n"
          ],
          "name": "stdout"
        }
      ]
    },
    {
      "cell_type": "code",
      "metadata": {
        "id": "nhPBgoqWC_I7",
        "colab_type": "code",
        "outputId": "29152b94-e57d-4699-b3f5-5ec383cec82f",
        "colab": {
          "base_uri": "https://localhost:8080/",
          "height": 515
        }
      },
      "source": [
        "# show all three channels\n",
        "plt.imshow(train_x[0].transpose((1, 2, 0)))\n",
        "plt.show()\n",
        "\n",
        "# show the first channel\n",
        "plt.imshow(train_x[0, 0])\n",
        "plt.show()"
      ],
      "execution_count": 0,
      "outputs": [
        {
          "output_type": "display_data",
          "data": {
            "image/png": "[encoded data removed]",
            "text/plain": [
              "<Figure size 432x288 with 1 Axes>"
            ]
          },
          "metadata": {
            "tags": []
          }
        },
        {
          "output_type": "display_data",
          "data": {
            "image/png": "[encoded data removed]",
            "text/plain": [
              "<Figure size 432x288 with 1 Axes>"
            ]
          },
          "metadata": {
            "tags": []
          }
        }
      ]
    },
    {
      "cell_type": "code",
      "metadata": {
        "id": "fXXpQjWgzf15",
        "colab_type": "code",
        "colab": {}
      },
      "source": [
        "import torchvision\n",
        "\n",
        "NUM_CLASSES = 100\n",
        "CHANNELS = 3\n",
        "HEIGHT = 32\n",
        "WIDTH = 32"
      ],
      "execution_count": 0,
      "outputs": []
    },
    {
      "cell_type": "code",
      "metadata": {
        "id": "lkcCcuoGD-1-",
        "colab_type": "code",
        "colab": {}
      },
      "source": [
        "train_images, train_labels, val_images, val_labels, test_images = train_x, train_y, dev_x, dev_y, test_x"
      ],
      "execution_count": 0,
      "outputs": []
    },
    {
      "cell_type": "code",
      "metadata": {
        "id": "Y_xCZF-202oY",
        "colab_type": "code",
        "outputId": "00f34a51-08b2-4911-c4a5-ff3b7cf87994",
        "colab": {
          "base_uri": "https://localhost:8080/",
          "height": 51
        }
      },
      "source": [
        "print(train_images.shape, train_labels.shape)\n",
        "print(val_images.shape, val_labels.shape)"
      ],
      "execution_count": 0,
      "outputs": [
        {
          "output_type": "stream",
          "text": [
            "(45000, 3, 32, 32) (45000,)\n",
            "(5000, 3, 32, 32) (5000,)\n"
          ],
          "name": "stdout"
        }
      ]
    },
    {
      "cell_type": "code",
      "metadata": {
        "id": "gq0gf0JsXmaJ",
        "colab_type": "code",
        "colab": {}
      },
      "source": [
        "import torchvision.transforms as transforms\n",
        "train_transform = transforms.Compose([\n",
        "    transforms.Resize((32, 32)),\n",
        "    transforms.RandomCrop(32, padding=4),\n",
        "    transforms.RandomHorizontalFlip(p=1),\n",
        "    transforms.ToTensor()\n",
        "])"
      ],
      "execution_count": 0,
      "outputs": []
    },
    {
      "cell_type": "code",
      "metadata": {
        "id": "nTTsnqmXhwRu",
        "colab_type": "code",
        "outputId": "d25c84b4-71eb-4c08-e656-45817caabf8f",
        "colab": {
          "base_uri": "https://localhost:8080/",
          "height": 1000
        }
      },
      "source": [
        "for i in range(train_images.shape[0]):\n",
        "    if i % 1000 == 0:\n",
        "      print(\"Step: \", i)\n",
        "    train_cur_image_PIL = transforms.ToPILImage()(train_images[i].transpose((1, 2, 0)))\n",
        "    train_cur_image_tformed = train_transform(train_cur_image_PIL).reshape(1,3,32,32)\n",
        "    \n",
        "    if i % 1000 == 0:\n",
        "        train_images_tformed_batch = train_cur_image_tformed\n",
        "    else:\n",
        "        train_images_tformed_batch = torch.cat((train_images_tformed_batch , train_cur_image_tformed),0)\n",
        "    if i == 999:\n",
        "        train_images_tformed = train_images_tformed_batch\n",
        "    elif i % 1000 == 999:\n",
        "        train_images_tformed = torch.cat((train_images_tformed , train_images_tformed_batch),0)\n",
        "    #print(train_images_tformed.shape)\n",
        "#print(train_images_tformed)\n",
        "plt.imshow(transforms.ToPILImage()((train_images_tformed[0].data.numpy() * 255).astype(np.uint8).transpose((1, 2, 0))))\n",
        "train_images = np.concatenate((train_images, (train_images_tformed.data.numpy() * 255).astype(np.uint8)), axis = 0)"
      ],
      "execution_count": 0,
      "outputs": [
        {
          "output_type": "stream",
          "text": [
            "Step:  0\n",
            "Step:  1000\n",
            "Step:  2000\n",
            "Step:  3000\n",
            "Step:  4000\n",
            "Step:  5000\n",
            "Step:  6000\n",
            "Step:  7000\n",
            "Step:  8000\n",
            "Step:  9000\n",
            "Step:  10000\n",
            "Step:  11000\n",
            "Step:  12000\n",
            "Step:  13000\n",
            "Step:  14000\n",
            "Step:  15000\n",
            "Step:  16000\n",
            "Step:  17000\n",
            "Step:  18000\n",
            "Step:  19000\n",
            "Step:  20000\n",
            "Step:  21000\n",
            "Step:  22000\n",
            "Step:  23000\n",
            "Step:  24000\n",
            "Step:  25000\n",
            "Step:  26000\n",
            "Step:  27000\n",
            "Step:  28000\n",
            "Step:  29000\n",
            "Step:  30000\n",
            "Step:  31000\n",
            "Step:  32000\n",
            "Step:  33000\n",
            "Step:  34000\n",
            "Step:  35000\n",
            "Step:  36000\n",
            "Step:  37000\n",
            "Step:  38000\n",
            "Step:  39000\n",
            "Step:  40000\n",
            "Step:  41000\n",
            "Step:  42000\n",
            "Step:  43000\n",
            "Step:  44000\n"
          ],
          "name": "stdout"
        },
        {
          "output_type": "display_data",
          "data": {
            "image/png": "[encoded data removed]",
            "text/plain": [
              "<Figure size 432x288 with 1 Axes>"
            ]
          },
          "metadata": {
            "tags": []
          }
        }
      ]
    },
    {
      "cell_type": "code",
      "metadata": {
        "id": "OGqfkN4AmtUA",
        "colab_type": "code",
        "colab": {}
      },
      "source": [
        "train_labels = np.concatenate((train_labels, train_labels),axis = 0)"
      ],
      "execution_count": 0,
      "outputs": []
    },
    {
      "cell_type": "code",
      "metadata": {
        "id": "WQl-HOx9IM9B",
        "colab_type": "code",
        "colab": {}
      },
      "source": [
        "train_images = (train_images).astype(np.float32)\n",
        "val_images = (val_images).astype(np.float32)\n",
        "tmp_test_images = test_images.astype(np.float32)"
      ],
      "execution_count": 0,
      "outputs": []
    },
    {
      "cell_type": "code",
      "metadata": {
        "id": "wHyAwM1o04ci",
        "colab_type": "code",
        "colab": {}
      },
      "source": [
        "def normalize_stats_image_by_image(images):\n",
        "  mean = images.mean(axis=(2,3), keepdims=True)\n",
        "  stdev = images.std(axis=(2,3), keepdims=True)\n",
        "  return (images - mean) / stdev"
      ],
      "execution_count": 0,
      "outputs": []
    },
    {
      "cell_type": "code",
      "metadata": {
        "id": "2pk3C-xR056R",
        "colab_type": "code",
        "colab": {}
      },
      "source": [
        "train_images = normalize_stats_image_by_image(train_images)\n",
        "val_images = normalize_stats_image_by_image(val_images)\n",
        "test_images = normalize_stats_image_by_image(tmp_test_images)"
      ],
      "execution_count": 0,
      "outputs": []
    },
    {
      "cell_type": "code",
      "metadata": {
        "id": "d_dLp-IsymY7",
        "colab_type": "code",
        "colab": {}
      },
      "source": [
        "def batch(batch_size, training=True, batch_begin = 0):\n",
        "  \"\"\"Create a batch of examples.\n",
        "  \n",
        "  This creates a batch of input images and a batch of corresponding\n",
        "  ground-truth labels. We assume CUDA is available (with a GPU).\n",
        "  \n",
        "  Args:\n",
        "    batch_size: An integer.\n",
        "    training: A boolean. If True, grab examples from the training\n",
        "      set; otherwise, grab them from the validation set.\n",
        "  \n",
        "  Returns:\n",
        "    A tuple,\n",
        "    input_batch: A Variable of floats with shape\n",
        "      [batch_size, 1, height, width]\n",
        "    label_batch: A Variable of ints with shape\n",
        "      [batch_size].\n",
        "  \"\"\"\n",
        "  if training:\n",
        "    random_ind = np.random.choice(train_images.shape[0], size=batch_size, replace=False)\n",
        "    input_batch = train_images[random_ind]\n",
        "    label_batch = train_labels[random_ind]\n",
        "  else:\n",
        "    input_batch = val_images[batch_begin:batch_begin + batch_size]\n",
        "    label_batch = val_labels[batch_begin:batch_begin + batch_size]\n",
        "  \n",
        "  #input_batch = input_batch[:, np.newaxis, :, :]\n",
        "  \n",
        "  input_batch = torch.tensor(input_batch, requires_grad=False, device='cuda')\n",
        "  label_batch = torch.tensor(label_batch, requires_grad=False, device='cuda')\n",
        "  \n",
        "  return input_batch, label_batch"
      ],
      "execution_count": 0,
      "outputs": []
    },
    {
      "cell_type": "code",
      "metadata": {
        "id": "1qTRlJLmyeqq",
        "colab_type": "code",
        "colab": {}
      },
      "source": [
        "def train_step(batch_size=128):\n",
        "  \n",
        "  model.train()\n",
        "\n",
        "  input_batch, label_batch = batch(batch_size, training=True)\n",
        "  output_batch = model(input_batch)\n",
        "  #print(input_batch.shape)\n",
        "  #print(output_batch.shape)\n",
        "  #print(label_batch.shape)\n",
        "  \n",
        "  loss = F.cross_entropy(output_batch, label_batch)\n",
        "  _, pred_batch = torch.max(output_batch, dim=1)\n",
        "  error_rate = 1.0 - (pred_batch == label_batch).float().mean()\n",
        "\n",
        "  optimizer.zero_grad()\n",
        "  loss.backward()\n",
        "  \n",
        "  optimizer.step()\n",
        "  \n",
        "  return loss.item(), error_rate.item()"
      ],
      "execution_count": 0,
      "outputs": []
    },
    {
      "cell_type": "code",
      "metadata": {
        "id": "pIVaOwNODrJy",
        "colab_type": "code",
        "colab": {}
      },
      "source": [
        "def val():\n",
        "  \n",
        "  model.eval()\n",
        "  val_batch_size = 50;\n",
        "  batch_begin = 0;\n",
        "  sum_loss = 0\n",
        "  while batch_begin < val_images.shape[0]: \n",
        "    input_batch, label_batch = batch(val_batch_size, training=False, batch_begin=batch_begin)\n",
        "    output_batch = model(input_batch).detach()\n",
        "    sum_loss += F.cross_entropy(output_batch, label_batch).detach() * val_batch_size\n",
        "    _, pred_batch = torch.max(output_batch, dim=1)\n",
        "    if batch_begin == 0:\n",
        "      label = label_batch\n",
        "      output = output_batch\n",
        "      pred = pred_batch\n",
        "    else:\n",
        "      label = torch.cat((label, label_batch), 0)\n",
        "      output = torch.cat((output, output_batch), 0)\n",
        "      pred = torch.cat((pred, pred_batch), 0)\n",
        "    #print(labels.shape)\n",
        "    batch_begin += val_batch_size\n",
        "    torch.no_grad()\n",
        "    torch.cuda.empty_cache()\n",
        "\n",
        "\n",
        "  loss = sum_loss / val_images.shape[0]\n",
        "  error_rate = 1.0 - (pred == label).float().mean()\n",
        "  \n",
        "  return loss.item(), error_rate.item()"
      ],
      "execution_count": 0,
      "outputs": []
    },
    {
      "cell_type": "code",
      "metadata": {
        "id": "sqqr6OQFaI0C",
        "colab_type": "code",
        "colab": {}
      },
      "source": [
        "def test():\n",
        "  \n",
        "  model.eval()\n",
        "  input_batch = torch.tensor(test_images, requires_grad=False, device = 'cuda')\n",
        "  output_batch = model(input_batch)\n",
        "  _, pred_batch = torch.max(output_batch, dim=1)\n",
        "\n",
        "  return pred_batch"
      ],
      "execution_count": 0,
      "outputs": []
    },
    {
      "cell_type": "code",
      "metadata": {
        "id": "s3IAyE0GYS6t",
        "colab_type": "code",
        "outputId": "e8fd60c4-0e6f-447e-8ec2-010cab9d4e4f",
        "colab": {
          "base_uri": "https://localhost:8080/",
          "height": 306
        }
      },
      "source": [
        "!nvidia-smi"
      ],
      "execution_count": 0,
      "outputs": [
        {
          "output_type": "stream",
          "text": [
            "Fri Mar 27 21:02:48 2020       \n",
            "+-----------------------------------------------------------------------------+\n",
            "| NVIDIA-SMI 440.64.00    Driver Version: 418.67       CUDA Version: 10.1     |\n",
            "|-------------------------------+----------------------+----------------------+\n",
            "| GPU  Name        Persistence-M| Bus-Id        Disp.A | Volatile Uncorr. ECC |\n",
            "| Fan  Temp  Perf  Pwr:Usage/Cap|         Memory-Usage | GPU-Util  Compute M. |\n",
            "|===============================+======================+======================|\n",
            "|   0  Tesla P100-PCIE...  Off  | 00000000:00:04.0 Off |                    0 |\n",
            "| N/A   43C    P0    28W / 250W |      0MiB / 16280MiB |      0%      Default |\n",
            "+-------------------------------+----------------------+----------------------+\n",
            "                                                                               \n",
            "+-----------------------------------------------------------------------------+\n",
            "| Processes:                                                       GPU Memory |\n",
            "|  GPU       PID   Type   Process name                             Usage      |\n",
            "|=============================================================================|\n",
            "|  No running processes found                                                 |\n",
            "+-----------------------------------------------------------------------------+\n"
          ],
          "name": "stdout"
        }
      ]
    },
    {
      "cell_type": "code",
      "metadata": {
        "id": "x-Pt17i_WIX6",
        "colab_type": "code",
        "outputId": "3a1d049a-9e9d-4174-f34c-62c31ea66198",
        "colab": {
          "base_uri": "https://localhost:8080/",
          "height": 1000
        }
      },
      "source": [
        "import torchvision.models as models\n",
        "model = models.resnet18(pretrained=True, progress = True)\n",
        "model.fc = torch.nn.Linear(512, 100)\n",
        "model.cuda()"
      ],
      "execution_count": 0,
      "outputs": [
        {
          "output_type": "execute_result",
          "data": {
            "text/plain": [
              "ResNet(\n",
              "  (conv1): Conv2d(3, 64, kernel_size=(7, 7), stride=(2, 2), padding=(3, 3), bias=False)\n",
              "  (bn1): BatchNorm2d(64, eps=1e-05, momentum=0.1, affine=True, track_running_stats=True)\n",
              "  (relu): ReLU(inplace=True)\n",
              "  (maxpool): MaxPool2d(kernel_size=3, stride=2, padding=1, dilation=1, ceil_mode=False)\n",
              "  (layer1): Sequential(\n",
              "    (0): BasicBlock(\n",
              "      (conv1): Conv2d(64, 64, kernel_size=(3, 3), stride=(1, 1), padding=(1, 1), bias=False)\n",
              "      (bn1): BatchNorm2d(64, eps=1e-05, momentum=0.1, affine=True, track_running_stats=True)\n",
              "      (relu): ReLU(inplace=True)\n",
              "      (conv2): Conv2d(64, 64, kernel_size=(3, 3), stride=(1, 1), padding=(1, 1), bias=False)\n",
              "      (bn2): BatchNorm2d(64, eps=1e-05, momentum=0.1, affine=True, track_running_stats=True)\n",
              "    )\n",
              "    (1): BasicBlock(\n",
              "      (conv1): Conv2d(64, 64, kernel_size=(3, 3), stride=(1, 1), padding=(1, 1), bias=False)\n",
              "      (bn1): BatchNorm2d(64, eps=1e-05, momentum=0.1, affine=True, track_running_stats=True)\n",
              "      (relu): ReLU(inplace=True)\n",
              "      (conv2): Conv2d(64, 64, kernel_size=(3, 3), stride=(1, 1), padding=(1, 1), bias=False)\n",
              "      (bn2): BatchNorm2d(64, eps=1e-05, momentum=0.1, affine=True, track_running_stats=True)\n",
              "    )\n",
              "  )\n",
              "  (layer2): Sequential(\n",
              "    (0): BasicBlock(\n",
              "      (conv1): Conv2d(64, 128, kernel_size=(3, 3), stride=(2, 2), padding=(1, 1), bias=False)\n",
              "      (bn1): BatchNorm2d(128, eps=1e-05, momentum=0.1, affine=True, track_running_stats=True)\n",
              "      (relu): ReLU(inplace=True)\n",
              "      (conv2): Conv2d(128, 128, kernel_size=(3, 3), stride=(1, 1), padding=(1, 1), bias=False)\n",
              "      (bn2): BatchNorm2d(128, eps=1e-05, momentum=0.1, affine=True, track_running_stats=True)\n",
              "      (downsample): Sequential(\n",
              "        (0): Conv2d(64, 128, kernel_size=(1, 1), stride=(2, 2), bias=False)\n",
              "        (1): BatchNorm2d(128, eps=1e-05, momentum=0.1, affine=True, track_running_stats=True)\n",
              "      )\n",
              "    )\n",
              "    (1): BasicBlock(\n",
              "      (conv1): Conv2d(128, 128, kernel_size=(3, 3), stride=(1, 1), padding=(1, 1), bias=False)\n",
              "      (bn1): BatchNorm2d(128, eps=1e-05, momentum=0.1, affine=True, track_running_stats=True)\n",
              "      (relu): ReLU(inplace=True)\n",
              "      (conv2): Conv2d(128, 128, kernel_size=(3, 3), stride=(1, 1), padding=(1, 1), bias=False)\n",
              "      (bn2): BatchNorm2d(128, eps=1e-05, momentum=0.1, affine=True, track_running_stats=True)\n",
              "    )\n",
              "  )\n",
              "  (layer3): Sequential(\n",
              "    (0): BasicBlock(\n",
              "      (conv1): Conv2d(128, 256, kernel_size=(3, 3), stride=(2, 2), padding=(1, 1), bias=False)\n",
              "      (bn1): BatchNorm2d(256, eps=1e-05, momentum=0.1, affine=True, track_running_stats=True)\n",
              "      (relu): ReLU(inplace=True)\n",
              "      (conv2): Conv2d(256, 256, kernel_size=(3, 3), stride=(1, 1), padding=(1, 1), bias=False)\n",
              "      (bn2): BatchNorm2d(256, eps=1e-05, momentum=0.1, affine=True, track_running_stats=True)\n",
              "      (downsample): Sequential(\n",
              "        (0): Conv2d(128, 256, kernel_size=(1, 1), stride=(2, 2), bias=False)\n",
              "        (1): BatchNorm2d(256, eps=1e-05, momentum=0.1, affine=True, track_running_stats=True)\n",
              "      )\n",
              "    )\n",
              "    (1): BasicBlock(\n",
              "      (conv1): Conv2d(256, 256, kernel_size=(3, 3), stride=(1, 1), padding=(1, 1), bias=False)\n",
              "      (bn1): BatchNorm2d(256, eps=1e-05, momentum=0.1, affine=True, track_running_stats=True)\n",
              "      (relu): ReLU(inplace=True)\n",
              "      (conv2): Conv2d(256, 256, kernel_size=(3, 3), stride=(1, 1), padding=(1, 1), bias=False)\n",
              "      (bn2): BatchNorm2d(256, eps=1e-05, momentum=0.1, affine=True, track_running_stats=True)\n",
              "    )\n",
              "  )\n",
              "  (layer4): Sequential(\n",
              "    (0): BasicBlock(\n",
              "      (conv1): Conv2d(256, 512, kernel_size=(3, 3), stride=(2, 2), padding=(1, 1), bias=False)\n",
              "      (bn1): BatchNorm2d(512, eps=1e-05, momentum=0.1, affine=True, track_running_stats=True)\n",
              "      (relu): ReLU(inplace=True)\n",
              "      (conv2): Conv2d(512, 512, kernel_size=(3, 3), stride=(1, 1), padding=(1, 1), bias=False)\n",
              "      (bn2): BatchNorm2d(512, eps=1e-05, momentum=0.1, affine=True, track_running_stats=True)\n",
              "      (downsample): Sequential(\n",
              "        (0): Conv2d(256, 512, kernel_size=(1, 1), stride=(2, 2), bias=False)\n",
              "        (1): BatchNorm2d(512, eps=1e-05, momentum=0.1, affine=True, track_running_stats=True)\n",
              "      )\n",
              "    )\n",
              "    (1): BasicBlock(\n",
              "      (conv1): Conv2d(512, 512, kernel_size=(3, 3), stride=(1, 1), padding=(1, 1), bias=False)\n",
              "      (bn1): BatchNorm2d(512, eps=1e-05, momentum=0.1, affine=True, track_running_stats=True)\n",
              "      (relu): ReLU(inplace=True)\n",
              "      (conv2): Conv2d(512, 512, kernel_size=(3, 3), stride=(1, 1), padding=(1, 1), bias=False)\n",
              "      (bn2): BatchNorm2d(512, eps=1e-05, momentum=0.1, affine=True, track_running_stats=True)\n",
              "    )\n",
              "  )\n",
              "  (avgpool): AdaptiveAvgPool2d(output_size=(1, 1))\n",
              "  (fc): Linear(in_features=512, out_features=100, bias=True)\n",
              ")"
            ]
          },
          "metadata": {
            "tags": []
          },
          "execution_count": 43
        }
      ]
    },
    {
      "cell_type": "code",
      "metadata": {
        "id": "-ReVTFNfWI7-",
        "colab_type": "code",
        "colab": {}
      },
      "source": [
        "optimizer = torch.optim.Adam(model.parameters(), lr=0.001)"
      ],
      "execution_count": 0,
      "outputs": []
    },
    {
      "cell_type": "code",
      "metadata": {
        "id": "OYoCZ3nAWJSr",
        "colab_type": "code",
        "outputId": "bbf1325e-4316-46d9-aaab-f7ae80f11504",
        "colab": {
          "base_uri": "https://localhost:8080/",
          "height": 916
        }
      },
      "source": [
        "# Let's make sure we always start from scratch (that is,\n",
        "# without starting from parameters from a previous run).\n",
        "#for module in model.children():\n",
        "#  module.reset_parameters()\n",
        "\n",
        "info = []\n",
        "fig, ax = plt.subplots(2, 1, sharex=True)\n",
        "num_steps = 20000\n",
        "num_steps_per_val = 500\n",
        "best_val_err = 1.0\n",
        "for step in range(num_steps):\n",
        "  train_loss, train_err = train_step()\n",
        "  if step % num_steps_per_val == 0:\n",
        "    val_loss, val_err = val()\n",
        "    print('Step {:5d}: Obtained a best validation error of {:.3f}. The validation loss is {:.3f}.'.format(step, best_val_err, val_loss))\n",
        "    if val_err < best_val_err:\n",
        "      best_val_err = val_err\n",
        "    info.append([step, train_loss, val_loss, train_err, val_err])\n",
        "    x, y11, y12, y21, y22 = zip(*info)\n",
        "    ax[0].plot(x, y11, x, y12)\n",
        "    ax[0].legend(['Train loss', 'Val loss'])\n",
        "    ax[1].plot(x, y21, x, y22)\n",
        "    ax[1].legend(['Train err', 'Val err'])\n",
        "    ax[1].set_ylim([0.0, 0.25])"
      ],
      "execution_count": 0,
      "outputs": [
        {
          "output_type": "stream",
          "text": [
            "Step     0: Obtained a best validation error of 1.000. The validation loss is 4.731.\n",
            "Step   500: Obtained a best validation error of 0.976. The validation loss is 2.507.\n",
            "Step  1000: Obtained a best validation error of 0.638. The validation loss is 2.231.\n",
            "Step  1500: Obtained a best validation error of 0.575. The validation loss is 2.272.\n",
            "Step  2000: Obtained a best validation error of 0.571. The validation loss is 2.108.\n",
            "Step  2500: Obtained a best validation error of 0.529. The validation loss is 2.149.\n",
            "Step  3000: Obtained a best validation error of 0.529. The validation loss is 2.085.\n",
            "Step  3500: Obtained a best validation error of 0.507. The validation loss is 2.169.\n",
            "Step  4000: Obtained a best validation error of 0.507. The validation loss is 2.192.\n",
            "Step  4500: Obtained a best validation error of 0.507. The validation loss is 2.235.\n",
            "Step  5000: Obtained a best validation error of 0.503. The validation loss is 2.237.\n",
            "Step  5500: Obtained a best validation error of 0.500. The validation loss is 2.254.\n",
            "Step  6000: Obtained a best validation error of 0.486. The validation loss is 2.405.\n",
            "Step  6500: Obtained a best validation error of 0.486. The validation loss is 2.389.\n",
            "Step  7000: Obtained a best validation error of 0.486. The validation loss is 2.459.\n",
            "Step  7500: Obtained a best validation error of 0.486. The validation loss is 2.450.\n",
            "Step  8000: Obtained a best validation error of 0.486. The validation loss is 2.615.\n"
          ],
          "name": "stdout"
        },
        {
          "output_type": "error",
          "ename": "KeyboardInterrupt",
          "evalue": "ignored",
          "traceback": [
            "\u001b[0;31m---------------------------------------------------------------------------\u001b[0m",
            "\u001b[0;31mKeyboardInterrupt\u001b[0m                         Traceback (most recent call last)",
            "\u001b[0;32m<ipython-input-45-6d863962af62>\u001b[0m in \u001b[0;36m<module>\u001b[0;34m()\u001b[0m\n\u001b[1;32m      6\u001b[0m \u001b[0mbest_val_err\u001b[0m \u001b[0;34m=\u001b[0m \u001b[0;36m1.0\u001b[0m\u001b[0;34m\u001b[0m\u001b[0;34m\u001b[0m\u001b[0m\n\u001b[1;32m      7\u001b[0m \u001b[0;32mfor\u001b[0m \u001b[0mstep\u001b[0m \u001b[0;32min\u001b[0m \u001b[0mrange\u001b[0m\u001b[0;34m(\u001b[0m\u001b[0mnum_steps\u001b[0m\u001b[0;34m)\u001b[0m\u001b[0;34m:\u001b[0m\u001b[0;34m\u001b[0m\u001b[0;34m\u001b[0m\u001b[0m\n\u001b[0;32m----> 8\u001b[0;31m   \u001b[0mtrain_loss\u001b[0m\u001b[0;34m,\u001b[0m \u001b[0mtrain_err\u001b[0m \u001b[0;34m=\u001b[0m \u001b[0mtrain_step\u001b[0m\u001b[0;34m(\u001b[0m\u001b[0;34m)\u001b[0m\u001b[0;34m\u001b[0m\u001b[0;34m\u001b[0m\u001b[0m\n\u001b[0m\u001b[1;32m      9\u001b[0m   \u001b[0;32mif\u001b[0m \u001b[0mstep\u001b[0m \u001b[0;34m%\u001b[0m \u001b[0mnum_steps_per_val\u001b[0m \u001b[0;34m==\u001b[0m \u001b[0;36m0\u001b[0m\u001b[0;34m:\u001b[0m\u001b[0;34m\u001b[0m\u001b[0;34m\u001b[0m\u001b[0m\n\u001b[1;32m     10\u001b[0m     \u001b[0mval_loss\u001b[0m\u001b[0;34m,\u001b[0m \u001b[0mval_err\u001b[0m \u001b[0;34m=\u001b[0m \u001b[0mval\u001b[0m\u001b[0;34m(\u001b[0m\u001b[0;34m)\u001b[0m\u001b[0;34m\u001b[0m\u001b[0;34m\u001b[0m\u001b[0m\n",
            "\u001b[0;32m<ipython-input-40-2113f2cd4764>\u001b[0m in \u001b[0;36mtrain_step\u001b[0;34m(batch_size)\u001b[0m\n\u001b[1;32m     16\u001b[0m   \u001b[0mloss\u001b[0m\u001b[0;34m.\u001b[0m\u001b[0mbackward\u001b[0m\u001b[0;34m(\u001b[0m\u001b[0;34m)\u001b[0m\u001b[0;34m\u001b[0m\u001b[0;34m\u001b[0m\u001b[0m\n\u001b[1;32m     17\u001b[0m \u001b[0;34m\u001b[0m\u001b[0m\n\u001b[0;32m---> 18\u001b[0;31m   \u001b[0moptimizer\u001b[0m\u001b[0;34m.\u001b[0m\u001b[0mstep\u001b[0m\u001b[0;34m(\u001b[0m\u001b[0;34m)\u001b[0m\u001b[0;34m\u001b[0m\u001b[0;34m\u001b[0m\u001b[0m\n\u001b[0m\u001b[1;32m     19\u001b[0m \u001b[0;34m\u001b[0m\u001b[0m\n\u001b[1;32m     20\u001b[0m   \u001b[0;32mreturn\u001b[0m \u001b[0mloss\u001b[0m\u001b[0;34m.\u001b[0m\u001b[0mitem\u001b[0m\u001b[0;34m(\u001b[0m\u001b[0;34m)\u001b[0m\u001b[0;34m,\u001b[0m \u001b[0merror_rate\u001b[0m\u001b[0;34m.\u001b[0m\u001b[0mitem\u001b[0m\u001b[0;34m(\u001b[0m\u001b[0;34m)\u001b[0m\u001b[0;34m\u001b[0m\u001b[0;34m\u001b[0m\u001b[0m\n",
            "\u001b[0;32m/usr/local/lib/python3.6/dist-packages/torch/optim/adam.py\u001b[0m in \u001b[0;36mstep\u001b[0;34m(self, closure)\u001b[0m\n\u001b[1;32m    101\u001b[0m                     \u001b[0mdenom\u001b[0m \u001b[0;34m=\u001b[0m \u001b[0;34m(\u001b[0m\u001b[0mmax_exp_avg_sq\u001b[0m\u001b[0;34m.\u001b[0m\u001b[0msqrt\u001b[0m\u001b[0;34m(\u001b[0m\u001b[0;34m)\u001b[0m \u001b[0;34m/\u001b[0m \u001b[0mmath\u001b[0m\u001b[0;34m.\u001b[0m\u001b[0msqrt\u001b[0m\u001b[0;34m(\u001b[0m\u001b[0mbias_correction2\u001b[0m\u001b[0;34m)\u001b[0m\u001b[0;34m)\u001b[0m\u001b[0;34m.\u001b[0m\u001b[0madd_\u001b[0m\u001b[0;34m(\u001b[0m\u001b[0mgroup\u001b[0m\u001b[0;34m[\u001b[0m\u001b[0;34m'eps'\u001b[0m\u001b[0;34m]\u001b[0m\u001b[0;34m)\u001b[0m\u001b[0;34m\u001b[0m\u001b[0;34m\u001b[0m\u001b[0m\n\u001b[1;32m    102\u001b[0m                 \u001b[0;32melse\u001b[0m\u001b[0;34m:\u001b[0m\u001b[0;34m\u001b[0m\u001b[0;34m\u001b[0m\u001b[0m\n\u001b[0;32m--> 103\u001b[0;31m                     \u001b[0mdenom\u001b[0m \u001b[0;34m=\u001b[0m \u001b[0;34m(\u001b[0m\u001b[0mexp_avg_sq\u001b[0m\u001b[0;34m.\u001b[0m\u001b[0msqrt\u001b[0m\u001b[0;34m(\u001b[0m\u001b[0;34m)\u001b[0m \u001b[0;34m/\u001b[0m \u001b[0mmath\u001b[0m\u001b[0;34m.\u001b[0m\u001b[0msqrt\u001b[0m\u001b[0;34m(\u001b[0m\u001b[0mbias_correction2\u001b[0m\u001b[0;34m)\u001b[0m\u001b[0;34m)\u001b[0m\u001b[0;34m.\u001b[0m\u001b[0madd_\u001b[0m\u001b[0;34m(\u001b[0m\u001b[0mgroup\u001b[0m\u001b[0;34m[\u001b[0m\u001b[0;34m'eps'\u001b[0m\u001b[0;34m]\u001b[0m\u001b[0;34m)\u001b[0m\u001b[0;34m\u001b[0m\u001b[0;34m\u001b[0m\u001b[0m\n\u001b[0m\u001b[1;32m    104\u001b[0m \u001b[0;34m\u001b[0m\u001b[0m\n\u001b[1;32m    105\u001b[0m                 \u001b[0mstep_size\u001b[0m \u001b[0;34m=\u001b[0m \u001b[0mgroup\u001b[0m\u001b[0;34m[\u001b[0m\u001b[0;34m'lr'\u001b[0m\u001b[0;34m]\u001b[0m \u001b[0;34m/\u001b[0m \u001b[0mbias_correction1\u001b[0m\u001b[0;34m\u001b[0m\u001b[0;34m\u001b[0m\u001b[0m\n",
            "\u001b[0;31mKeyboardInterrupt\u001b[0m: "
          ]
        },
        {
          "output_type": "display_data",
          "data": {
            "image/png": "[encoded data removed]",
            "text/plain": [
              "<Figure size 432x288 with 2 Axes>"
            ]
          },
          "metadata": {
            "tags": []
          }
        }
      ]
    },
    {
      "cell_type": "code",
      "metadata": {
        "id": "v33GgCXkEjZR",
        "colab_type": "code",
        "colab": {}
      },
      "source": [
        "model_path = \"/content/drive/My Drive/result_script5.pth\"\n",
        "torch.save(model, model_path) "
      ],
      "execution_count": 0,
      "outputs": []
    },
    {
      "cell_type": "code",
      "metadata": {
        "id": "PFNI0HYiwBoU",
        "colab_type": "code",
        "colab": {}
      },
      "source": [
        "path = \"/content/drive/My Drive/result_script5.txt\"\n",
        "prediction = test()\n",
        "from typing import List\n",
        "def write_prediction(prediction: List[int], filename: str):\n",
        "    with open(filename, 'w') as fp:\n",
        "        print('Id,Category', file=fp)\n",
        "        for i, pred in enumerate(prediction):\n",
        "            print(f'{i},{pred}', file=fp)\n",
        "write_prediction(prediction, path)"
      ],
      "execution_count": 0,
      "outputs": []
    },
    {
      "cell_type": "code",
      "metadata": {
        "id": "JFGi9TacAlvS",
        "colab_type": "code",
        "outputId": "6bbf6254-4923-4341-a60b-10261c4a66f3",
        "colab": {
          "base_uri": "https://localhost:8080/",
          "height": 391
        }
      },
      "source": [
        "!top"
      ],
      "execution_count": 0,
      "outputs": [
        {
          "output_type": "stream",
          "text": [
            "\u001b[?1h\u001b=\u001b[H\u001b[2J\u001b[mtop - 02:55:38 up 11 min,  0 users,  load average: 0.09, 0.09, 0.06\u001b[m\u001b[m\u001b[m\u001b[m\u001b[K\n",
            "Tasks:\u001b[m\u001b[m\u001b[1m  14 \u001b[m\u001b[mtotal,\u001b[m\u001b[m\u001b[1m   1 \u001b[m\u001b[mrunning,\u001b[m\u001b[m\u001b[1m  12 \u001b[m\u001b[msleeping,\u001b[m\u001b[m\u001b[1m   0 \u001b[m\u001b[mstopped,\u001b[m\u001b[m\u001b[1m   1 \u001b[m\u001b[mzombie\u001b[m\u001b[m\u001b[m\u001b[m\u001b[K\n",
            "%Cpu(s):\u001b[m\u001b[m\u001b[1m  1.4 \u001b[m\u001b[mus,\u001b[m\u001b[m\u001b[1m  1.0 \u001b[m\u001b[msy,\u001b[m\u001b[m\u001b[1m  0.0 \u001b[m\u001b[mni,\u001b[m\u001b[m\u001b[1m 96.1 \u001b[m\u001b[mid,\u001b[m\u001b[m\u001b[1m  1.4 \u001b[m\u001b[mwa,\u001b[m\u001b[m\u001b[1m  0.0 \u001b[m\u001b[mhi,\u001b[m\u001b[m\u001b[1m  0.0 \u001b[m\u001b[msi,\u001b[m\u001b[m\u001b[1m  0.0 \u001b[m\u001b[mst\u001b[m\u001b[m\u001b[m\u001b[m\u001b[K\n",
            "KiB Mem :\u001b[m\u001b[m\u001b[1m 26753328 \u001b[m\u001b[mtotal,\u001b[m\u001b[m\u001b[1m 18176740 \u001b[m\u001b[mfree,\u001b[m\u001b[m\u001b[1m  4278260 \u001b[m\u001b[mused,\u001b[m\u001b[m\u001b[1m  4298328 \u001b[m\u001b[mbuff/cache\u001b[m\u001b[m\u001b[m\u001b[m\u001b[K\n",
            "KiB Swap:\u001b[m\u001b[m\u001b[1m        0 \u001b[m\u001b[mtotal,\u001b[m\u001b[m\u001b[1m        0 \u001b[m\u001b[mfree,\u001b[m\u001b[m\u001b[1m        0 \u001b[m\u001b[mused.\u001b[m\u001b[m\u001b[1m 23970640 \u001b[m\u001b[mavail Mem \u001b[m\u001b[m\u001b[m\u001b[m\u001b[K\n",
            "\u001b[K\n",
            "\u001b[7m    PID USER      PR  NI    VIRT    RES    SHR S  %CPU %MEM     TIME+ COMMAND   \u001b[m\u001b[m\u001b[K\n",
            "\u001b[m      1 root      20   0   39196   6436   4928 S   0.0  0.0   0:00.03 run.sh    \u001b[m\u001b[m\u001b[K\n",
            "\u001b[m      9 root      20   0  683668  54876  24720 S   0.0  0.2   0:01.48 node      \u001b[m\u001b[m\u001b[K\n",
            "\u001b[m     19 root      20   0  479200 101324  26592 S   0.0  0.4   0:03.38 jupyter-+ \u001b[m\u001b[m\u001b[K\n",
            "\u001b[m    133 root      20   0   35884   4844   3740 S   0.0  0.0   0:00.06 tail      \u001b[m\u001b[m\u001b[K\n",
            "\u001b[m    234 root      20   0 34.659g 3.881g 513400 S   0.0 15.2   0:12.42 python3   \u001b[m\u001b[m\u001b[K\n",
            "\u001b[m    358 root      20   0   18376   1508   1208 S   0.0  0.0   0:00.00 bash      \u001b[m\u001b[m\u001b[K\n",
            "\u001b[m    359 root      20   0 1124572  15628  13616 S   0.0  0.1   0:00.01 drive     \u001b[m\u001b[m\u001b[K\n",
            "\u001b[m    360 root      20   0   11596   2212   1932 S   0.0  0.0   0:00.00 grep      \u001b[m\u001b[m\u001b[K\n",
            "\u001b[m    741 root      20   0 2486580  37068  23276 S   0.0  0.1   0:00.23 drive     \u001b[m\u001b[m\u001b[K\n",
            "\u001b[m    753 root      20   0       0      0      0 Z   0.0  0.0   0:00.52 fusermou+ \u001b[m\u001b[m\u001b[K\n",
            "\u001b[m    792 root      20   0   18376   3004   2756 S   0.0  0.0   0:00.00 bash      \u001b[m\u001b[m\u001b[K\n",
            "\u001b[m    793 root      20   0    4568    780    716 S   0.0  0.0   0:00.00 tail      \u001b[m\u001b[m\u001b[K\n",
            "\u001b[m    794 root      20   0   11464   1032    940 S   0.0  0.0   0:00.00 grep      \u001b[m\u001b[m\u001b[K\n",
            "\u001b[m\u001b[1m    932 root      20   0   63176   6808   5084 R   0.0  0.0   0:00.02 top       \u001b[m\u001b[m\u001b[K\n",
            "\u001b[J\u001b[?1l\u001b>\u001b[25;1H\n",
            "\u001b[K"
          ],
          "name": "stdout"
        }
      ]
    },
    {
      "cell_type": "code",
      "metadata": {
        "id": "1fum4tpYA1HA",
        "colab_type": "code",
        "colab": {}
      },
      "source": [
        "!kill 234"
      ],
      "execution_count": 0,
      "outputs": []
    }
  ]
}