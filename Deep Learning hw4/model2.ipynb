{
  "nbformat": 4,
  "nbformat_minor": 0,
  "metadata": {
    "colab": {
      "name": "Mou's Homework 4 script 2 - ResNet18.ipynb",
      "provenance": [],
      "collapsed_sections": [],
      "toc_visible": true,
      "machine_shape": "hm"
    },
    "kernelspec": {
      "name": "python3",
      "display_name": "Python 3"
    },
    "accelerator": "GPU"
  },
  "cells": [
    {
      "cell_type": "code",
      "metadata": {
        "id": "z9WFsa-UylP0",
        "colab_type": "code",
        "colab": {}
      },
      "source": [
        ""
      ],
      "execution_count": 0,
      "outputs": []
    },
    {
      "cell_type": "code",
      "metadata": {
        "id": "Hiur61_IC2VA",
        "colab_type": "code",
        "outputId": "a8907d4e-73b9-412c-ebf0-ed0182b9e362",
        "colab": {
          "base_uri": "https://localhost:8080/",
          "height": 445
        }
      },
      "source": [
        "!wget https://www.dropbox.com/s/h1n73cw33no99mz/data.pth"
      ],
      "execution_count": 0,
      "outputs": [
        {
          "output_type": "stream",
          "text": [
            "--2020-03-27 22:56:02--  https://www.dropbox.com/s/h1n73cw33no99mz/data.pth\n",
            "Resolving www.dropbox.com (www.dropbox.com)... 162.125.8.1, 2620:100:6018:1::a27d:301\n",
            "Connecting to www.dropbox.com (www.dropbox.com)|162.125.8.1|:443... connected.\n",
            "HTTP request sent, awaiting response... 301 Moved Permanently\n",
            "Location: /s/raw/h1n73cw33no99mz/data.pth [following]\n",
            "--2020-03-27 22:56:02--  https://www.dropbox.com/s/raw/h1n73cw33no99mz/data.pth\n",
            "Reusing existing connection to www.dropbox.com:443.\n",
            "HTTP request sent, awaiting response... 302 Found\n",
            "Location: https://uc9ac527a62f6ccf7763a9606c75.dl.dropboxusercontent.com/cd/0/inline/A0uTase9h3WJyQdVrcy1_CE6LvOub6rVpwCjf7ESsuNrScYj8CCp6ClwlE5sJKdz0KtcZjJzBJgEKqGtNAzMg8E-6YBO2ZQHMMLPyhpkx5LngQ2wZbclitJYqUO1OYJ3LXE/file# [following]\n",
            "--2020-03-27 22:56:03--  https://uc9ac527a62f6ccf7763a9606c75.dl.dropboxusercontent.com/cd/0/inline/A0uTase9h3WJyQdVrcy1_CE6LvOub6rVpwCjf7ESsuNrScYj8CCp6ClwlE5sJKdz0KtcZjJzBJgEKqGtNAzMg8E-6YBO2ZQHMMLPyhpkx5LngQ2wZbclitJYqUO1OYJ3LXE/file\n",
            "Resolving uc9ac527a62f6ccf7763a9606c75.dl.dropboxusercontent.com (uc9ac527a62f6ccf7763a9606c75.dl.dropboxusercontent.com)... 162.125.3.6, 2620:100:601b:6::a27d:806\n",
            "Connecting to uc9ac527a62f6ccf7763a9606c75.dl.dropboxusercontent.com (uc9ac527a62f6ccf7763a9606c75.dl.dropboxusercontent.com)|162.125.3.6|:443... connected.\n",
            "HTTP request sent, awaiting response... 302 FOUND\n",
            "Location: /cd/0/inline2/A0ta0eiRg6HitOgByRrhZeE6V8hGCBsItFJcrA-W25X-ntaUGF2XBWw5rs-7j9RKDQRA8EnrrHB23caK9fx8KHNzN77i0lC5jHxfuqQ2KoQ_ZjTkdQbAORds3Wo3BZfIgH-CK1cIxeo76EAatWwkknBonbR4EsW-ujHoc1Yb67wEiqv58vCSiNfjzgFLdTxA28DLMvfUn2chxbDTv8UE032auhza-BjB3T7cduvlwusQkyXse1zxsGnp83RyzJvKTchfHqZojkULblaKmmoUg0t8qQTHqyrUUfOAtd12sUf89WHViCI2NFPLSw-0GhlCkyS8qsdoTmgxHIbQzNU0T9XRA3-rHMQ2uLTQ0U8NJbqX2g/file [following]\n",
            "--2020-03-27 22:56:03--  https://uc9ac527a62f6ccf7763a9606c75.dl.dropboxusercontent.com/cd/0/inline2/A0ta0eiRg6HitOgByRrhZeE6V8hGCBsItFJcrA-W25X-ntaUGF2XBWw5rs-7j9RKDQRA8EnrrHB23caK9fx8KHNzN77i0lC5jHxfuqQ2KoQ_ZjTkdQbAORds3Wo3BZfIgH-CK1cIxeo76EAatWwkknBonbR4EsW-ujHoc1Yb67wEiqv58vCSiNfjzgFLdTxA28DLMvfUn2chxbDTv8UE032auhza-BjB3T7cduvlwusQkyXse1zxsGnp83RyzJvKTchfHqZojkULblaKmmoUg0t8qQTHqyrUUfOAtd12sUf89WHViCI2NFPLSw-0GhlCkyS8qsdoTmgxHIbQzNU0T9XRA3-rHMQ2uLTQ0U8NJbqX2g/file\n",
            "Reusing existing connection to uc9ac527a62f6ccf7763a9606c75.dl.dropboxusercontent.com:443.\n",
            "HTTP request sent, awaiting response... 200 OK\n",
            "Length: 266735560 (254M) [application/octet-stream]\n",
            "Saving to: ‘data.pth’\n",
            "\n",
            "data.pth            100%[===================>] 254.38M  34.0MB/s    in 7.5s    \n",
            "\n",
            "2020-03-27 22:56:11 (34.1 MB/s) - ‘data.pth’ saved [266735560/266735560]\n",
            "\n"
          ],
          "name": "stdout"
        }
      ]
    },
    {
      "cell_type": "code",
      "metadata": {
        "id": "T025rySCzfRg",
        "colab_type": "code",
        "colab": {}
      },
      "source": [
        "%matplotlib inline\n",
        "import matplotlib.pyplot as plt\n",
        "import numpy as np\n",
        "import skimage.data\n",
        "import skimage.color\n",
        "import scipy.misc\n",
        "import scipy.signal\n",
        "import time\n",
        "\n",
        "import torch\n",
        "from torch.autograd import Variable\n",
        "import torch.nn.functional as F\n",
        "\n",
        "from matplotlib import rcParams\n",
        "rcParams['axes.grid'] = False\n",
        "\n",
        "import warnings\n",
        "warnings.filterwarnings(\"ignore\")"
      ],
      "execution_count": 0,
      "outputs": []
    },
    {
      "cell_type": "code",
      "metadata": {
        "id": "891uN52ZnNZu",
        "colab_type": "code",
        "outputId": "089a9ff5-d888-46df-cbfa-4dbdd48fe8be",
        "colab": {
          "base_uri": "https://localhost:8080/",
          "height": 122
        }
      },
      "source": [
        "from google.colab import drive\n",
        "drive.mount('/content/drive')"
      ],
      "execution_count": 0,
      "outputs": [
        {
          "output_type": "stream",
          "text": [
            "Go to this URL in a browser: https://accounts.google.com/o/oauth2/auth?client_id=947318989803-6bn6qk8qdgf4n4g3pfee6491hc0brc4i.apps.googleusercontent.com&redirect_uri=urn%3aietf%3awg%3aoauth%3a2.0%3aoob&response_type=code&scope=email%20https%3a%2f%2fwww.googleapis.com%2fauth%2fdocs.test%20https%3a%2f%2fwww.googleapis.com%2fauth%2fdrive%20https%3a%2f%2fwww.googleapis.com%2fauth%2fdrive.photos.readonly%20https%3a%2f%2fwww.googleapis.com%2fauth%2fpeopleapi.readonly\n",
            "\n",
            "Enter your authorization code:\n",
            "··········\n",
            "Mounted at /content/drive\n"
          ],
          "name": "stdout"
        }
      ]
    },
    {
      "cell_type": "code",
      "metadata": {
        "id": "GSZ8hL8wC1u8",
        "colab_type": "code",
        "outputId": "ff8e4c9b-3c93-4096-8d3e-913eb53b2c1e",
        "colab": {
          "base_uri": "https://localhost:8080/",
          "height": 68
        }
      },
      "source": [
        "train_x, train_y, dev_x, dev_y, test_x = torch.load('data.pth')\n",
        "\n",
        "print('Training size:', train_x.shape, train_y.shape)\n",
        "print('Development size:', dev_x.shape, dev_y.shape)\n",
        "print('Test size:', test_x.shape)"
      ],
      "execution_count": 0,
      "outputs": [
        {
          "output_type": "stream",
          "text": [
            "Training size: (45000, 3, 32, 32) (45000,)\n",
            "Development size: (5000, 3, 32, 32) (5000,)\n",
            "Test size: (10000, 3, 32, 32)\n"
          ],
          "name": "stdout"
        }
      ]
    },
    {
      "cell_type": "code",
      "metadata": {
        "id": "nhPBgoqWC_I7",
        "colab_type": "code",
        "outputId": "b46f9057-80e8-4910-c65b-42eb107a50ac",
        "colab": {
          "base_uri": "https://localhost:8080/",
          "height": 515
        }
      },
      "source": [
        "# show all three channels\n",
        "plt.imshow(train_x[0].transpose((1, 2, 0)))\n",
        "plt.show()\n",
        "\n",
        "# show the first channel\n",
        "plt.imshow(train_x[0, 0])\n",
        "plt.show()"
      ],
      "execution_count": 0,
      "outputs": [
        {
          "output_type": "display_data",
          "data": {
            "image/png": "[encoded data removed]",
            "text/plain": [
              "<Figure size 432x288 with 1 Axes>"
            ]
          },
          "metadata": {
            "tags": []
          }
        },
        {
          "output_type": "display_data",
          "data": {
            "image/png": "[encoded data removed]",
            "text/plain": [
              "<Figure size 432x288 with 1 Axes>"
            ]
          },
          "metadata": {
            "tags": []
          }
        }
      ]
    },
    {
      "cell_type": "code",
      "metadata": {
        "id": "fXXpQjWgzf15",
        "colab_type": "code",
        "colab": {}
      },
      "source": [
        "import torchvision\n",
        "\n",
        "NUM_CLASSES = 100\n",
        "CHANNELS = 3\n",
        "HEIGHT = 32\n",
        "WIDTH = 32"
      ],
      "execution_count": 0,
      "outputs": []
    },
    {
      "cell_type": "code",
      "metadata": {
        "id": "lkcCcuoGD-1-",
        "colab_type": "code",
        "colab": {}
      },
      "source": [
        "train_images, train_labels, val_images, val_labels, test_images = train_x, train_y, dev_x, dev_y, test_x"
      ],
      "execution_count": 0,
      "outputs": []
    },
    {
      "cell_type": "code",
      "metadata": {
        "id": "Y_xCZF-202oY",
        "colab_type": "code",
        "outputId": "c25bfa9a-6972-4362-8ea7-59894d87f0eb",
        "colab": {
          "base_uri": "https://localhost:8080/",
          "height": 51
        }
      },
      "source": [
        "print(train_images.shape, train_labels.shape)\n",
        "print(val_images.shape, val_labels.shape)"
      ],
      "execution_count": 0,
      "outputs": [
        {
          "output_type": "stream",
          "text": [
            "(45000, 3, 32, 32) (45000,)\n",
            "(5000, 3, 32, 32) (5000,)\n"
          ],
          "name": "stdout"
        }
      ]
    },
    {
      "cell_type": "code",
      "metadata": {
        "id": "gq0gf0JsXmaJ",
        "colab_type": "code",
        "colab": {}
      },
      "source": [
        "import torchvision.transforms as transforms\n",
        "train_transform = transforms.Compose([\n",
        "    transforms.Resize((32, 32)),\n",
        "    transforms.RandomCrop(32, padding=4),\n",
        "    transforms.RandomHorizontalFlip(p=1),\n",
        "    transforms.ToTensor()\n",
        "])"
      ],
      "execution_count": 0,
      "outputs": []
    },
    {
      "cell_type": "code",
      "metadata": {
        "id": "nTTsnqmXhwRu",
        "colab_type": "code",
        "colab": {}
      },
      "source": [
        "def data_augmentation(train_images, train_labels):\n",
        "  for i in range(train_images.shape[0]):\n",
        "      if i % 1000 == 0:\n",
        "        print(\"Step: \", i)\n",
        "      train_cur_image_PIL = transforms.ToPILImage()(train_images[i].transpose((1, 2, 0)))\n",
        "      train_cur_image_tformed = train_transform(train_cur_image_PIL).reshape(1,3,32,32)\n",
        "      \n",
        "      if i % 1000 == 0:\n",
        "          train_images_tformed_batch = train_cur_image_tformed\n",
        "      else:\n",
        "          train_images_tformed_batch = torch.cat((train_images_tformed_batch , train_cur_image_tformed),0)\n",
        "      if i == 999:\n",
        "          train_images_tformed = train_images_tformed_batch\n",
        "      elif i % 1000 == 999:\n",
        "          train_images_tformed = torch.cat((train_images_tformed , train_images_tformed_batch),0)\n",
        "      #print(train_images_tformed.shape)\n",
        "  #print(train_images_tformed)\n",
        "  plt.imshow(transforms.ToPILImage()((train_images_tformed[0].data.numpy() * 255).astype(np.uint8).transpose((1, 2, 0))))\n",
        "  train_images = np.concatenate((train_images, (train_images_tformed.data.numpy() * 255).astype(np.uint8)), axis = 0)\n",
        "  train_labels = np.concatenate((train_labels, train_labels),axis = 0)\n",
        "  return train_images, train_labels"
      ],
      "execution_count": 0,
      "outputs": []
    },
    {
      "cell_type": "code",
      "metadata": {
        "id": "OGqfkN4AmtUA",
        "colab_type": "code",
        "outputId": "1ac762d9-4c84-48c4-8820-db5ce0d5c77f",
        "colab": {
          "base_uri": "https://localhost:8080/",
          "height": 1000
        }
      },
      "source": [
        "train_images, train_labels = data_augmentation(train_images, train_labels)"
      ],
      "execution_count": 0,
      "outputs": [
        {
          "output_type": "stream",
          "text": [
            "Step:  0\n",
            "Step:  1000\n",
            "Step:  2000\n",
            "Step:  3000\n",
            "Step:  4000\n",
            "Step:  5000\n",
            "Step:  6000\n",
            "Step:  7000\n",
            "Step:  8000\n",
            "Step:  9000\n",
            "Step:  10000\n",
            "Step:  11000\n",
            "Step:  12000\n",
            "Step:  13000\n",
            "Step:  14000\n",
            "Step:  15000\n",
            "Step:  16000\n",
            "Step:  17000\n",
            "Step:  18000\n",
            "Step:  19000\n",
            "Step:  20000\n",
            "Step:  21000\n",
            "Step:  22000\n",
            "Step:  23000\n",
            "Step:  24000\n",
            "Step:  25000\n",
            "Step:  26000\n",
            "Step:  27000\n",
            "Step:  28000\n",
            "Step:  29000\n",
            "Step:  30000\n",
            "Step:  31000\n",
            "Step:  32000\n",
            "Step:  33000\n",
            "Step:  34000\n",
            "Step:  35000\n",
            "Step:  36000\n",
            "Step:  37000\n",
            "Step:  38000\n",
            "Step:  39000\n",
            "Step:  40000\n",
            "Step:  41000\n",
            "Step:  42000\n",
            "Step:  43000\n",
            "Step:  44000\n"
          ],
          "name": "stdout"
        },
        {
          "output_type": "display_data",
          "data": {
            "image/png": "[encoded data removed]",
            "text/plain": [
              "<Figure size 432x288 with 1 Axes>"
            ]
          },
          "metadata": {
            "tags": []
          }
        }
      ]
    },
    {
      "cell_type": "code",
      "metadata": {
        "id": "WQl-HOx9IM9B",
        "colab_type": "code",
        "colab": {}
      },
      "source": [
        "train_images = (train_images).astype(np.float32)\n",
        "val_images = (val_images).astype(np.float32)\n",
        "tmp_test_images = test_images.astype(np.float32)"
      ],
      "execution_count": 0,
      "outputs": []
    },
    {
      "cell_type": "code",
      "metadata": {
        "id": "wHyAwM1o04ci",
        "colab_type": "code",
        "colab": {}
      },
      "source": [
        "def normalize_stats_image_by_image(images):\n",
        "  mean = images.mean(axis=(2,3), keepdims=True)\n",
        "  stdev = images.std(axis=(2,3), keepdims=True)\n",
        "  return (images - mean) / stdev"
      ],
      "execution_count": 0,
      "outputs": []
    },
    {
      "cell_type": "code",
      "metadata": {
        "id": "2pk3C-xR056R",
        "colab_type": "code",
        "colab": {}
      },
      "source": [
        "train_images = normalize_stats_image_by_image(train_images)\n",
        "val_images = normalize_stats_image_by_image(val_images)\n",
        "test_images = normalize_stats_image_by_image(tmp_test_images)"
      ],
      "execution_count": 0,
      "outputs": []
    },
    {
      "cell_type": "code",
      "metadata": {
        "id": "d_dLp-IsymY7",
        "colab_type": "code",
        "colab": {}
      },
      "source": [
        "def batch(batch_size, training=True, batch_begin = 0):\n",
        "  \"\"\"Create a batch of examples.\n",
        "  \n",
        "  This creates a batch of input images and a batch of corresponding\n",
        "  ground-truth labels. We assume CUDA is available (with a GPU).\n",
        "  \n",
        "  Args:\n",
        "    batch_size: An integer.\n",
        "    training: A boolean. If True, grab examples from the training\n",
        "      set; otherwise, grab them from the validation set.\n",
        "  \n",
        "  Returns:\n",
        "    A tuple,\n",
        "    input_batch: A Variable of floats with shape\n",
        "      [batch_size, 1, height, width]\n",
        "    label_batch: A Variable of ints with shape\n",
        "      [batch_size].\n",
        "  \"\"\"\n",
        "  if training:\n",
        "    random_ind = np.random.choice(train_images.shape[0], size=batch_size, replace=False)\n",
        "    input_batch = train_images[random_ind]\n",
        "    label_batch = train_labels[random_ind]\n",
        "  else:\n",
        "    input_batch = val_images[batch_begin:batch_begin + batch_size]\n",
        "    label_batch = val_labels[batch_begin:batch_begin + batch_size]\n",
        "  \n",
        "  #input_batch = input_batch[:, np.newaxis, :, :]\n",
        "  \n",
        "  input_batch = torch.tensor(input_batch, requires_grad=False, device='cuda')\n",
        "  label_batch = torch.tensor(label_batch, requires_grad=False, device='cuda')\n",
        "  \n",
        "  return input_batch, label_batch"
      ],
      "execution_count": 0,
      "outputs": []
    },
    {
      "cell_type": "code",
      "metadata": {
        "id": "1qTRlJLmyeqq",
        "colab_type": "code",
        "colab": {}
      },
      "source": [
        "def train_step(batch_size=32):\n",
        "  \n",
        "  model.train()\n",
        "\n",
        "  input_batch, label_batch = batch(batch_size, training=True)\n",
        "  output_batch = model(input_batch)\n",
        "  #print(input_batch.shape)\n",
        "  #print(output_batch.shape)\n",
        "  #print(label_batch.shape)\n",
        "  \n",
        "  loss = F.cross_entropy(output_batch, label_batch)\n",
        "  _, pred_batch = torch.max(output_batch, dim=1)\n",
        "  error_rate = 1.0 - (pred_batch == label_batch).float().mean()\n",
        "\n",
        "  optimizer.zero_grad()\n",
        "  loss.backward()\n",
        "  \n",
        "  optimizer.step()\n",
        "  \n",
        "  return loss.item(), error_rate.item()"
      ],
      "execution_count": 0,
      "outputs": []
    },
    {
      "cell_type": "code",
      "metadata": {
        "id": "pIVaOwNODrJy",
        "colab_type": "code",
        "colab": {}
      },
      "source": [
        "def val():\n",
        "  \n",
        "  model.eval()\n",
        "  val_batch_size = 50;\n",
        "  batch_begin = 0;\n",
        "  sum_loss = 0\n",
        "  while batch_begin < val_images.shape[0]: \n",
        "    input_batch, label_batch = batch(val_batch_size, training=False, batch_begin=batch_begin)\n",
        "    output_batch = model(input_batch).detach()\n",
        "    sum_loss += F.cross_entropy(output_batch, label_batch).detach() * val_batch_size\n",
        "    _, pred_batch = torch.max(output_batch, dim=1)\n",
        "    if batch_begin == 0:\n",
        "      label = label_batch\n",
        "      output = output_batch\n",
        "      pred = pred_batch\n",
        "    else:\n",
        "      label = torch.cat((label, label_batch), 0)\n",
        "      output = torch.cat((output, output_batch), 0)\n",
        "      pred = torch.cat((pred, pred_batch), 0)\n",
        "    #print(labels.shape)\n",
        "    batch_begin += val_batch_size\n",
        "    torch.no_grad()\n",
        "    torch.cuda.empty_cache()\n",
        "\n",
        "\n",
        "  loss = sum_loss / val_images.shape[0]\n",
        "  error_rate = 1.0 - (pred == label).float().mean()\n",
        "  \n",
        "  return loss.item(), error_rate.item()"
      ],
      "execution_count": 0,
      "outputs": []
    },
    {
      "cell_type": "code",
      "metadata": {
        "id": "sqqr6OQFaI0C",
        "colab_type": "code",
        "colab": {}
      },
      "source": [
        "def test():\n",
        "  \n",
        "  model.eval()\n",
        "  test_batch_size = 50;\n",
        "  batch_begin = 0;\n",
        "  sum_loss = 0\n",
        "  while batch_begin < test_images.shape[0]: \n",
        "    input_batch = torch.tensor(test_images[batch_begin:batch_begin + test_batch_size], requires_grad=False, device = 'cuda')\n",
        "    output_batch = model(input_batch).detach()\n",
        "    _, pred_batch = torch.max(output_batch, dim=1)\n",
        "    if batch_begin == 0:\n",
        "      output = output_batch\n",
        "      pred = pred_batch\n",
        "    else:\n",
        "      output = torch.cat((output, output_batch), 0)\n",
        "      pred = torch.cat((pred, pred_batch), 0)\n",
        "    #print(labels.shape)\n",
        "    batch_begin += test_batch_size\n",
        "    torch.no_grad()\n",
        "    torch.cuda.empty_cache()\n",
        "\n",
        "  return pred"
      ],
      "execution_count": 0,
      "outputs": []
    },
    {
      "cell_type": "code",
      "metadata": {
        "id": "s3IAyE0GYS6t",
        "colab_type": "code",
        "outputId": "f13ce95a-a220-4f29-8e2d-496bc7a0e350",
        "colab": {
          "base_uri": "https://localhost:8080/",
          "height": 306
        }
      },
      "source": [
        "!nvidia-smi"
      ],
      "execution_count": 0,
      "outputs": [
        {
          "output_type": "stream",
          "text": [
            "Fri Mar 27 22:57:44 2020       \n",
            "+-----------------------------------------------------------------------------+\n",
            "| NVIDIA-SMI 440.64.00    Driver Version: 418.67       CUDA Version: 10.1     |\n",
            "|-------------------------------+----------------------+----------------------+\n",
            "| GPU  Name        Persistence-M| Bus-Id        Disp.A | Volatile Uncorr. ECC |\n",
            "| Fan  Temp  Perf  Pwr:Usage/Cap|         Memory-Usage | GPU-Util  Compute M. |\n",
            "|===============================+======================+======================|\n",
            "|   0  Tesla P100-PCIE...  Off  | 00000000:00:04.0 Off |                    0 |\n",
            "| N/A   44C    P0    27W / 250W |      0MiB / 16280MiB |      0%      Default |\n",
            "+-------------------------------+----------------------+----------------------+\n",
            "                                                                               \n",
            "+-----------------------------------------------------------------------------+\n",
            "| Processes:                                                       GPU Memory |\n",
            "|  GPU       PID   Type   Process name                             Usage      |\n",
            "|=============================================================================|\n",
            "|  No running processes found                                                 |\n",
            "+-----------------------------------------------------------------------------+\n"
          ],
          "name": "stdout"
        }
      ]
    },
    {
      "cell_type": "code",
      "metadata": {
        "id": "tQhcdXKDWDBA",
        "colab_type": "code",
        "colab": {}
      },
      "source": [
        "\"\"\"resnet in pytorch\n",
        "[1] Kaiming He, Xiangyu Zhang, Shaoqing Ren, Jian Sun.\n",
        "    Deep Residual Learning for Image Recognition\n",
        "    https://arxiv.org/abs/1512.03385v1\n",
        "\"\"\"\n",
        "\n",
        "import torch\n",
        "import torch.nn as nn\n",
        "\n",
        "class BasicBlock(nn.Module):\n",
        "    \"\"\"Basic Block for resnet 18 and resnet 34\n",
        "    \"\"\"\n",
        "\n",
        "    #BasicBlock and BottleNeck block \n",
        "    #have different output size\n",
        "    #we use class attribute expansion\n",
        "    #to distinct\n",
        "    expansion = 1\n",
        "\n",
        "    def __init__(self, in_channels, out_channels, stride=1):\n",
        "        super().__init__()\n",
        "\n",
        "        #residual function\n",
        "        self.residual_function = nn.Sequential(\n",
        "            nn.Conv2d(in_channels, out_channels, kernel_size=3, stride=stride, padding=1, bias=False),\n",
        "            nn.BatchNorm2d(out_channels),\n",
        "            nn.ReLU(inplace=True),\n",
        "            nn.Conv2d(out_channels, out_channels * BasicBlock.expansion, kernel_size=3, padding=1, bias=False),\n",
        "            nn.BatchNorm2d(out_channels * BasicBlock.expansion)\n",
        "        )\n",
        "\n",
        "        #shortcut\n",
        "        self.shortcut = nn.Sequential()\n",
        "\n",
        "        #the shortcut output dimension is not the same with residual function\n",
        "        #use 1*1 convolution to match the dimension\n",
        "        if stride != 1 or in_channels != BasicBlock.expansion * out_channels:\n",
        "            self.shortcut = nn.Sequential(\n",
        "                nn.Conv2d(in_channels, out_channels * BasicBlock.expansion, kernel_size=1, stride=stride, bias=False),\n",
        "                nn.BatchNorm2d(out_channels * BasicBlock.expansion)\n",
        "            )\n",
        "        \n",
        "    def forward(self, x):\n",
        "        return nn.ReLU(inplace=True)(self.residual_function(x) + self.shortcut(x))\n",
        "\n",
        "class BottleNeck(nn.Module):\n",
        "    \"\"\"Residual block for resnet over 50 layers\n",
        "    \"\"\"\n",
        "    expansion = 4\n",
        "    def __init__(self, in_channels, out_channels, stride=1):\n",
        "        super().__init__()\n",
        "        self.residual_function = nn.Sequential(\n",
        "            nn.Conv2d(in_channels, out_channels, kernel_size=1, bias=False),\n",
        "            nn.BatchNorm2d(out_channels),\n",
        "            nn.ReLU(inplace=True),\n",
        "            nn.Conv2d(out_channels, out_channels, stride=stride, kernel_size=3, padding=1, bias=False),\n",
        "            nn.BatchNorm2d(out_channels),\n",
        "            nn.ReLU(inplace=True),\n",
        "            nn.Conv2d(out_channels, out_channels * BottleNeck.expansion, kernel_size=1, bias=False),\n",
        "            nn.BatchNorm2d(out_channels * BottleNeck.expansion),\n",
        "        )\n",
        "\n",
        "        self.shortcut = nn.Sequential()\n",
        "\n",
        "        if stride != 1 or in_channels != out_channels * BottleNeck.expansion:\n",
        "            self.shortcut = nn.Sequential(\n",
        "                nn.Conv2d(in_channels, out_channels * BottleNeck.expansion, stride=stride, kernel_size=1, bias=False),\n",
        "                nn.BatchNorm2d(out_channels * BottleNeck.expansion)\n",
        "            )\n",
        "        \n",
        "    def forward(self, x):\n",
        "        return nn.ReLU(inplace=True)(self.residual_function(x) + self.shortcut(x))\n",
        "    \n",
        "class ResNet(nn.Module):\n",
        "\n",
        "    def __init__(self, block, num_block, num_classes=100):\n",
        "        super().__init__()\n",
        "\n",
        "        self.in_channels = 64\n",
        "\n",
        "        self.conv1 = nn.Sequential(\n",
        "            nn.Conv2d(3, 64, kernel_size=3, padding=1, bias=False),\n",
        "            nn.BatchNorm2d(64),\n",
        "            nn.ReLU(inplace=True))\n",
        "        #we use a different inputsize than the original paper\n",
        "        #so conv2_x's stride is 1\n",
        "        self.conv2_x = self._make_layer(block, 64, num_block[0], 1)\n",
        "        self.conv3_x = self._make_layer(block, 128, num_block[1], 2)\n",
        "        self.conv4_x = self._make_layer(block, 256, num_block[2], 2)\n",
        "        self.conv5_x = self._make_layer(block, 512, num_block[3], 2)\n",
        "        self.avg_pool = nn.AdaptiveAvgPool2d((1, 1))\n",
        "        self.fc = nn.Linear(512 * block.expansion, num_classes)\n",
        "\n",
        "    def _make_layer(self, block, out_channels, num_blocks, stride):\n",
        "        \"\"\"make resnet layers(by layer i didnt mean this 'layer' was the \n",
        "        same as a neuron netowork layer, ex. conv layer), one layer may \n",
        "        contain more than one residual block \n",
        "        Args:\n",
        "            block: block type, basic block or bottle neck block\n",
        "            out_channels: output depth channel number of this layer\n",
        "            num_blocks: how many blocks per layer\n",
        "            stride: the stride of the first block of this layer\n",
        "        \n",
        "        Return:\n",
        "            return a resnet layer\n",
        "        \"\"\"\n",
        "\n",
        "        # we have num_block blocks per layer, the first block \n",
        "        # could be 1 or 2, other blocks would always be 1\n",
        "        strides = [stride] + [1] * (num_blocks - 1)\n",
        "        layers = []\n",
        "        for stride in strides:\n",
        "            layers.append(block(self.in_channels, out_channels, stride))\n",
        "            self.in_channels = out_channels * block.expansion\n",
        "        \n",
        "        return nn.Sequential(*layers)\n",
        "\n",
        "    def forward(self, x):\n",
        "        output = self.conv1(x)\n",
        "        output = self.conv2_x(output)\n",
        "        output = self.conv3_x(output)\n",
        "        output = self.conv4_x(output)\n",
        "        output = self.conv5_x(output)\n",
        "        output = self.avg_pool(output)\n",
        "        output = output.view(output.size(0), -1)\n",
        "        output = self.fc(output)\n",
        "\n",
        "        return output \n",
        "\n",
        "def resnet18():\n",
        "    \"\"\" return a ResNet 18 object\n",
        "    \"\"\"\n",
        "    return ResNet(BasicBlock, [2, 2, 2, 2])\n",
        "\n",
        "def resnet34():\n",
        "    \"\"\" return a ResNet 34 object\n",
        "    \"\"\"\n",
        "    return ResNet(BasicBlock, [3, 4, 6, 3])\n",
        "\n",
        "def resnet50():\n",
        "    \"\"\" return a ResNet 50 object\n",
        "    \"\"\"\n",
        "    return ResNet(BottleNeck, [3, 4, 6, 3])\n",
        "\n",
        "def resnet101():\n",
        "    \"\"\" return a ResNet 101 object\n",
        "    \"\"\"\n",
        "    return ResNet(BottleNeck, [3, 4, 23, 3])\n",
        "\n",
        "def resnet152():\n",
        "    \"\"\" return a ResNet 152 object\n",
        "    \"\"\"\n",
        "    return ResNet(BottleNeck, [3, 8, 36, 3])\n"
      ],
      "execution_count": 0,
      "outputs": []
    },
    {
      "cell_type": "code",
      "metadata": {
        "id": "x-Pt17i_WIX6",
        "colab_type": "code",
        "outputId": "bdce9232-8e7f-49e6-c2d8-95260ec0e2c0",
        "colab": {
          "base_uri": "https://localhost:8080/",
          "height": 1000
        }
      },
      "source": [
        "model = resnet18()\n",
        "model.avgpool = nn.AdaptiveAvgPool2d((1, 1))\n",
        "model.fc = nn.Sequential(\n",
        "            nn.BatchNorm1d(512*1),\n",
        "            nn.Linear(512*1, 100),\n",
        "        )\n",
        "model.cuda()"
      ],
      "execution_count": 94,
      "outputs": [
        {
          "output_type": "execute_result",
          "data": {
            "text/plain": [
              "ResNet(\n",
              "  (conv1): Sequential(\n",
              "    (0): Conv2d(3, 64, kernel_size=(3, 3), stride=(1, 1), padding=(1, 1), bias=False)\n",
              "    (1): BatchNorm2d(64, eps=1e-05, momentum=0.1, affine=True, track_running_stats=True)\n",
              "    (2): ReLU(inplace=True)\n",
              "  )\n",
              "  (conv2_x): Sequential(\n",
              "    (0): BasicBlock(\n",
              "      (residual_function): Sequential(\n",
              "        (0): Conv2d(64, 64, kernel_size=(3, 3), stride=(1, 1), padding=(1, 1), bias=False)\n",
              "        (1): BatchNorm2d(64, eps=1e-05, momentum=0.1, affine=True, track_running_stats=True)\n",
              "        (2): ReLU(inplace=True)\n",
              "        (3): Conv2d(64, 64, kernel_size=(3, 3), stride=(1, 1), padding=(1, 1), bias=False)\n",
              "        (4): BatchNorm2d(64, eps=1e-05, momentum=0.1, affine=True, track_running_stats=True)\n",
              "      )\n",
              "      (shortcut): Sequential()\n",
              "    )\n",
              "    (1): BasicBlock(\n",
              "      (residual_function): Sequential(\n",
              "        (0): Conv2d(64, 64, kernel_size=(3, 3), stride=(1, 1), padding=(1, 1), bias=False)\n",
              "        (1): BatchNorm2d(64, eps=1e-05, momentum=0.1, affine=True, track_running_stats=True)\n",
              "        (2): ReLU(inplace=True)\n",
              "        (3): Conv2d(64, 64, kernel_size=(3, 3), stride=(1, 1), padding=(1, 1), bias=False)\n",
              "        (4): BatchNorm2d(64, eps=1e-05, momentum=0.1, affine=True, track_running_stats=True)\n",
              "      )\n",
              "      (shortcut): Sequential()\n",
              "    )\n",
              "  )\n",
              "  (conv3_x): Sequential(\n",
              "    (0): BasicBlock(\n",
              "      (residual_function): Sequential(\n",
              "        (0): Conv2d(64, 128, kernel_size=(3, 3), stride=(2, 2), padding=(1, 1), bias=False)\n",
              "        (1): BatchNorm2d(128, eps=1e-05, momentum=0.1, affine=True, track_running_stats=True)\n",
              "        (2): ReLU(inplace=True)\n",
              "        (3): Conv2d(128, 128, kernel_size=(3, 3), stride=(1, 1), padding=(1, 1), bias=False)\n",
              "        (4): BatchNorm2d(128, eps=1e-05, momentum=0.1, affine=True, track_running_stats=True)\n",
              "      )\n",
              "      (shortcut): Sequential(\n",
              "        (0): Conv2d(64, 128, kernel_size=(1, 1), stride=(2, 2), bias=False)\n",
              "        (1): BatchNorm2d(128, eps=1e-05, momentum=0.1, affine=True, track_running_stats=True)\n",
              "      )\n",
              "    )\n",
              "    (1): BasicBlock(\n",
              "      (residual_function): Sequential(\n",
              "        (0): Conv2d(128, 128, kernel_size=(3, 3), stride=(1, 1), padding=(1, 1), bias=False)\n",
              "        (1): BatchNorm2d(128, eps=1e-05, momentum=0.1, affine=True, track_running_stats=True)\n",
              "        (2): ReLU(inplace=True)\n",
              "        (3): Conv2d(128, 128, kernel_size=(3, 3), stride=(1, 1), padding=(1, 1), bias=False)\n",
              "        (4): BatchNorm2d(128, eps=1e-05, momentum=0.1, affine=True, track_running_stats=True)\n",
              "      )\n",
              "      (shortcut): Sequential()\n",
              "    )\n",
              "  )\n",
              "  (conv4_x): Sequential(\n",
              "    (0): BasicBlock(\n",
              "      (residual_function): Sequential(\n",
              "        (0): Conv2d(128, 256, kernel_size=(3, 3), stride=(2, 2), padding=(1, 1), bias=False)\n",
              "        (1): BatchNorm2d(256, eps=1e-05, momentum=0.1, affine=True, track_running_stats=True)\n",
              "        (2): ReLU(inplace=True)\n",
              "        (3): Conv2d(256, 256, kernel_size=(3, 3), stride=(1, 1), padding=(1, 1), bias=False)\n",
              "        (4): BatchNorm2d(256, eps=1e-05, momentum=0.1, affine=True, track_running_stats=True)\n",
              "      )\n",
              "      (shortcut): Sequential(\n",
              "        (0): Conv2d(128, 256, kernel_size=(1, 1), stride=(2, 2), bias=False)\n",
              "        (1): BatchNorm2d(256, eps=1e-05, momentum=0.1, affine=True, track_running_stats=True)\n",
              "      )\n",
              "    )\n",
              "    (1): BasicBlock(\n",
              "      (residual_function): Sequential(\n",
              "        (0): Conv2d(256, 256, kernel_size=(3, 3), stride=(1, 1), padding=(1, 1), bias=False)\n",
              "        (1): BatchNorm2d(256, eps=1e-05, momentum=0.1, affine=True, track_running_stats=True)\n",
              "        (2): ReLU(inplace=True)\n",
              "        (3): Conv2d(256, 256, kernel_size=(3, 3), stride=(1, 1), padding=(1, 1), bias=False)\n",
              "        (4): BatchNorm2d(256, eps=1e-05, momentum=0.1, affine=True, track_running_stats=True)\n",
              "      )\n",
              "      (shortcut): Sequential()\n",
              "    )\n",
              "  )\n",
              "  (conv5_x): Sequential(\n",
              "    (0): BasicBlock(\n",
              "      (residual_function): Sequential(\n",
              "        (0): Conv2d(256, 512, kernel_size=(3, 3), stride=(2, 2), padding=(1, 1), bias=False)\n",
              "        (1): BatchNorm2d(512, eps=1e-05, momentum=0.1, affine=True, track_running_stats=True)\n",
              "        (2): ReLU(inplace=True)\n",
              "        (3): Conv2d(512, 512, kernel_size=(3, 3), stride=(1, 1), padding=(1, 1), bias=False)\n",
              "        (4): BatchNorm2d(512, eps=1e-05, momentum=0.1, affine=True, track_running_stats=True)\n",
              "      )\n",
              "      (shortcut): Sequential(\n",
              "        (0): Conv2d(256, 512, kernel_size=(1, 1), stride=(2, 2), bias=False)\n",
              "        (1): BatchNorm2d(512, eps=1e-05, momentum=0.1, affine=True, track_running_stats=True)\n",
              "      )\n",
              "    )\n",
              "    (1): BasicBlock(\n",
              "      (residual_function): Sequential(\n",
              "        (0): Conv2d(512, 512, kernel_size=(3, 3), stride=(1, 1), padding=(1, 1), bias=False)\n",
              "        (1): BatchNorm2d(512, eps=1e-05, momentum=0.1, affine=True, track_running_stats=True)\n",
              "        (2): ReLU(inplace=True)\n",
              "        (3): Conv2d(512, 512, kernel_size=(3, 3), stride=(1, 1), padding=(1, 1), bias=False)\n",
              "        (4): BatchNorm2d(512, eps=1e-05, momentum=0.1, affine=True, track_running_stats=True)\n",
              "      )\n",
              "      (shortcut): Sequential()\n",
              "    )\n",
              "  )\n",
              "  (avg_pool): AdaptiveAvgPool2d(output_size=(1, 1))\n",
              "  (fc): Sequential(\n",
              "    (0): BatchNorm1d(512, eps=1e-05, momentum=0.1, affine=True, track_running_stats=True)\n",
              "    (1): Linear(in_features=512, out_features=100, bias=True)\n",
              "  )\n",
              "  (avgpool): AdaptiveAvgPool2d(output_size=(1, 1))\n",
              ")"
            ]
          },
          "metadata": {
            "tags": []
          },
          "execution_count": 94
        }
      ]
    },
    {
      "cell_type": "code",
      "metadata": {
        "id": "-ReVTFNfWI7-",
        "colab_type": "code",
        "colab": {}
      },
      "source": [
        "from torch.optim import lr_scheduler \n",
        "optimizer = torch.optim.Adam(model.parameters(), lr=0.001)\n",
        "scheduler = lr_scheduler.ReduceLROnPlateau(optimizer, 'min')"
      ],
      "execution_count": 0,
      "outputs": []
    },
    {
      "cell_type": "code",
      "metadata": {
        "id": "OYoCZ3nAWJSr",
        "colab_type": "code",
        "outputId": "3bd6e7c1-90e0-4a4f-cb36-c725d3b6435b",
        "colab": {
          "base_uri": "https://localhost:8080/",
          "height": 1000
        }
      },
      "source": [
        "# Let's make sure we always start from scratch (that is,\n",
        "# without starting from parameters from a previous run).\n",
        "#for module in model.children():\n",
        "#  module.reset_parameters()\n",
        "\n",
        "info = []\n",
        "fig, ax = plt.subplots(2, 1, sharex=True)\n",
        "num_steps = 50000\n",
        "num_steps_per_val = 500\n",
        "best_val_err = 1.0\n",
        "for step in range(num_steps):\n",
        "  train_loss, train_err = train_step()\n",
        "  if step % num_steps_per_val == 0:\n",
        "    val_loss, val_err = val()\n",
        "    scheduler.step(val_loss) \n",
        "    optimizer.step()\n",
        "    print('Step {:5d}: Obtained a best validation error of {:.3f}. The validation loss is {:.3f}.'.format(step, best_val_err, val_loss))\n",
        "    if val_err < best_val_err:\n",
        "      best_val_err = val_err\n",
        "    info.append([step, train_loss, val_loss, train_err, val_err])\n",
        "    x, y11, y12, y21, y22 = zip(*info)\n",
        "    ax[0].plot(x, y11, x, y12)\n",
        "    ax[0].legend(['Train loss', 'Val loss'])\n",
        "    ax[1].plot(x, y21, x, y22)\n",
        "    ax[1].legend(['Train err', 'Val err'])\n",
        "    ax[1].set_ylim([0.0, 0.25])"
      ],
      "execution_count": 96,
      "outputs": [
        {
          "output_type": "stream",
          "text": [
            "Step     0: Obtained a best validation error of 1.000. The validation loss is 4.605.\n",
            "Step   500: Obtained a best validation error of 0.989. The validation loss is 3.986.\n",
            "Step  1000: Obtained a best validation error of 0.872. The validation loss is 3.588.\n",
            "Step  1500: Obtained a best validation error of 0.843. The validation loss is 3.392.\n",
            "Step  2000: Obtained a best validation error of 0.792. The validation loss is 2.966.\n",
            "Step  2500: Obtained a best validation error of 0.722. The validation loss is 2.769.\n",
            "Step  3000: Obtained a best validation error of 0.682. The validation loss is 2.707.\n",
            "Step  3500: Obtained a best validation error of 0.682. The validation loss is 2.476.\n",
            "Step  4000: Obtained a best validation error of 0.628. The validation loss is 3.008.\n",
            "Step  4500: Obtained a best validation error of 0.628. The validation loss is 2.190.\n",
            "Step  5000: Obtained a best validation error of 0.568. The validation loss is 2.218.\n",
            "Step  5500: Obtained a best validation error of 0.568. The validation loss is 2.153.\n",
            "Step  6000: Obtained a best validation error of 0.562. The validation loss is 2.061.\n",
            "Step  6500: Obtained a best validation error of 0.540. The validation loss is 1.973.\n",
            "Step  7000: Obtained a best validation error of 0.516. The validation loss is 2.006.\n",
            "Step  7500: Obtained a best validation error of 0.516. The validation loss is 2.046.\n",
            "Step  8000: Obtained a best validation error of 0.516. The validation loss is 1.907.\n",
            "Step  8500: Obtained a best validation error of 0.491. The validation loss is 1.910.\n",
            "Step  9000: Obtained a best validation error of 0.489. The validation loss is 1.881.\n",
            "Step  9500: Obtained a best validation error of 0.479. The validation loss is 1.897.\n",
            "Step 10000: Obtained a best validation error of 0.475. The validation loss is 1.820.\n",
            "Step 10500: Obtained a best validation error of 0.460. The validation loss is 1.916.\n",
            "Step 11000: Obtained a best validation error of 0.458. The validation loss is 1.796.\n",
            "Step 11500: Obtained a best validation error of 0.450. The validation loss is 1.827.\n",
            "Step 12000: Obtained a best validation error of 0.450. The validation loss is 1.884.\n",
            "Step 12500: Obtained a best validation error of 0.450. The validation loss is 1.904.\n",
            "Step 13000: Obtained a best validation error of 0.450. The validation loss is 1.878.\n",
            "Step 13500: Obtained a best validation error of 0.442. The validation loss is 1.840.\n",
            "Step 14000: Obtained a best validation error of 0.434. The validation loss is 1.934.\n",
            "Step 14500: Obtained a best validation error of 0.434. The validation loss is 1.931.\n",
            "Step 15000: Obtained a best validation error of 0.434. The validation loss is 1.918.\n",
            "Step 15500: Obtained a best validation error of 0.434. The validation loss is 2.056.\n",
            "Step 16000: Obtained a best validation error of 0.434. The validation loss is 1.964.\n",
            "Step 16500: Obtained a best validation error of 0.434. The validation loss is 2.020.\n",
            "Step 17000: Obtained a best validation error of 0.434. The validation loss is 1.836.\n",
            "Step 17500: Obtained a best validation error of 0.409. The validation loss is 1.856.\n",
            "Step 18000: Obtained a best validation error of 0.408. The validation loss is 1.892.\n",
            "Step 18500: Obtained a best validation error of 0.403. The validation loss is 1.887.\n",
            "Step 19000: Obtained a best validation error of 0.403. The validation loss is 1.896.\n",
            "Step 19500: Obtained a best validation error of 0.403. The validation loss is 1.933.\n",
            "Step 20000: Obtained a best validation error of 0.403. The validation loss is 1.982.\n",
            "Step 20500: Obtained a best validation error of 0.403. The validation loss is 2.012.\n",
            "Step 21000: Obtained a best validation error of 0.403. The validation loss is 1.996.\n",
            "Step 21500: Obtained a best validation error of 0.403. The validation loss is 2.021.\n",
            "Step 22000: Obtained a best validation error of 0.403. The validation loss is 2.034.\n",
            "Step 22500: Obtained a best validation error of 0.403. The validation loss is 1.946.\n",
            "Step 23000: Obtained a best validation error of 0.395. The validation loss is 1.979.\n",
            "Step 23500: Obtained a best validation error of 0.395. The validation loss is 1.959.\n",
            "Step 24000: Obtained a best validation error of 0.390. The validation loss is 1.952.\n",
            "Step 24500: Obtained a best validation error of 0.390. The validation loss is 1.993.\n",
            "Step 25000: Obtained a best validation error of 0.389. The validation loss is 2.015.\n",
            "Step 25500: Obtained a best validation error of 0.389. The validation loss is 2.015.\n",
            "Step 26000: Obtained a best validation error of 0.387. The validation loss is 2.029.\n",
            "Step 26500: Obtained a best validation error of 0.387. The validation loss is 2.047.\n",
            "Step 27000: Obtained a best validation error of 0.387. The validation loss is 2.118.\n",
            "Step 27500: Obtained a best validation error of 0.387. The validation loss is 2.115.\n",
            "Step 28000: Obtained a best validation error of 0.387. The validation loss is 2.087.\n",
            "Step 28500: Obtained a best validation error of 0.387. The validation loss is 2.076.\n",
            "Step 29000: Obtained a best validation error of 0.387. The validation loss is 2.089.\n",
            "Step 29500: Obtained a best validation error of 0.387. The validation loss is 2.087.\n",
            "Step 30000: Obtained a best validation error of 0.387. The validation loss is 2.090.\n",
            "Step 30500: Obtained a best validation error of 0.387. The validation loss is 2.102.\n",
            "Step 31000: Obtained a best validation error of 0.387. The validation loss is 2.120.\n",
            "Step 31500: Obtained a best validation error of 0.387. The validation loss is 2.110.\n",
            "Step 32000: Obtained a best validation error of 0.386. The validation loss is 2.129.\n",
            "Step 32500: Obtained a best validation error of 0.386. The validation loss is 2.134.\n",
            "Step 33000: Obtained a best validation error of 0.386. The validation loss is 2.144.\n",
            "Step 33500: Obtained a best validation error of 0.386. The validation loss is 2.151.\n",
            "Step 34000: Obtained a best validation error of 0.384. The validation loss is 2.140.\n",
            "Step 34500: Obtained a best validation error of 0.384. The validation loss is 2.136.\n",
            "Step 35000: Obtained a best validation error of 0.383. The validation loss is 2.138.\n",
            "Step 35500: Obtained a best validation error of 0.382. The validation loss is 2.157.\n",
            "Step 36000: Obtained a best validation error of 0.382. The validation loss is 2.149.\n",
            "Step 36500: Obtained a best validation error of 0.382. The validation loss is 2.158.\n",
            "Step 37000: Obtained a best validation error of 0.381. The validation loss is 2.168.\n",
            "Step 37500: Obtained a best validation error of 0.381. The validation loss is 2.169.\n",
            "Step 38000: Obtained a best validation error of 0.380. The validation loss is 2.176.\n",
            "Step 38500: Obtained a best validation error of 0.380. The validation loss is 2.177.\n",
            "Step 39000: Obtained a best validation error of 0.380. The validation loss is 2.167.\n",
            "Step 39500: Obtained a best validation error of 0.380. The validation loss is 2.175.\n",
            "Step 40000: Obtained a best validation error of 0.380. The validation loss is 2.178.\n",
            "Step 40500: Obtained a best validation error of 0.380. The validation loss is 2.173.\n",
            "Step 41000: Obtained a best validation error of 0.380. The validation loss is 2.170.\n",
            "Step 41500: Obtained a best validation error of 0.380. The validation loss is 2.180.\n",
            "Step 42000: Obtained a best validation error of 0.380. The validation loss is 2.197.\n",
            "Step 42500: Obtained a best validation error of 0.380. The validation loss is 2.190.\n",
            "Step 43000: Obtained a best validation error of 0.380. The validation loss is 2.178.\n",
            "Step 43500: Obtained a best validation error of 0.380. The validation loss is 2.204.\n",
            "Step 44000: Obtained a best validation error of 0.380. The validation loss is 2.214.\n",
            "Step 44500: Obtained a best validation error of 0.380. The validation loss is 2.200.\n",
            "Step 45000: Obtained a best validation error of 0.380. The validation loss is 2.210.\n",
            "Step 45500: Obtained a best validation error of 0.380. The validation loss is 2.198.\n",
            "Step 46000: Obtained a best validation error of 0.380. The validation loss is 2.203.\n",
            "Step 46500: Obtained a best validation error of 0.379. The validation loss is 2.200.\n",
            "Step 47000: Obtained a best validation error of 0.379. The validation loss is 2.211.\n",
            "Step 47500: Obtained a best validation error of 0.378. The validation loss is 2.213.\n",
            "Step 48000: Obtained a best validation error of 0.378. The validation loss is 2.202.\n",
            "Step 48500: Obtained a best validation error of 0.378. The validation loss is 2.207.\n",
            "Step 49000: Obtained a best validation error of 0.378. The validation loss is 2.208.\n",
            "Step 49500: Obtained a best validation error of 0.378. The validation loss is 2.202.\n"
          ],
          "name": "stdout"
        },
        {
          "output_type": "display_data",
          "data": {
            "image/png": "[encoded data removed]",
            "text/plain": [
              "<Figure size 432x288 with 2 Axes>"
            ]
          },
          "metadata": {
            "tags": []
          }
        }
      ]
    },
    {
      "cell_type": "code",
      "metadata": {
        "id": "v33GgCXkEjZR",
        "colab_type": "code",
        "colab": {}
      },
      "source": [
        "model_path = \"/content/drive/My Drive/result_script2.pth\"\n",
        "torch.save(model, model_path) "
      ],
      "execution_count": 0,
      "outputs": []
    },
    {
      "cell_type": "code",
      "metadata": {
        "id": "PFNI0HYiwBoU",
        "colab_type": "code",
        "colab": {}
      },
      "source": [
        "path = \"/content/drive/My Drive/result_script2.txt\"\n",
        "prediction = test()\n",
        "from typing import List\n",
        "def write_prediction(prediction: List[int], filename: str):\n",
        "    with open(filename, 'w') as fp:\n",
        "        print('Id,Category', file=fp)\n",
        "        for i, pred in enumerate(prediction):\n",
        "            print(f'{i},{pred}', file=fp)\n",
        "write_prediction(prediction, path)"
      ],
      "execution_count": 0,
      "outputs": []
    }
  ]
}