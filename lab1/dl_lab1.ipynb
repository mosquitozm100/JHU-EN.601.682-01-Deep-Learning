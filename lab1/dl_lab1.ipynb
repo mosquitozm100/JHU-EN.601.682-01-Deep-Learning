{
  "nbformat": 4,
  "nbformat_minor": 0,
  "metadata": {
    "colab": {
      "name": "dl_lab1.ipynb",
      "provenance": [],
      "collapsed_sections": []
    },
    "kernelspec": {
      "name": "python3",
      "display_name": "Python 3"
    },
    "accelerator": "GPU"
  },
  "cells": [
    {
      "cell_type": "markdown",
      "metadata": {
        "id": "PU39Iz9uu5Fs",
        "colab_type": "text"
      },
      "source": [
        "# Machine Learning: Deep Learning - Spring 2020\n",
        "# Lab 1: Setting up the environment\n",
        "\n",
        "\n",
        "\n",
        "\n",
        "\n"
      ]
    },
    {
      "cell_type": "markdown",
      "metadata": {
        "id": "9nHQyrj9wmy9",
        "colab_type": "text"
      },
      "source": [
        "## Free GPU from Google - Google Colab\n",
        "\n",
        "https://colab.research.google.com/\n",
        "\n",
        "* Colab is a *jupyter notebook* hosted by Google.\n",
        "    * What is jupyter notebook? https://jupyter-notebook.readthedocs.io/en/stable/\n",
        "* You have to do extra steps to enable the free GPU: \n",
        "    * (menubar) Runtime -> Change runtime type -> Choose GPU under Hardware accelerator\n",
        "* The VM that hosts a notebook stays alive (if something is running) for about 2h if you close the webpage, or about 24h if you keep it open.\n",
        "* No persistent storage unless you mount external storage. Every time you open a notebook you have to download the files you need. Any saved files will be gone. Following are workarounds.\n",
        "    * Google drive\n",
        "    * Google cloud bucket\n",
        "    * Github\n",
        "\n",
        "**Exercise: Enable GPU for this notebook, and run the next block `shift+enter` to verify.**\n",
        "\n",
        "You should see `Tesla T4` or `K80` or `P100`, depending on how much Google loves you.\n"
      ]
    },
    {
      "cell_type": "code",
      "metadata": {
        "id": "cPsdhfEfx6og",
        "colab_type": "code",
        "colab": {}
      },
      "source": [
        "!nvidia-smi"
      ],
      "execution_count": 0,
      "outputs": []
    },
    {
      "cell_type": "markdown",
      "metadata": {
        "id": "zVjF3Y2M12w5",
        "colab_type": "text"
      },
      "source": [
        "**Example: Mount your google drive**\n",
        "\n",
        "Run the block below. You will need to click a link to login. Unfortunately you have to do this every time you start a notebook. \n",
        "\n",
        "Why use %cd instead of !cd? https://ipython.readthedocs.io/en/stable/interactive/magics.html#magic-cd "
      ]
    },
    {
      "cell_type": "code",
      "metadata": {
        "id": "Z3VC21j_x7Vk",
        "colab_type": "code",
        "colab": {}
      },
      "source": [
        "from google.colab import drive\n",
        "drive.flush_and_unmount()\n",
        "drive.mount('/content/gdrive')\n",
        "%cd /content/gdrive/My\\ Drive/\n",
        "!ls"
      ],
      "execution_count": 0,
      "outputs": []
    },
    {
      "cell_type": "markdown",
      "metadata": {
        "id": "tvI24TGm7OKm",
        "colab_type": "text"
      },
      "source": [
        "**Exercise: create an empty file \"blah.txt\" in your google drive.**\n",
        "\n",
        "Hint: you have already `cd` into your google drive. Just create the file.\n",
        "\n",
        "Hint: `touch` command https://linux.die.net/man/1/touch\n",
        "\n",
        "Hint: to run a shell command, prefix the command with `!`"
      ]
    },
    {
      "cell_type": "code",
      "metadata": {
        "id": "miCXTnbC8a_f",
        "colab_type": "code",
        "colab": {}
      },
      "source": [
        "# create file\n",
        "!ls"
      ],
      "execution_count": 0,
      "outputs": []
    },
    {
      "cell_type": "markdown",
      "metadata": {
        "id": "Td20CIcK6T73",
        "colab_type": "text"
      },
      "source": [
        "**Example: run python non-interactively**\n",
        "\n",
        "You don't have to run python interactively with Colab. Just put your python code in Google drive. or clone it from github. or download it from a webserver."
      ]
    },
    {
      "cell_type": "code",
      "metadata": {
        "id": "OrBNb4crAu3M",
        "colab_type": "code",
        "colab": {}
      },
      "source": [
        "# Example using git\n",
        "%cd\n",
        "!git clone https://github.com/urill/dikbut.git\n",
        "%cd dikbut\n",
        "!python dikbut.py"
      ],
      "execution_count": 0,
      "outputs": []
    },
    {
      "cell_type": "markdown",
      "metadata": {
        "id": "K0TE_pxuB4ZE",
        "colab_type": "text"
      },
      "source": [
        "## pytorch and friends\n",
        "\n",
        "While you can do pretty much anything on Colab, we recommend that you keep a local development environment. Local development makes debugging much easier because you can use a GUI debugger.\n",
        "\n",
        "Please follow the accompanying lab guide `tool_tutorials.pdf`. If you are familiar with any of the tools, feel free to skip its section. \n",
        "\n",
        "For the following labs, assignments, and the final project, we assume you have at least understand the syntax of these tools:\n",
        "\n",
        "* Python 3\n",
        "* jupyter notebook\n",
        "* numpy\n",
        "* matplotlib\n",
        "* pytorch"
      ]
    }
  ]
}